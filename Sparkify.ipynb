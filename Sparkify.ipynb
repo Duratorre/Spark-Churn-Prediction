{
 "cells": [
  {
   "cell_type": "markdown",
   "metadata": {},
   "source": [
    "# Sparkify Churn Prediction"
   ]
  },
  {
   "cell_type": "markdown",
   "metadata": {},
   "source": [
    "In this notebook we'll analyze a small subset (128MB) of a fictitious dataset (12GB) containing records of users of a music streaming service called Sparkify. After properly defining churn, we will try to predict which customers are at risk of churn using different machine learning models. "
   ]
  },
  {
   "cell_type": "markdown",
   "metadata": {},
   "source": [
    "Let's load necessary libraries first."
   ]
  },
  {
   "cell_type": "code",
   "execution_count": 1,
   "metadata": {},
   "outputs": [],
   "source": [
    "# import libraries\n",
    "import pyspark\n",
    "from pyspark.sql.session import SparkSession\n",
    "from pyspark.sql.functions import udf, min, max, avg, sum as Fsum, concat, lit, count, when, isnan, col, isnull, to_date, from_unixtime, desc, asc, countDistinct, datediff, lag, round as Fround\n",
    "from pyspark.sql.types import IntegerType, StringType, DateType, TimestampType, FloatType, DoubleType\n",
    "from pyspark.sql.window import Window\n",
    "from pyspark.ml.feature import OneHotEncoder, StringIndexer, VectorAssembler, StandardScaler\n",
    "from pyspark.ml import Pipeline\n",
    "from pyspark.ml.classification import RandomForestClassifier, LogisticRegression, LinearSVC\n",
    "from pyspark.ml.evaluation import MulticlassClassificationEvaluator\n",
    "from pyspark.ml.tuning import CrossValidator, ParamGridBuilder\n",
    "import datetime\n",
    "import numpy as np\n",
    "import pandas as pd\n",
    "import matplotlib.pyplot as plt\n",
    "from sklearn.metrics import classification_report\n",
    "import seaborn as sns"
   ]
  },
  {
   "cell_type": "code",
   "execution_count": 2,
   "metadata": {},
   "outputs": [],
   "source": [
    "# create a Spark session\n",
    "spark = SparkSession \\\n",
    "    .builder \\\n",
    "    .appName(\"Churn Prediction\") \\\n",
    "    .getOrCreate()"
   ]
  },
  {
   "cell_type": "markdown",
   "metadata": {},
   "source": [
    "## Load and Clean Dataset\n",
    "\n",
    "The file `mini_sparkify_event_data.json` contains the small subset of the dataset we will be working on. First, let's check for missing data, i.e. records without user ids or other values missing. "
   ]
  },
  {
   "cell_type": "code",
   "execution_count": 3,
   "metadata": {},
   "outputs": [],
   "source": [
    "# read in the data\n",
    "path = \"mini_sparkify_event_data.json\"\n",
    "df = spark.read.json(path)"
   ]
  },
  {
   "cell_type": "markdown",
   "metadata": {},
   "source": [
    "Let's find out the data type of each variables in the dataset."
   ]
  },
  {
   "cell_type": "code",
   "execution_count": 4,
   "metadata": {},
   "outputs": [
    {
     "name": "stdout",
     "output_type": "stream",
     "text": [
      "root\n",
      " |-- artist: string (nullable = true)\n",
      " |-- auth: string (nullable = true)\n",
      " |-- firstName: string (nullable = true)\n",
      " |-- gender: string (nullable = true)\n",
      " |-- itemInSession: long (nullable = true)\n",
      " |-- lastName: string (nullable = true)\n",
      " |-- length: double (nullable = true)\n",
      " |-- level: string (nullable = true)\n",
      " |-- location: string (nullable = true)\n",
      " |-- method: string (nullable = true)\n",
      " |-- page: string (nullable = true)\n",
      " |-- registration: long (nullable = true)\n",
      " |-- sessionId: long (nullable = true)\n",
      " |-- song: string (nullable = true)\n",
      " |-- status: long (nullable = true)\n",
      " |-- ts: long (nullable = true)\n",
      " |-- userAgent: string (nullable = true)\n",
      " |-- userId: string (nullable = true)\n",
      "\n"
     ]
    }
   ],
   "source": [
    "df.printSchema()"
   ]
  },
  {
   "cell_type": "markdown",
   "metadata": {},
   "source": [
    "As a first step, let's check for empty values and nulls in the dataset."
   ]
  },
  {
   "cell_type": "code",
   "execution_count": 5,
   "metadata": {},
   "outputs": [
    {
     "name": "stdout",
     "output_type": "stream",
     "text": [
      "empty: [0, 0, 0, 0, 0, 0, 0, 0, 0, 0, 0, 0, 0, 0, 0, 0, 0, 8346]\n",
      "nans: [0, 0, 0, 0, 0, 0, 0, 0, 0, 0, 0, 0, 0, 0, 0, 0, 0, 0]\n",
      "nulls: [58392, 0, 8346, 8346, 0, 8346, 58392, 0, 8346, 0, 0, 8346, 0, 58392, 0, 0, 8346, 0]\n"
     ]
    }
   ],
   "source": [
    "# checking number of nulls and empties in the columns\n",
    "\n",
    "empty = []\n",
    "nans = []\n",
    "nulls = []\n",
    "\n",
    "for c in df.columns:\n",
    "    empty.append(df.filter(col(c) == '').count())\n",
    "    nans.append(df.filter(isnan(c)).count())\n",
    "    nulls.append(df.filter(isnull(c)).count())\n",
    "    \n",
    "\n",
    "print('empty: {}\\nnans: {}\\nnulls: {}'.format(empty, nans, nulls))"
   ]
  },
  {
   "cell_type": "markdown",
   "metadata": {},
   "source": [
    "In the dataframe there are no nans, empty values are present only in the last column (`userId`), and there are some null values spread across. Let's see which columns have null values."
   ]
  },
  {
   "cell_type": "code",
   "execution_count": 6,
   "metadata": {},
   "outputs": [
    {
     "name": "stdout",
     "output_type": "stream",
     "text": [
      "+------+----+---------+------+-------------+--------+------+-----+--------+------+----+------------+---------+-----+------+---+---------+------+\n",
      "|artist|auth|firstName|gender|itemInSession|lastName|length|level|location|method|page|registration|sessionId| song|status| ts|userAgent|userId|\n",
      "+------+----+---------+------+-------------+--------+------+-----+--------+------+----+------------+---------+-----+------+---+---------+------+\n",
      "| 58392|   0|     8346|  8346|            0|    8346| 58392|    0|    8346|     0|   0|        8346|        0|58392|     0|  0|     8346|     0|\n",
      "+------+----+---------+------+-------------+--------+------+-----+--------+------+----+------------+---------+-----+------+---+---------+------+\n",
      "\n"
     ]
    }
   ],
   "source": [
    "# check number of nulls for each column name\n",
    "df.select([count(when(isnull(c), c)).alias(c) for c in df.columns]).show()"
   ]
  },
  {
   "cell_type": "markdown",
   "metadata": {},
   "source": [
    "At first, the number of nulls (58392) seems related to the fact that some records have no song name, therefore also `artist` and `length` are null. Let's check if this assumption is true."
   ]
  },
  {
   "cell_type": "code",
   "execution_count": 7,
   "metadata": {},
   "outputs": [
    {
     "data": {
      "text/plain": [
       "58392"
      ]
     },
     "execution_count": 7,
     "metadata": {},
     "output_type": "execute_result"
    }
   ],
   "source": [
    "# check if nulls for the different columns are related to the same records:\n",
    "df.filter(isnull(df.artist) & isnull(df.length) & isnull(df.song)).count()"
   ]
  },
  {
   "cell_type": "markdown",
   "metadata": {},
   "source": [
    "The other columns with null values have 8346 null records. These missing values seem related to those rows with no `userId`. Let's check this assumption."
   ]
  },
  {
   "cell_type": "code",
   "execution_count": 8,
   "metadata": {},
   "outputs": [
    {
     "data": {
      "text/plain": [
       "8346"
      ]
     },
     "execution_count": 8,
     "metadata": {},
     "output_type": "execute_result"
    }
   ],
   "source": [
    "# check if nulls due to missing userId are related to the same records:\n",
    "df.filter(isnull(df.firstName) & isnull(df.gender) & isnull(df.lastName) & isnull(df.location) & isnull(df.registration)\n",
    "         & isnull(df.userAgent)).count()"
   ]
  },
  {
   "cell_type": "markdown",
   "metadata": {},
   "source": [
    "From the results of the two cells above, we can see that the two assumptions made are correct, therefore there are null values in those records where there's no indication about users or where there's no song played.\n",
    "\n",
    "Let's check now what happens when there's no user information."
   ]
  },
  {
   "cell_type": "code",
   "execution_count": 9,
   "metadata": {},
   "outputs": [
    {
     "name": "stdout",
     "output_type": "stream",
     "text": [
      "+----------+-------------+\n",
      "|      auth|count(userId)|\n",
      "+----------+-------------+\n",
      "|Logged Out|         8249|\n",
      "|     Guest|           97|\n",
      "+----------+-------------+\n",
      "\n"
     ]
    }
   ],
   "source": [
    "# check the status of those rows with no userId\n",
    "df.filter(col(\"userId\")==\"\").groupby(\"auth\").agg(count(\"userId\")).show()"
   ]
  },
  {
   "cell_type": "markdown",
   "metadata": {},
   "source": [
    "The records with no `userId` are those when no user is logged in or when the user still hasn't subscribed to the service. Let's check the actions taken for these records."
   ]
  },
  {
   "cell_type": "code",
   "execution_count": 10,
   "metadata": {},
   "outputs": [
    {
     "name": "stdout",
     "output_type": "stream",
     "text": [
      "+-------------------+\n",
      "|               page|\n",
      "+-------------------+\n",
      "|               Home|\n",
      "|              About|\n",
      "|Submit Registration|\n",
      "|              Login|\n",
      "|           Register|\n",
      "|               Help|\n",
      "|              Error|\n",
      "+-------------------+\n",
      "\n"
     ]
    }
   ],
   "source": [
    "# check actions performed when no user is logged in\n",
    "df.select(\"page\").filter(df.userId=='').dropDuplicates().show()"
   ]
  },
  {
   "cell_type": "markdown",
   "metadata": {},
   "source": [
    "Since we can't really use the information available in those rows with no `userId` to predict customer churn (it's impossible to relate to who took a certain action), let's filter out those rows."
   ]
  },
  {
   "cell_type": "code",
   "execution_count": 11,
   "metadata": {},
   "outputs": [],
   "source": [
    "df = df.filter(df.userId != \"\")"
   ]
  },
  {
   "cell_type": "markdown",
   "metadata": {},
   "source": [
    "## Exploratory Data Analysis"
   ]
  },
  {
   "cell_type": "markdown",
   "metadata": {},
   "source": [
    "Now that the records with no user have been filtered out, let's get the total number of unique users and the amount of nulls in the columns that showed null values. These should be equal to the number of nulls due to those records with no songs (58392) minus the number of records with no user (8346), thus 50046. "
   ]
  },
  {
   "cell_type": "code",
   "execution_count": 12,
   "metadata": {},
   "outputs": [
    {
     "data": {
      "text/plain": [
       "225"
      ]
     },
     "execution_count": 12,
     "metadata": {},
     "output_type": "execute_result"
    }
   ],
   "source": [
    "# total number of unique users\n",
    "df.select(\"userid\").distinct().count()"
   ]
  },
  {
   "cell_type": "code",
   "execution_count": 13,
   "metadata": {},
   "outputs": [
    {
     "name": "stdout",
     "output_type": "stream",
     "text": [
      "0 50046\n"
     ]
    }
   ],
   "source": [
    "# check now the amount of nulls\n",
    "print(df.filter(isnull(df.firstName) & isnull(df.gender) & isnull(df.lastName) & isnull(df.location) & isnull(df.registration)\n",
    "         & isnull(df.userAgent)).count(),\n",
    "df.filter(isnull(df.artist) & isnull(df.length) & isnull(df.song)).count())"
   ]
  },
  {
   "cell_type": "markdown",
   "metadata": {},
   "source": [
    "The cells above return the expected numbers. The amount of nulls is now related only to those records with no songs played. Let's plot the distribution of actions performed by users when they are not playing songs, i.e. when `page` column does not show *NextSong* as its value."
   ]
  },
  {
   "cell_type": "code",
   "execution_count": 14,
   "metadata": {},
   "outputs": [
    {
     "data": {
      "image/png": "[encoded data removed]",
      "text/plain": [
       "<matplotlib.figure.Figure at 0x7f2806de3400>"
      ]
     },
     "metadata": {
      "needs_background": "light"
     },
     "output_type": "display_data"
    }
   ],
   "source": [
    "# actions performed when action is not \"NextSong\"\n",
    "actions = df.select(\"page\").filter(df.page!=\"NextSong\").groupBy(\"page\").agg({\"page\":\"count\"}).withColumnRenamed(\"Count(page)\", \"count\").orderBy(col(\"count\").desc()).toPandas()\n",
    "actions.plot.bar(x=\"page\", figsize=(20,10), legend=False, fontsize=20)\n",
    "plt.xlabel(\"Action\", fontsize=20)\n",
    "plt.ylabel(\"Total Action Count\", fontsize=20)\n",
    "plt.show()"
   ]
  },
  {
   "cell_type": "markdown",
   "metadata": {},
   "source": [
    "*Cancellation confirmation* is the page that shows up once a user has submitted a request to cease their subscription. Let's see what kind of subscription the users who decide to unsubscribe have, whether it be paid or free."
   ]
  },
  {
   "cell_type": "code",
   "execution_count": 15,
   "metadata": {},
   "outputs": [
    {
     "name": "stdout",
     "output_type": "stream",
     "text": [
      "+-----+------------+\n",
      "|level|count(level)|\n",
      "+-----+------------+\n",
      "| free|          21|\n",
      "| paid|          31|\n",
      "+-----+------------+\n",
      "\n"
     ]
    }
   ],
   "source": [
    "# number of cancellation by type\n",
    "df.filter(df.page==\"Cancellation Confirmation\").select(\"level\").groupby(\"level\").agg({'level':'count'}).show()"
   ]
  },
  {
   "cell_type": "markdown",
   "metadata": {},
   "source": [
    "### Define Churn"
   ]
  },
  {
   "cell_type": "markdown",
   "metadata": {},
   "source": [
    "Let's now define a rule to determine churn users, i.e. those users who leave the service: these will be those users that list in `page` the voice *Cancellation Confirmation*."
   ]
  },
  {
   "cell_type": "code",
   "execution_count": 16,
   "metadata": {},
   "outputs": [],
   "source": [
    "# mark as churn those records with Cancellation Confirmation\n",
    "make_churn = udf(lambda x: 1 if x==\"Cancellation Confirmation\" else 0, IntegerType())\n",
    "df = df.withColumn(\"churn\", make_churn(df.page))"
   ]
  },
  {
   "cell_type": "markdown",
   "metadata": {},
   "source": [
    "## Exploratory Data Analysis - After Churn Definition"
   ]
  },
  {
   "cell_type": "markdown",
   "metadata": {},
   "source": [
    "We can now examine the behaviour of churn and not churn users and their differences."
   ]
  },
  {
   "cell_type": "code",
   "execution_count": 17,
   "metadata": {},
   "outputs": [
    {
     "name": "stdout",
     "output_type": "stream",
     "text": [
      "No.churn users:  52 \n",
      "No. not churn users:  173\n"
     ]
    }
   ],
   "source": [
    "# get lists of churn and not churn users, churn users have churn=1, whereas not churn users have churn=0\n",
    "churn_users = np.array(df.select(\"userId\").filter(df.churn==1).dropDuplicates().toPandas()[\"userId\"])\n",
    "users = np.array(df.select(\"userId\").filter(df.churn==0).dropDuplicates().toPandas()[\"userId\"])\n",
    "not_churn_users = np.setdiff1d(users, churn_users)\n",
    "\n",
    "not_churn_users = list(not_churn_users)\n",
    "churn_users = list(churn_users)\n",
    "n_churn_users = len(churn_users)\n",
    "n_not_churn_users = len(not_churn_users)\n",
    "\n",
    "print(\"No.churn users: \", n_churn_users, \"\\nNo. not churn users: \", n_not_churn_users)"
   ]
  },
  {
   "cell_type": "markdown",
   "metadata": {},
   "source": [
    "Once we determined churn and not churn users, let's compare the average behaviours among the two groups of users."
   ]
  },
  {
   "cell_type": "code",
   "execution_count": 18,
   "metadata": {},
   "outputs": [
    {
     "data": {
      "text/html": [
       "<div>\n",
       "<style scoped>\n",
       "    .dataframe tbody tr th:only-of-type {\n",
       "        vertical-align: middle;\n",
       "    }\n",
       "\n",
       "    .dataframe tbody tr th {\n",
       "        vertical-align: top;\n",
       "    }\n",
       "\n",
       "    .dataframe thead th {\n",
       "        text-align: right;\n",
       "    }\n",
       "</style>\n",
       "<table border=\"1\" class=\"dataframe\">\n",
       "  <thead>\n",
       "    <tr style=\"text-align: right;\">\n",
       "      <th></th>\n",
       "      <th>page</th>\n",
       "      <th>count</th>\n",
       "    </tr>\n",
       "  </thead>\n",
       "  <tbody>\n",
       "    <tr>\n",
       "      <th>0</th>\n",
       "      <td>NextSong</td>\n",
       "      <td>699.88</td>\n",
       "    </tr>\n",
       "    <tr>\n",
       "      <th>1</th>\n",
       "      <td>Thumbs Up</td>\n",
       "      <td>35.75</td>\n",
       "    </tr>\n",
       "    <tr>\n",
       "      <th>2</th>\n",
       "      <td>Home</td>\n",
       "      <td>32.15</td>\n",
       "    </tr>\n",
       "    <tr>\n",
       "      <th>3</th>\n",
       "      <td>Add to Playlist</td>\n",
       "      <td>19.96</td>\n",
       "    </tr>\n",
       "    <tr>\n",
       "      <th>4</th>\n",
       "      <td>Roll Advert</td>\n",
       "      <td>18.60</td>\n",
       "    </tr>\n",
       "    <tr>\n",
       "      <th>5</th>\n",
       "      <td>Add Friend</td>\n",
       "      <td>12.23</td>\n",
       "    </tr>\n",
       "    <tr>\n",
       "      <th>6</th>\n",
       "      <td>Logout</td>\n",
       "      <td>10.63</td>\n",
       "    </tr>\n",
       "    <tr>\n",
       "      <th>7</th>\n",
       "      <td>Thumbs Down</td>\n",
       "      <td>9.54</td>\n",
       "    </tr>\n",
       "    <tr>\n",
       "      <th>8</th>\n",
       "      <td>Downgrade</td>\n",
       "      <td>6.48</td>\n",
       "    </tr>\n",
       "    <tr>\n",
       "      <th>9</th>\n",
       "      <td>Settings</td>\n",
       "      <td>5.19</td>\n",
       "    </tr>\n",
       "    <tr>\n",
       "      <th>10</th>\n",
       "      <td>Help</td>\n",
       "      <td>4.60</td>\n",
       "    </tr>\n",
       "    <tr>\n",
       "      <th>11</th>\n",
       "      <td>Upgrade</td>\n",
       "      <td>2.15</td>\n",
       "    </tr>\n",
       "    <tr>\n",
       "      <th>12</th>\n",
       "      <td>Save Settings</td>\n",
       "      <td>1.12</td>\n",
       "    </tr>\n",
       "    <tr>\n",
       "      <th>13</th>\n",
       "      <td>About</td>\n",
       "      <td>1.08</td>\n",
       "    </tr>\n",
       "    <tr>\n",
       "      <th>14</th>\n",
       "      <td>Cancel</td>\n",
       "      <td>1.00</td>\n",
       "    </tr>\n",
       "    <tr>\n",
       "      <th>15</th>\n",
       "      <td>Cancellation Confirmation</td>\n",
       "      <td>1.00</td>\n",
       "    </tr>\n",
       "    <tr>\n",
       "      <th>16</th>\n",
       "      <td>Error</td>\n",
       "      <td>0.62</td>\n",
       "    </tr>\n",
       "    <tr>\n",
       "      <th>17</th>\n",
       "      <td>Submit Upgrade</td>\n",
       "      <td>0.62</td>\n",
       "    </tr>\n",
       "    <tr>\n",
       "      <th>18</th>\n",
       "      <td>Submit Downgrade</td>\n",
       "      <td>0.17</td>\n",
       "    </tr>\n",
       "  </tbody>\n",
       "</table>\n",
       "</div>"
      ],
      "text/plain": [
       "                         page   count\n",
       "0                    NextSong  699.88\n",
       "1                   Thumbs Up   35.75\n",
       "2                        Home   32.15\n",
       "3             Add to Playlist   19.96\n",
       "4                 Roll Advert   18.60\n",
       "5                  Add Friend   12.23\n",
       "6                      Logout   10.63\n",
       "7                 Thumbs Down    9.54\n",
       "8                   Downgrade    6.48\n",
       "9                    Settings    5.19\n",
       "10                       Help    4.60\n",
       "11                    Upgrade    2.15\n",
       "12              Save Settings    1.12\n",
       "13                      About    1.08\n",
       "14                     Cancel    1.00\n",
       "15  Cancellation Confirmation    1.00\n",
       "16                      Error    0.62\n",
       "17             Submit Upgrade    0.62\n",
       "18           Submit Downgrade    0.17"
      ]
     },
     "execution_count": 18,
     "metadata": {},
     "output_type": "execute_result"
    }
   ],
   "source": [
    "# get dataframe of actions performed on average by a churn user, ordered in descending order\n",
    "churn_df = df.filter(df.userId.isin(churn_users)).groupby(\"page\").agg(count(\"page\").alias(\"count\")).orderBy(col(\"count\").desc()).toPandas()\n",
    "churn_df[\"count\"] = round(churn_df[\"count\"]/n_churn_users, 2)\n",
    "churn_df"
   ]
  },
  {
   "cell_type": "code",
   "execution_count": 19,
   "metadata": {},
   "outputs": [
    {
     "data": {
      "text/html": [
       "<div>\n",
       "<style scoped>\n",
       "    .dataframe tbody tr th:only-of-type {\n",
       "        vertical-align: middle;\n",
       "    }\n",
       "\n",
       "    .dataframe tbody tr th {\n",
       "        vertical-align: top;\n",
       "    }\n",
       "\n",
       "    .dataframe thead th {\n",
       "        text-align: right;\n",
       "    }\n",
       "</style>\n",
       "<table border=\"1\" class=\"dataframe\">\n",
       "  <thead>\n",
       "    <tr style=\"text-align: right;\">\n",
       "      <th></th>\n",
       "      <th>page</th>\n",
       "      <th>count</th>\n",
       "    </tr>\n",
       "  </thead>\n",
       "  <tbody>\n",
       "    <tr>\n",
       "      <th>0</th>\n",
       "      <td>NextSong</td>\n",
       "      <td>1108.17</td>\n",
       "    </tr>\n",
       "    <tr>\n",
       "      <th>1</th>\n",
       "      <td>Thumbs Up</td>\n",
       "      <td>61.80</td>\n",
       "    </tr>\n",
       "    <tr>\n",
       "      <th>2</th>\n",
       "      <td>Home</td>\n",
       "      <td>48.61</td>\n",
       "    </tr>\n",
       "    <tr>\n",
       "      <th>3</th>\n",
       "      <td>Add to Playlist</td>\n",
       "      <td>31.72</td>\n",
       "    </tr>\n",
       "    <tr>\n",
       "      <th>4</th>\n",
       "      <td>Add Friend</td>\n",
       "      <td>21.05</td>\n",
       "    </tr>\n",
       "    <tr>\n",
       "      <th>5</th>\n",
       "      <td>Roll Advert</td>\n",
       "      <td>17.14</td>\n",
       "    </tr>\n",
       "    <tr>\n",
       "      <th>6</th>\n",
       "      <td>Logout</td>\n",
       "      <td>15.45</td>\n",
       "    </tr>\n",
       "    <tr>\n",
       "      <th>7</th>\n",
       "      <td>Thumbs Down</td>\n",
       "      <td>11.85</td>\n",
       "    </tr>\n",
       "    <tr>\n",
       "      <th>8</th>\n",
       "      <td>Downgrade</td>\n",
       "      <td>9.93</td>\n",
       "    </tr>\n",
       "    <tr>\n",
       "      <th>9</th>\n",
       "      <td>Settings</td>\n",
       "      <td>7.19</td>\n",
       "    </tr>\n",
       "    <tr>\n",
       "      <th>10</th>\n",
       "      <td>Help</td>\n",
       "      <td>7.02</td>\n",
       "    </tr>\n",
       "    <tr>\n",
       "      <th>11</th>\n",
       "      <td>About</td>\n",
       "      <td>2.54</td>\n",
       "    </tr>\n",
       "    <tr>\n",
       "      <th>12</th>\n",
       "      <td>Upgrade</td>\n",
       "      <td>2.24</td>\n",
       "    </tr>\n",
       "    <tr>\n",
       "      <th>13</th>\n",
       "      <td>Save Settings</td>\n",
       "      <td>1.46</td>\n",
       "    </tr>\n",
       "    <tr>\n",
       "      <th>14</th>\n",
       "      <td>Error</td>\n",
       "      <td>1.27</td>\n",
       "    </tr>\n",
       "    <tr>\n",
       "      <th>15</th>\n",
       "      <td>Submit Upgrade</td>\n",
       "      <td>0.73</td>\n",
       "    </tr>\n",
       "    <tr>\n",
       "      <th>16</th>\n",
       "      <td>Submit Downgrade</td>\n",
       "      <td>0.31</td>\n",
       "    </tr>\n",
       "  </tbody>\n",
       "</table>\n",
       "</div>"
      ],
      "text/plain": [
       "                page    count\n",
       "0           NextSong  1108.17\n",
       "1          Thumbs Up    61.80\n",
       "2               Home    48.61\n",
       "3    Add to Playlist    31.72\n",
       "4         Add Friend    21.05\n",
       "5        Roll Advert    17.14\n",
       "6             Logout    15.45\n",
       "7        Thumbs Down    11.85\n",
       "8          Downgrade     9.93\n",
       "9           Settings     7.19\n",
       "10              Help     7.02\n",
       "11             About     2.54\n",
       "12           Upgrade     2.24\n",
       "13     Save Settings     1.46\n",
       "14             Error     1.27\n",
       "15    Submit Upgrade     0.73\n",
       "16  Submit Downgrade     0.31"
      ]
     },
     "execution_count": 19,
     "metadata": {},
     "output_type": "execute_result"
    }
   ],
   "source": [
    "# get dataframe of actions performed on average by a not churn user, ordered in descending order\n",
    "not_churn_df = df.filter(df.userId.isin(not_churn_users)).groupby(\"page\").agg(count(\"page\").alias(\"count\")) \\\n",
    "    .orderBy(col(\"count\").desc()).toPandas()\n",
    "not_churn_df[\"count\"] = round(not_churn_df[\"count\"]/n_not_churn_users, 2)\n",
    "not_churn_df"
   ]
  },
  {
   "cell_type": "code",
   "execution_count": 20,
   "metadata": {},
   "outputs": [
    {
     "data": {
      "text/html": [
       "<div>\n",
       "<style scoped>\n",
       "    .dataframe tbody tr th:only-of-type {\n",
       "        vertical-align: middle;\n",
       "    }\n",
       "\n",
       "    .dataframe tbody tr th {\n",
       "        vertical-align: top;\n",
       "    }\n",
       "\n",
       "    .dataframe thead th {\n",
       "        text-align: right;\n",
       "    }\n",
       "</style>\n",
       "<table border=\"1\" class=\"dataframe\">\n",
       "  <thead>\n",
       "    <tr style=\"text-align: right;\">\n",
       "      <th></th>\n",
       "      <th>page</th>\n",
       "      <th>count_churn</th>\n",
       "      <th>count_not_churn</th>\n",
       "    </tr>\n",
       "  </thead>\n",
       "  <tbody>\n",
       "    <tr>\n",
       "      <th>0</th>\n",
       "      <td>NextSong</td>\n",
       "      <td>699.88</td>\n",
       "      <td>1108.17</td>\n",
       "    </tr>\n",
       "    <tr>\n",
       "      <th>1</th>\n",
       "      <td>Thumbs Up</td>\n",
       "      <td>35.75</td>\n",
       "      <td>61.80</td>\n",
       "    </tr>\n",
       "    <tr>\n",
       "      <th>2</th>\n",
       "      <td>Home</td>\n",
       "      <td>32.15</td>\n",
       "      <td>48.61</td>\n",
       "    </tr>\n",
       "    <tr>\n",
       "      <th>3</th>\n",
       "      <td>Add to Playlist</td>\n",
       "      <td>19.96</td>\n",
       "      <td>31.72</td>\n",
       "    </tr>\n",
       "    <tr>\n",
       "      <th>4</th>\n",
       "      <td>Roll Advert</td>\n",
       "      <td>18.60</td>\n",
       "      <td>17.14</td>\n",
       "    </tr>\n",
       "    <tr>\n",
       "      <th>5</th>\n",
       "      <td>Add Friend</td>\n",
       "      <td>12.23</td>\n",
       "      <td>21.05</td>\n",
       "    </tr>\n",
       "    <tr>\n",
       "      <th>6</th>\n",
       "      <td>Logout</td>\n",
       "      <td>10.63</td>\n",
       "      <td>15.45</td>\n",
       "    </tr>\n",
       "    <tr>\n",
       "      <th>7</th>\n",
       "      <td>Thumbs Down</td>\n",
       "      <td>9.54</td>\n",
       "      <td>11.85</td>\n",
       "    </tr>\n",
       "    <tr>\n",
       "      <th>8</th>\n",
       "      <td>Downgrade</td>\n",
       "      <td>6.48</td>\n",
       "      <td>9.93</td>\n",
       "    </tr>\n",
       "    <tr>\n",
       "      <th>9</th>\n",
       "      <td>Settings</td>\n",
       "      <td>5.19</td>\n",
       "      <td>7.19</td>\n",
       "    </tr>\n",
       "    <tr>\n",
       "      <th>10</th>\n",
       "      <td>Help</td>\n",
       "      <td>4.60</td>\n",
       "      <td>7.02</td>\n",
       "    </tr>\n",
       "    <tr>\n",
       "      <th>11</th>\n",
       "      <td>Upgrade</td>\n",
       "      <td>2.15</td>\n",
       "      <td>2.24</td>\n",
       "    </tr>\n",
       "    <tr>\n",
       "      <th>12</th>\n",
       "      <td>Save Settings</td>\n",
       "      <td>1.12</td>\n",
       "      <td>1.46</td>\n",
       "    </tr>\n",
       "    <tr>\n",
       "      <th>13</th>\n",
       "      <td>About</td>\n",
       "      <td>1.08</td>\n",
       "      <td>2.54</td>\n",
       "    </tr>\n",
       "    <tr>\n",
       "      <th>14</th>\n",
       "      <td>Cancel</td>\n",
       "      <td>1.00</td>\n",
       "      <td>NaN</td>\n",
       "    </tr>\n",
       "    <tr>\n",
       "      <th>15</th>\n",
       "      <td>Cancellation Confirmation</td>\n",
       "      <td>1.00</td>\n",
       "      <td>NaN</td>\n",
       "    </tr>\n",
       "    <tr>\n",
       "      <th>16</th>\n",
       "      <td>Error</td>\n",
       "      <td>0.62</td>\n",
       "      <td>1.27</td>\n",
       "    </tr>\n",
       "    <tr>\n",
       "      <th>17</th>\n",
       "      <td>Submit Upgrade</td>\n",
       "      <td>0.62</td>\n",
       "      <td>0.73</td>\n",
       "    </tr>\n",
       "    <tr>\n",
       "      <th>18</th>\n",
       "      <td>Submit Downgrade</td>\n",
       "      <td>0.17</td>\n",
       "      <td>0.31</td>\n",
       "    </tr>\n",
       "  </tbody>\n",
       "</table>\n",
       "</div>"
      ],
      "text/plain": [
       "                         page  count_churn  count_not_churn\n",
       "0                    NextSong       699.88          1108.17\n",
       "1                   Thumbs Up        35.75            61.80\n",
       "2                        Home        32.15            48.61\n",
       "3             Add to Playlist        19.96            31.72\n",
       "4                 Roll Advert        18.60            17.14\n",
       "5                  Add Friend        12.23            21.05\n",
       "6                      Logout        10.63            15.45\n",
       "7                 Thumbs Down         9.54            11.85\n",
       "8                   Downgrade         6.48             9.93\n",
       "9                    Settings         5.19             7.19\n",
       "10                       Help         4.60             7.02\n",
       "11                    Upgrade         2.15             2.24\n",
       "12              Save Settings         1.12             1.46\n",
       "13                      About         1.08             2.54\n",
       "14                     Cancel         1.00              NaN\n",
       "15  Cancellation Confirmation         1.00              NaN\n",
       "16                      Error         0.62             1.27\n",
       "17             Submit Upgrade         0.62             0.73\n",
       "18           Submit Downgrade         0.17             0.31"
      ]
     },
     "execution_count": 20,
     "metadata": {},
     "output_type": "execute_result"
    }
   ],
   "source": [
    "# merge the dataframes of churn and not churn users behaviour\n",
    "behaviour_df = churn_df.merge(not_churn_df, how=\"outer\", on=\"page\", suffixes=[\"_churn\", \"_not_churn\"])\n",
    "behaviour_df"
   ]
  },
  {
   "cell_type": "code",
   "execution_count": 21,
   "metadata": {},
   "outputs": [
    {
     "data": {
      "image/png": "[encoded data removed]",
      "text/plain": [
       "<matplotlib.figure.Figure at 0x7f27fc185940>"
      ]
     },
     "metadata": {
      "needs_background": "light"
     },
     "output_type": "display_data"
    }
   ],
   "source": [
    "# plot the dataframe\n",
    "behaviour_df.plot.bar(x=\"page\", figsize=(20,10), legend=False, fontsize=20)\n",
    "plt.legend(fontsize=20)\n",
    "plt.ylabel(\"Total Action Count\", fontsize=20)\n",
    "plt.xlabel(\"Action\", fontsize=20)\n",
    "plt.show()"
   ]
  },
  {
   "cell_type": "markdown",
   "metadata": {},
   "source": [
    "The plot above indicates that usually not churn users show a more involvement with the service than churn users."
   ]
  },
  {
   "cell_type": "markdown",
   "metadata": {},
   "source": [
    "Let's look now at churn and not churn users differences by `gender`."
   ]
  },
  {
   "cell_type": "code",
   "execution_count": 22,
   "metadata": {},
   "outputs": [
    {
     "data": {
      "text/html": [
       "<div>\n",
       "<style scoped>\n",
       "    .dataframe tbody tr th:only-of-type {\n",
       "        vertical-align: middle;\n",
       "    }\n",
       "\n",
       "    .dataframe tbody tr th {\n",
       "        vertical-align: top;\n",
       "    }\n",
       "\n",
       "    .dataframe thead th {\n",
       "        text-align: right;\n",
       "    }\n",
       "</style>\n",
       "<table border=\"1\" class=\"dataframe\">\n",
       "  <thead>\n",
       "    <tr style=\"text-align: right;\">\n",
       "      <th></th>\n",
       "      <th>gender</th>\n",
       "      <th>count_churn</th>\n",
       "      <th>count_not_churn</th>\n",
       "      <th>count_churn [%]</th>\n",
       "      <th>count_not_churn [%]</th>\n",
       "    </tr>\n",
       "  </thead>\n",
       "  <tbody>\n",
       "    <tr>\n",
       "      <th>0</th>\n",
       "      <td>M</td>\n",
       "      <td>32</td>\n",
       "      <td>89</td>\n",
       "      <td>61.54</td>\n",
       "      <td>51.45</td>\n",
       "    </tr>\n",
       "    <tr>\n",
       "      <th>1</th>\n",
       "      <td>F</td>\n",
       "      <td>20</td>\n",
       "      <td>84</td>\n",
       "      <td>38.46</td>\n",
       "      <td>48.55</td>\n",
       "    </tr>\n",
       "  </tbody>\n",
       "</table>\n",
       "</div>"
      ],
      "text/plain": [
       "  gender  count_churn  count_not_churn  count_churn [%]  count_not_churn [%]\n",
       "0      M           32               89            61.54                51.45\n",
       "1      F           20               84            38.46                48.55"
      ]
     },
     "execution_count": 22,
     "metadata": {},
     "output_type": "execute_result"
    }
   ],
   "source": [
    "# get number of users by gender for churn users\n",
    "churn_gender = df.select(\"userId\", \"gender\").filter(df.userId.isin(churn_users)).dropDuplicates() \\\n",
    "    .groupby(\"gender\").agg(count(\"userId\").alias(\"count\")).orderBy(col(\"count\").desc()).toPandas()\n",
    "\n",
    "# get number of users by gender for not churn users\n",
    "not_churn_gender = df.select(\"userId\", \"gender\").filter(df.userId.isin(not_churn_users)).dropDuplicates() \\\n",
    "    .groupby(\"gender\").agg(count(\"userId\").alias(\"count\")).orderBy(col(\"count\").desc()).toPandas()\n",
    "\n",
    "# merge the two dataframes \n",
    "gender_df = churn_gender.merge(not_churn_gender, how=\"outer\", on=\"gender\", suffixes=[\"_churn\", \"_not_churn\"])\n",
    "\n",
    "# get quantities by percentage\n",
    "gender_df[\"count_churn [%]\"] = round(gender_df[\"count_churn\"]/n_churn_users*100, 2)\n",
    "gender_df[\"count_not_churn [%]\"] = round(gender_df[\"count_not_churn\"]/n_not_churn_users*100, 2)\n",
    "gender_df"
   ]
  },
  {
   "cell_type": "code",
   "execution_count": 23,
   "metadata": {},
   "outputs": [
    {
     "data": {
      "image/png": "[encoded data removed]",
      "text/plain": [
       "<matplotlib.figure.Figure at 0x7f27d0050b70>"
      ]
     },
     "metadata": {
      "needs_background": "light"
     },
     "output_type": "display_data"
    }
   ],
   "source": [
    "# plot the dataframe\n",
    "gender_df[[\"gender\", \"count_churn [%]\", \"count_not_churn [%]\"]].plot.bar(x=\"gender\", figsize=(10,5), legend=False, fontsize=10, rot=0)\n",
    "plt.legend(fontsize=10)\n",
    "plt.xlabel('Gender', fontsize=10)\n",
    "plt.ylabel(\"User Count\", fontsize=10)\n",
    "plt.show()"
   ]
  },
  {
   "cell_type": "markdown",
   "metadata": {},
   "source": [
    "The proportion of male churn users is greater than the proportion of male users who do not churn. The opposite can be said for females, as the proportion of female churn users is less than the proportion of female not churn users. This means there's a higher chance of churn if the user is a male, and gender is very likely a factor to take into account when trying to predict churn."
   ]
  },
  {
   "cell_type": "markdown",
   "metadata": {},
   "source": [
    "Let's look now at behaviour differences within not churn users by `gender`."
   ]
  },
  {
   "cell_type": "code",
   "execution_count": 24,
   "metadata": {},
   "outputs": [
    {
     "data": {
      "image/png": "[encoded data removed]",
      "text/plain": [
       "<matplotlib.figure.Figure at 0x7f27c8103588>"
      ]
     },
     "metadata": {
      "needs_background": "light"
     },
     "output_type": "display_data"
    }
   ],
   "source": [
    "not_churn_gender_be = df.select(\"userId\", \"gender\", \"page\").groupby(\"page\", \"gender\").agg(count(\"userId\").alias(\"count\")).toPandas()\n",
    "not_churn_gender_be_pivot = not_churn_gender_be.pivot(index=\"page\", columns=\"gender\", values=\"count\").reset_index()\n",
    "not_churn_gender_be_pivot.plot.bar(x=\"page\", figsize=(20, 10), legend=False, fontsize=20, rot=90)\n",
    "plt.legend(fontsize=20)\n",
    "plt.xlabel('Page', fontsize=20)\n",
    "plt.show()"
   ]
  },
  {
   "cell_type": "markdown",
   "metadata": {},
   "source": [
    "We can see from the bar plot above that, on average, females are more active than males."
   ]
  },
  {
   "cell_type": "markdown",
   "metadata": {},
   "source": [
    "Since males are more likely to churn, let's examine the average behaviour of churn and not churn users for males and how it differs."
   ]
  },
  {
   "cell_type": "code",
   "execution_count": 25,
   "metadata": {},
   "outputs": [
    {
     "data": {
      "text/html": [
       "<div>\n",
       "<style scoped>\n",
       "    .dataframe tbody tr th:only-of-type {\n",
       "        vertical-align: middle;\n",
       "    }\n",
       "\n",
       "    .dataframe tbody tr th {\n",
       "        vertical-align: top;\n",
       "    }\n",
       "\n",
       "    .dataframe thead th {\n",
       "        text-align: right;\n",
       "    }\n",
       "</style>\n",
       "<table border=\"1\" class=\"dataframe\">\n",
       "  <thead>\n",
       "    <tr style=\"text-align: right;\">\n",
       "      <th></th>\n",
       "      <th>page</th>\n",
       "      <th>count_churn</th>\n",
       "      <th>count_not_churn</th>\n",
       "    </tr>\n",
       "  </thead>\n",
       "  <tbody>\n",
       "    <tr>\n",
       "      <th>0</th>\n",
       "      <td>NextSong</td>\n",
       "      <td>654.81</td>\n",
       "      <td>904.02</td>\n",
       "    </tr>\n",
       "    <tr>\n",
       "      <th>1</th>\n",
       "      <td>Thumbs Up</td>\n",
       "      <td>32.03</td>\n",
       "      <td>49.53</td>\n",
       "    </tr>\n",
       "    <tr>\n",
       "      <th>2</th>\n",
       "      <td>Home</td>\n",
       "      <td>29.34</td>\n",
       "      <td>40.08</td>\n",
       "    </tr>\n",
       "    <tr>\n",
       "      <th>3</th>\n",
       "      <td>Add to Playlist</td>\n",
       "      <td>18.44</td>\n",
       "      <td>25.29</td>\n",
       "    </tr>\n",
       "    <tr>\n",
       "      <th>4</th>\n",
       "      <td>Roll Advert</td>\n",
       "      <td>16.06</td>\n",
       "      <td>14.21</td>\n",
       "    </tr>\n",
       "    <tr>\n",
       "      <th>5</th>\n",
       "      <td>Add Friend</td>\n",
       "      <td>11.19</td>\n",
       "      <td>16.74</td>\n",
       "    </tr>\n",
       "    <tr>\n",
       "      <th>6</th>\n",
       "      <td>Logout</td>\n",
       "      <td>10.03</td>\n",
       "      <td>12.47</td>\n",
       "    </tr>\n",
       "    <tr>\n",
       "      <th>7</th>\n",
       "      <td>Thumbs Down</td>\n",
       "      <td>8.84</td>\n",
       "      <td>9.93</td>\n",
       "    </tr>\n",
       "    <tr>\n",
       "      <th>8</th>\n",
       "      <td>Downgrade</td>\n",
       "      <td>5.75</td>\n",
       "      <td>8.34</td>\n",
       "    </tr>\n",
       "    <tr>\n",
       "      <th>9</th>\n",
       "      <td>Settings</td>\n",
       "      <td>5.00</td>\n",
       "      <td>6.16</td>\n",
       "    </tr>\n",
       "    <tr>\n",
       "      <th>10</th>\n",
       "      <td>Help</td>\n",
       "      <td>4.41</td>\n",
       "      <td>5.81</td>\n",
       "    </tr>\n",
       "    <tr>\n",
       "      <th>11</th>\n",
       "      <td>Upgrade</td>\n",
       "      <td>1.91</td>\n",
       "      <td>1.91</td>\n",
       "    </tr>\n",
       "    <tr>\n",
       "      <th>12</th>\n",
       "      <td>Save Settings</td>\n",
       "      <td>1.09</td>\n",
       "      <td>1.30</td>\n",
       "    </tr>\n",
       "    <tr>\n",
       "      <th>13</th>\n",
       "      <td>Cancel</td>\n",
       "      <td>1.00</td>\n",
       "      <td>NaN</td>\n",
       "    </tr>\n",
       "    <tr>\n",
       "      <th>14</th>\n",
       "      <td>Cancellation Confirmation</td>\n",
       "      <td>1.00</td>\n",
       "      <td>NaN</td>\n",
       "    </tr>\n",
       "    <tr>\n",
       "      <th>15</th>\n",
       "      <td>About</td>\n",
       "      <td>0.91</td>\n",
       "      <td>1.94</td>\n",
       "    </tr>\n",
       "    <tr>\n",
       "      <th>16</th>\n",
       "      <td>Error</td>\n",
       "      <td>0.53</td>\n",
       "      <td>1.11</td>\n",
       "    </tr>\n",
       "    <tr>\n",
       "      <th>17</th>\n",
       "      <td>Submit Upgrade</td>\n",
       "      <td>0.53</td>\n",
       "      <td>0.69</td>\n",
       "    </tr>\n",
       "    <tr>\n",
       "      <th>18</th>\n",
       "      <td>Submit Downgrade</td>\n",
       "      <td>0.12</td>\n",
       "      <td>0.24</td>\n",
       "    </tr>\n",
       "  </tbody>\n",
       "</table>\n",
       "</div>"
      ],
      "text/plain": [
       "                         page  count_churn  count_not_churn\n",
       "0                    NextSong       654.81           904.02\n",
       "1                   Thumbs Up        32.03            49.53\n",
       "2                        Home        29.34            40.08\n",
       "3             Add to Playlist        18.44            25.29\n",
       "4                 Roll Advert        16.06            14.21\n",
       "5                  Add Friend        11.19            16.74\n",
       "6                      Logout        10.03            12.47\n",
       "7                 Thumbs Down         8.84             9.93\n",
       "8                   Downgrade         5.75             8.34\n",
       "9                    Settings         5.00             6.16\n",
       "10                       Help         4.41             5.81\n",
       "11                    Upgrade         1.91             1.91\n",
       "12              Save Settings         1.09             1.30\n",
       "13                     Cancel         1.00              NaN\n",
       "14  Cancellation Confirmation         1.00              NaN\n",
       "15                      About         0.91             1.94\n",
       "16                      Error         0.53             1.11\n",
       "17             Submit Upgrade         0.53             0.69\n",
       "18           Submit Downgrade         0.12             0.24"
      ]
     },
     "execution_count": 25,
     "metadata": {},
     "output_type": "execute_result"
    }
   ],
   "source": [
    "# get male churn and not churn users\n",
    "male_churn_users = np.array(df.select(\"userId\").filter((df.churn==1) & (df.gender==\"M\")).dropDuplicates().toPandas()[\"userId\"])\n",
    "male_users = np.array(df.select(\"userId\").filter((df.churn==0) & (df.gender==\"M\")).dropDuplicates().toPandas()[\"userId\"])\n",
    "male_not_churn_users = np.setdiff1d(male_users, male_churn_users)\n",
    "\n",
    "# get total number of male churn and not churn users \n",
    "male_not_churn = list(male_not_churn_users)\n",
    "male_churn = list(male_churn_users)\n",
    "n_male_churn = len(male_churn)\n",
    "n_male_not_churn = len(male_not_churn)\n",
    "\n",
    "# get actions performed on average by male churn users in descending order\n",
    "male_churn_df = df.filter(df.userId.isin(male_churn)).groupby(\"page\").agg(count(\"page\").alias(\"count\")) \\\n",
    "    .orderBy(col(\"count\").desc()).toPandas()\n",
    "male_churn_df[\"count\"] = round(male_churn_df[\"count\"]/n_male_churn, 2)\n",
    "\n",
    "# get actions performed on average by male not churn users in descending order\n",
    "male_not_churn_df = df.filter(df.userId.isin(male_not_churn)).groupby(\"page\").agg(count(\"page\").alias(\"count\")) \\\n",
    "    .orderBy(col(\"count\").desc()).toPandas()\n",
    "male_not_churn_df[\"count\"] = round(male_not_churn_df[\"count\"]/n_male_not_churn, 2)\n",
    "\n",
    "male_df = male_churn_df.merge(male_not_churn_df, how=\"outer\", on=\"page\", suffixes=[\"_churn\", \"_not_churn\"])\n",
    "male_df"
   ]
  },
  {
   "cell_type": "code",
   "execution_count": 26,
   "metadata": {},
   "outputs": [
    {
     "data": {
      "image/png": "[encoded data removed]",
      "text/plain": [
       "<matplotlib.figure.Figure at 0x7f27c3fe4cc0>"
      ]
     },
     "metadata": {
      "needs_background": "light"
     },
     "output_type": "display_data"
    }
   ],
   "source": [
    "# plot the dataframe\n",
    "male_df.plot.bar(x=\"page\", figsize=(20,10), legend=False, fontsize=15, rot=90)\n",
    "plt.legend(fontsize=20)\n",
    "plt.xlabel('Action', fontsize=20)\n",
    "plt.ylabel(\"Total Action Count\", fontsize=20)\n",
    "plt.show()"
   ]
  },
  {
   "cell_type": "code",
   "execution_count": 27,
   "metadata": {},
   "outputs": [
    {
     "data": {
      "text/html": [
       "<div>\n",
       "<style scoped>\n",
       "    .dataframe tbody tr th:only-of-type {\n",
       "        vertical-align: middle;\n",
       "    }\n",
       "\n",
       "    .dataframe tbody tr th {\n",
       "        vertical-align: top;\n",
       "    }\n",
       "\n",
       "    .dataframe thead th {\n",
       "        text-align: right;\n",
       "    }\n",
       "</style>\n",
       "<table border=\"1\" class=\"dataframe\">\n",
       "  <thead>\n",
       "    <tr style=\"text-align: right;\">\n",
       "      <th></th>\n",
       "      <th>page</th>\n",
       "      <th>count_churn</th>\n",
       "      <th>count_not_churn</th>\n",
       "      <th>count_churn [%]</th>\n",
       "      <th>count_not_churn [%]</th>\n",
       "      <th>difference</th>\n",
       "    </tr>\n",
       "  </thead>\n",
       "  <tbody>\n",
       "    <tr>\n",
       "      <th>0</th>\n",
       "      <td>NextSong</td>\n",
       "      <td>654.81</td>\n",
       "      <td>904.02</td>\n",
       "      <td>81.55</td>\n",
       "      <td>82.20</td>\n",
       "      <td>-0.65</td>\n",
       "    </tr>\n",
       "    <tr>\n",
       "      <th>1</th>\n",
       "      <td>Thumbs Up</td>\n",
       "      <td>32.03</td>\n",
       "      <td>49.53</td>\n",
       "      <td>3.99</td>\n",
       "      <td>4.50</td>\n",
       "      <td>-0.51</td>\n",
       "    </tr>\n",
       "    <tr>\n",
       "      <th>2</th>\n",
       "      <td>Home</td>\n",
       "      <td>29.34</td>\n",
       "      <td>40.08</td>\n",
       "      <td>3.65</td>\n",
       "      <td>3.64</td>\n",
       "      <td>0.01</td>\n",
       "    </tr>\n",
       "    <tr>\n",
       "      <th>3</th>\n",
       "      <td>Add to Playlist</td>\n",
       "      <td>18.44</td>\n",
       "      <td>25.29</td>\n",
       "      <td>2.30</td>\n",
       "      <td>2.30</td>\n",
       "      <td>0.00</td>\n",
       "    </tr>\n",
       "    <tr>\n",
       "      <th>4</th>\n",
       "      <td>Roll Advert</td>\n",
       "      <td>16.06</td>\n",
       "      <td>14.21</td>\n",
       "      <td>2.00</td>\n",
       "      <td>1.29</td>\n",
       "      <td>0.71</td>\n",
       "    </tr>\n",
       "    <tr>\n",
       "      <th>5</th>\n",
       "      <td>Add Friend</td>\n",
       "      <td>11.19</td>\n",
       "      <td>16.74</td>\n",
       "      <td>1.39</td>\n",
       "      <td>1.52</td>\n",
       "      <td>-0.13</td>\n",
       "    </tr>\n",
       "    <tr>\n",
       "      <th>6</th>\n",
       "      <td>Logout</td>\n",
       "      <td>10.03</td>\n",
       "      <td>12.47</td>\n",
       "      <td>1.25</td>\n",
       "      <td>1.13</td>\n",
       "      <td>0.12</td>\n",
       "    </tr>\n",
       "    <tr>\n",
       "      <th>7</th>\n",
       "      <td>Thumbs Down</td>\n",
       "      <td>8.84</td>\n",
       "      <td>9.93</td>\n",
       "      <td>1.10</td>\n",
       "      <td>0.90</td>\n",
       "      <td>0.20</td>\n",
       "    </tr>\n",
       "    <tr>\n",
       "      <th>8</th>\n",
       "      <td>Downgrade</td>\n",
       "      <td>5.75</td>\n",
       "      <td>8.34</td>\n",
       "      <td>0.72</td>\n",
       "      <td>0.76</td>\n",
       "      <td>-0.04</td>\n",
       "    </tr>\n",
       "    <tr>\n",
       "      <th>9</th>\n",
       "      <td>Settings</td>\n",
       "      <td>5.00</td>\n",
       "      <td>6.16</td>\n",
       "      <td>0.62</td>\n",
       "      <td>0.56</td>\n",
       "      <td>0.06</td>\n",
       "    </tr>\n",
       "    <tr>\n",
       "      <th>10</th>\n",
       "      <td>Help</td>\n",
       "      <td>4.41</td>\n",
       "      <td>5.81</td>\n",
       "      <td>0.55</td>\n",
       "      <td>0.53</td>\n",
       "      <td>0.02</td>\n",
       "    </tr>\n",
       "    <tr>\n",
       "      <th>11</th>\n",
       "      <td>Upgrade</td>\n",
       "      <td>1.91</td>\n",
       "      <td>1.91</td>\n",
       "      <td>0.24</td>\n",
       "      <td>0.17</td>\n",
       "      <td>0.07</td>\n",
       "    </tr>\n",
       "    <tr>\n",
       "      <th>12</th>\n",
       "      <td>Save Settings</td>\n",
       "      <td>1.09</td>\n",
       "      <td>1.30</td>\n",
       "      <td>0.14</td>\n",
       "      <td>0.12</td>\n",
       "      <td>0.02</td>\n",
       "    </tr>\n",
       "    <tr>\n",
       "      <th>13</th>\n",
       "      <td>Cancel</td>\n",
       "      <td>1.00</td>\n",
       "      <td>NaN</td>\n",
       "      <td>0.12</td>\n",
       "      <td>NaN</td>\n",
       "      <td>NaN</td>\n",
       "    </tr>\n",
       "    <tr>\n",
       "      <th>14</th>\n",
       "      <td>Cancellation Confirmation</td>\n",
       "      <td>1.00</td>\n",
       "      <td>NaN</td>\n",
       "      <td>0.12</td>\n",
       "      <td>NaN</td>\n",
       "      <td>NaN</td>\n",
       "    </tr>\n",
       "    <tr>\n",
       "      <th>15</th>\n",
       "      <td>About</td>\n",
       "      <td>0.91</td>\n",
       "      <td>1.94</td>\n",
       "      <td>0.11</td>\n",
       "      <td>0.18</td>\n",
       "      <td>-0.07</td>\n",
       "    </tr>\n",
       "    <tr>\n",
       "      <th>16</th>\n",
       "      <td>Error</td>\n",
       "      <td>0.53</td>\n",
       "      <td>1.11</td>\n",
       "      <td>0.07</td>\n",
       "      <td>0.10</td>\n",
       "      <td>-0.03</td>\n",
       "    </tr>\n",
       "    <tr>\n",
       "      <th>17</th>\n",
       "      <td>Submit Upgrade</td>\n",
       "      <td>0.53</td>\n",
       "      <td>0.69</td>\n",
       "      <td>0.07</td>\n",
       "      <td>0.06</td>\n",
       "      <td>0.01</td>\n",
       "    </tr>\n",
       "    <tr>\n",
       "      <th>18</th>\n",
       "      <td>Submit Downgrade</td>\n",
       "      <td>0.12</td>\n",
       "      <td>0.24</td>\n",
       "      <td>0.01</td>\n",
       "      <td>0.02</td>\n",
       "      <td>-0.01</td>\n",
       "    </tr>\n",
       "  </tbody>\n",
       "</table>\n",
       "</div>"
      ],
      "text/plain": [
       "                         page  count_churn  count_not_churn  count_churn [%]  \\\n",
       "0                    NextSong       654.81           904.02            81.55   \n",
       "1                   Thumbs Up        32.03            49.53             3.99   \n",
       "2                        Home        29.34            40.08             3.65   \n",
       "3             Add to Playlist        18.44            25.29             2.30   \n",
       "4                 Roll Advert        16.06            14.21             2.00   \n",
       "5                  Add Friend        11.19            16.74             1.39   \n",
       "6                      Logout        10.03            12.47             1.25   \n",
       "7                 Thumbs Down         8.84             9.93             1.10   \n",
       "8                   Downgrade         5.75             8.34             0.72   \n",
       "9                    Settings         5.00             6.16             0.62   \n",
       "10                       Help         4.41             5.81             0.55   \n",
       "11                    Upgrade         1.91             1.91             0.24   \n",
       "12              Save Settings         1.09             1.30             0.14   \n",
       "13                     Cancel         1.00              NaN             0.12   \n",
       "14  Cancellation Confirmation         1.00              NaN             0.12   \n",
       "15                      About         0.91             1.94             0.11   \n",
       "16                      Error         0.53             1.11             0.07   \n",
       "17             Submit Upgrade         0.53             0.69             0.07   \n",
       "18           Submit Downgrade         0.12             0.24             0.01   \n",
       "\n",
       "    count_not_churn [%]  difference  \n",
       "0                 82.20       -0.65  \n",
       "1                  4.50       -0.51  \n",
       "2                  3.64        0.01  \n",
       "3                  2.30        0.00  \n",
       "4                  1.29        0.71  \n",
       "5                  1.52       -0.13  \n",
       "6                  1.13        0.12  \n",
       "7                  0.90        0.20  \n",
       "8                  0.76       -0.04  \n",
       "9                  0.56        0.06  \n",
       "10                 0.53        0.02  \n",
       "11                 0.17        0.07  \n",
       "12                 0.12        0.02  \n",
       "13                  NaN         NaN  \n",
       "14                  NaN         NaN  \n",
       "15                 0.18       -0.07  \n",
       "16                 0.10       -0.03  \n",
       "17                 0.06        0.01  \n",
       "18                 0.02       -0.01  "
      ]
     },
     "execution_count": 27,
     "metadata": {},
     "output_type": "execute_result"
    }
   ],
   "source": [
    "# get quantities by percentage and percentage difference in behaviour\n",
    "male_df[\"count_churn [%]\"] = round(male_df[\"count_churn\"]/male_df[\"count_churn\"].sum()*100, 2)\n",
    "male_df[\"count_not_churn [%]\"] = round(male_df[\"count_not_churn\"]/male_df[\"count_not_churn\"].sum()*100, 2)\n",
    "male_df[\"difference\"] = male_df[\"count_churn [%]\"] - male_df[\"count_not_churn [%]\"]\n",
    "male_df"
   ]
  },
  {
   "cell_type": "markdown",
   "metadata": {},
   "source": [
    "The column difference above shows the comparison of the average behaviour of churn and not churn male users. Where the values are positive, it means that that particular action has been taken more from the churn group, while negative values show those actions that were performed less freuently.\n",
    "We can see that, in general, churn users have more home visits, adverts being rolled, logouts, thumbs down, and more interactions with settings and help pages. This could mean that churn happens when there's a bit of struggle with the settings, the songs availbale aren't of a user liking and there are too many adverts. \n",
    "Another thing is that upgrade actions are done more by churn users. This means that once they upgraded, they still didn't like the service and decided to cancel the service anyway."
   ]
  },
  {
   "cell_type": "code",
   "execution_count": 28,
   "metadata": {},
   "outputs": [],
   "source": [
    "#Let's now look at the difference in `level` between churn and not churn users."
   ]
  },
  {
   "cell_type": "code",
   "execution_count": 29,
   "metadata": {},
   "outputs": [],
   "source": [
    "# churn_level = df.select(\"userId\", \"level\").filter(df.userId.isin(churn_users)).dropDuplicates() \\\n",
    "#     .groupby(\"level\").agg({\"userId\":\"count\"}).withColumnRenamed(\"Count(userId)\", \"count\").orderBy(col(\"count\").desc()).toPandas()\n",
    "# not_churn_level = df.select(\"userId\", \"level\").filter(df.userId.isin(not_churn_users)).dropDuplicates() \\\n",
    "#     .groupby(\"level\").agg({\"userId\":\"count\"}).withColumnRenamed(\"Count(userId)\", \"count\").orderBy(col(\"count\").desc()).toPandas()\n",
    "\n",
    "# level_df = churn_level.merge(not_churn_level, how=\"outer\", on=\"level\", suffixes=[\"_churn\", \"_not_churn\"])\n",
    "# level_df[\"count_churn [%]\"] = round(level_df[\"count_churn\"]/n_churn_users*100, 2)\n",
    "# level_df[\"count_not_churn [%]\"] = round(level_df[\"count_not_churn\"]/n_not_churn_users*100, 2)\n",
    "# level_df"
   ]
  },
  {
   "cell_type": "markdown",
   "metadata": {},
   "source": [
    "Let's see now if the variables `location` and `userAgent` play any role in determining churn. We want to see if particular values of these variables result into a higher churn probability."
   ]
  },
  {
   "cell_type": "code",
   "execution_count": 30,
   "metadata": {},
   "outputs": [
    {
     "data": {
      "text/html": [
       "<div>\n",
       "<style scoped>\n",
       "    .dataframe tbody tr th:only-of-type {\n",
       "        vertical-align: middle;\n",
       "    }\n",
       "\n",
       "    .dataframe tbody tr th {\n",
       "        vertical-align: top;\n",
       "    }\n",
       "\n",
       "    .dataframe thead th {\n",
       "        text-align: right;\n",
       "    }\n",
       "</style>\n",
       "<table border=\"1\" class=\"dataframe\">\n",
       "  <thead>\n",
       "    <tr style=\"text-align: right;\">\n",
       "      <th></th>\n",
       "      <th>location</th>\n",
       "      <th>count_churn</th>\n",
       "      <th>count_not_churn</th>\n",
       "      <th>count_churn [%]</th>\n",
       "      <th>count_not_churn [%]</th>\n",
       "    </tr>\n",
       "  </thead>\n",
       "  <tbody>\n",
       "    <tr>\n",
       "      <th>0</th>\n",
       "      <td>New York-Newark-Jersey City, NY-NJ-PA</td>\n",
       "      <td>5.0</td>\n",
       "      <td>10.0</td>\n",
       "      <td>9.62</td>\n",
       "      <td>5.78</td>\n",
       "    </tr>\n",
       "    <tr>\n",
       "      <th>1</th>\n",
       "      <td>Los Angeles-Long Beach-Anaheim, CA</td>\n",
       "      <td>3.0</td>\n",
       "      <td>13.0</td>\n",
       "      <td>5.77</td>\n",
       "      <td>7.51</td>\n",
       "    </tr>\n",
       "    <tr>\n",
       "      <th>2</th>\n",
       "      <td>Phoenix-Mesa-Scottsdale, AZ</td>\n",
       "      <td>2.0</td>\n",
       "      <td>5.0</td>\n",
       "      <td>3.85</td>\n",
       "      <td>2.89</td>\n",
       "    </tr>\n",
       "    <tr>\n",
       "      <th>3</th>\n",
       "      <td>Miami-Fort Lauderdale-West Palm Beach, FL</td>\n",
       "      <td>2.0</td>\n",
       "      <td>3.0</td>\n",
       "      <td>3.85</td>\n",
       "      <td>1.73</td>\n",
       "    </tr>\n",
       "    <tr>\n",
       "      <th>4</th>\n",
       "      <td>Jackson, MS</td>\n",
       "      <td>2.0</td>\n",
       "      <td>NaN</td>\n",
       "      <td>3.85</td>\n",
       "      <td>NaN</td>\n",
       "    </tr>\n",
       "  </tbody>\n",
       "</table>\n",
       "</div>"
      ],
      "text/plain": [
       "                                    location  count_churn  count_not_churn  \\\n",
       "0      New York-Newark-Jersey City, NY-NJ-PA          5.0             10.0   \n",
       "1         Los Angeles-Long Beach-Anaheim, CA          3.0             13.0   \n",
       "2                Phoenix-Mesa-Scottsdale, AZ          2.0              5.0   \n",
       "3  Miami-Fort Lauderdale-West Palm Beach, FL          2.0              3.0   \n",
       "4                                Jackson, MS          2.0              NaN   \n",
       "\n",
       "   count_churn [%]  count_not_churn [%]  \n",
       "0             9.62                 5.78  \n",
       "1             5.77                 7.51  \n",
       "2             3.85                 2.89  \n",
       "3             3.85                 1.73  \n",
       "4             3.85                  NaN  "
      ]
     },
     "execution_count": 30,
     "metadata": {},
     "output_type": "execute_result"
    }
   ],
   "source": [
    "# get dataframes of number of occurence of each location for churn and not churn users\n",
    "churn_location = df.select(\"userId\", \"location\").filter(df.userId.isin(churn_users)).dropDuplicates() \\\n",
    "    .groupby(\"location\").agg({\"userId\":\"count\"}).withColumnRenamed(\"Count(userId)\", \"count\").orderBy(col(\"count\").desc()).toPandas()\n",
    "not_churn_location = df.select(\"userId\", \"location\").filter(df.userId.isin(not_churn_users)).dropDuplicates() \\\n",
    "    .groupby(\"location\").agg({\"userId\":\"count\"}).withColumnRenamed(\"Count(userId)\", \"count\").orderBy(col(\"count\").desc()).toPandas()\n",
    "\n",
    "# merge the two dataframes and get count values by percentage\n",
    "location_df = churn_location.merge(not_churn_location, how=\"outer\", on=\"location\", suffixes=[\"_churn\", \"_not_churn\"])\n",
    "location_df[\"count_churn [%]\"] = round(location_df[\"count_churn\"]/n_churn_users*100, 2)\n",
    "location_df[\"count_not_churn [%]\"] = round(location_df[\"count_not_churn\"]/n_not_churn_users*100, 2)\n",
    "location_df.head()"
   ]
  },
  {
   "cell_type": "code",
   "execution_count": 31,
   "metadata": {
    "scrolled": true
   },
   "outputs": [
    {
     "data": {
      "text/html": [
       "<div>\n",
       "<style scoped>\n",
       "    .dataframe tbody tr th:only-of-type {\n",
       "        vertical-align: middle;\n",
       "    }\n",
       "\n",
       "    .dataframe tbody tr th {\n",
       "        vertical-align: top;\n",
       "    }\n",
       "\n",
       "    .dataframe thead th {\n",
       "        text-align: right;\n",
       "    }\n",
       "</style>\n",
       "<table border=\"1\" class=\"dataframe\">\n",
       "  <thead>\n",
       "    <tr style=\"text-align: right;\">\n",
       "      <th></th>\n",
       "      <th>userAgent</th>\n",
       "      <th>count_churn</th>\n",
       "      <th>count_not_churn</th>\n",
       "      <th>count_churn [%]</th>\n",
       "      <th>count_not_churn [%]</th>\n",
       "    </tr>\n",
       "  </thead>\n",
       "  <tbody>\n",
       "    <tr>\n",
       "      <th>0</th>\n",
       "      <td>\"Mozilla/5.0 (Macintosh; Intel Mac OS X 10_9_4...</td>\n",
       "      <td>5.0</td>\n",
       "      <td>11.0</td>\n",
       "      <td>9.62</td>\n",
       "      <td>6.36</td>\n",
       "    </tr>\n",
       "    <tr>\n",
       "      <th>1</th>\n",
       "      <td>\"Mozilla/5.0 (Windows NT 6.1; WOW64) AppleWebK...</td>\n",
       "      <td>5.0</td>\n",
       "      <td>19.0</td>\n",
       "      <td>9.62</td>\n",
       "      <td>10.98</td>\n",
       "    </tr>\n",
       "    <tr>\n",
       "      <th>2</th>\n",
       "      <td>Mozilla/5.0 (Windows NT 6.1; WOW64; rv:31.0) G...</td>\n",
       "      <td>4.0</td>\n",
       "      <td>14.0</td>\n",
       "      <td>7.69</td>\n",
       "      <td>8.09</td>\n",
       "    </tr>\n",
       "    <tr>\n",
       "      <th>3</th>\n",
       "      <td>\"Mozilla/5.0 (iPhone; CPU iPhone OS 7_1_2 like...</td>\n",
       "      <td>4.0</td>\n",
       "      <td>4.0</td>\n",
       "      <td>7.69</td>\n",
       "      <td>2.31</td>\n",
       "    </tr>\n",
       "    <tr>\n",
       "      <th>4</th>\n",
       "      <td>\"Mozilla/5.0 (Macintosh; Intel Mac OS X 10_9_4...</td>\n",
       "      <td>3.0</td>\n",
       "      <td>7.0</td>\n",
       "      <td>5.77</td>\n",
       "      <td>4.05</td>\n",
       "    </tr>\n",
       "  </tbody>\n",
       "</table>\n",
       "</div>"
      ],
      "text/plain": [
       "                                           userAgent  count_churn  \\\n",
       "0  \"Mozilla/5.0 (Macintosh; Intel Mac OS X 10_9_4...          5.0   \n",
       "1  \"Mozilla/5.0 (Windows NT 6.1; WOW64) AppleWebK...          5.0   \n",
       "2  Mozilla/5.0 (Windows NT 6.1; WOW64; rv:31.0) G...          4.0   \n",
       "3  \"Mozilla/5.0 (iPhone; CPU iPhone OS 7_1_2 like...          4.0   \n",
       "4  \"Mozilla/5.0 (Macintosh; Intel Mac OS X 10_9_4...          3.0   \n",
       "\n",
       "   count_not_churn  count_churn [%]  count_not_churn [%]  \n",
       "0             11.0             9.62                 6.36  \n",
       "1             19.0             9.62                10.98  \n",
       "2             14.0             7.69                 8.09  \n",
       "3              4.0             7.69                 2.31  \n",
       "4              7.0             5.77                 4.05  "
      ]
     },
     "execution_count": 31,
     "metadata": {},
     "output_type": "execute_result"
    }
   ],
   "source": [
    "# get dataframes of number of occurence of each userAgent for churn and not churn users\n",
    "churn_agent = df.select(\"userId\", \"userAgent\").filter(df.userId.isin(churn_users)).dropDuplicates() \\\n",
    "    .groupby(\"userAgent\").agg({\"userId\":\"count\"}).withColumnRenamed(\"Count(userId)\", \"count\").orderBy(col(\"count\").desc()).toPandas()\n",
    "not_churn_agent = df.select(\"userId\", \"userAgent\").filter(df.userId.isin(not_churn_users)).dropDuplicates() \\\n",
    "    .groupby(\"userAgent\").agg({\"userId\":\"count\"}).withColumnRenamed(\"Count(userId)\", \"count\").orderBy(col(\"count\").desc()).toPandas()\n",
    "\n",
    "# merge the two dataframes and get count values by percentage\n",
    "agent_df = churn_agent.merge(not_churn_agent, how=\"outer\", on=\"userAgent\", suffixes=[\"_churn\", \"_not_churn\"])\n",
    "agent_df[\"count_churn [%]\"] = round(agent_df[\"count_churn\"]/n_churn_users*100, 2)\n",
    "agent_df[\"count_not_churn [%]\"] = round(agent_df[\"count_not_churn\"]/n_not_churn_users*100, 2)\n",
    "agent_df.head()"
   ]
  },
  {
   "cell_type": "markdown",
   "metadata": {},
   "source": [
    "For `userAgent` and `location`, it's really difficult to tell whether there's a difference between churn and not churn users. The churn users most frequent locations are the same as the not churn users. The same can be said about `userAgent`. Furthermore, there's not enough data of churn users to determine whether a particular `location` or `userAgent` can affect user churn. Thus, these features will likely be discarded when trying to predict churn."
   ]
  },
  {
   "cell_type": "markdown",
   "metadata": {},
   "source": [
    "For all the categorical variables, i.e. `gender`, `level`, `userAgent` and `location`, let's see if these variables have unique values for each user."
   ]
  },
  {
   "cell_type": "code",
   "execution_count": 32,
   "metadata": {},
   "outputs": [
    {
     "data": {
      "text/html": [
       "<div>\n",
       "<style scoped>\n",
       "    .dataframe tbody tr th:only-of-type {\n",
       "        vertical-align: middle;\n",
       "    }\n",
       "\n",
       "    .dataframe tbody tr th {\n",
       "        vertical-align: top;\n",
       "    }\n",
       "\n",
       "    .dataframe thead th {\n",
       "        text-align: right;\n",
       "    }\n",
       "</style>\n",
       "<table border=\"1\" class=\"dataframe\">\n",
       "  <thead>\n",
       "    <tr style=\"text-align: right;\">\n",
       "      <th></th>\n",
       "      <th>gender</th>\n",
       "      <th>level</th>\n",
       "      <th>userAgent</th>\n",
       "      <th>location</th>\n",
       "    </tr>\n",
       "  </thead>\n",
       "  <tbody>\n",
       "    <tr>\n",
       "      <th>count</th>\n",
       "      <td>225.0</td>\n",
       "      <td>225.00000</td>\n",
       "      <td>225.0</td>\n",
       "      <td>225.0</td>\n",
       "    </tr>\n",
       "    <tr>\n",
       "      <th>mean</th>\n",
       "      <td>1.0</td>\n",
       "      <td>1.60000</td>\n",
       "      <td>1.0</td>\n",
       "      <td>1.0</td>\n",
       "    </tr>\n",
       "    <tr>\n",
       "      <th>std</th>\n",
       "      <td>0.0</td>\n",
       "      <td>0.49099</td>\n",
       "      <td>0.0</td>\n",
       "      <td>0.0</td>\n",
       "    </tr>\n",
       "    <tr>\n",
       "      <th>min</th>\n",
       "      <td>1.0</td>\n",
       "      <td>1.00000</td>\n",
       "      <td>1.0</td>\n",
       "      <td>1.0</td>\n",
       "    </tr>\n",
       "    <tr>\n",
       "      <th>25%</th>\n",
       "      <td>1.0</td>\n",
       "      <td>1.00000</td>\n",
       "      <td>1.0</td>\n",
       "      <td>1.0</td>\n",
       "    </tr>\n",
       "    <tr>\n",
       "      <th>50%</th>\n",
       "      <td>1.0</td>\n",
       "      <td>2.00000</td>\n",
       "      <td>1.0</td>\n",
       "      <td>1.0</td>\n",
       "    </tr>\n",
       "    <tr>\n",
       "      <th>75%</th>\n",
       "      <td>1.0</td>\n",
       "      <td>2.00000</td>\n",
       "      <td>1.0</td>\n",
       "      <td>1.0</td>\n",
       "    </tr>\n",
       "    <tr>\n",
       "      <th>max</th>\n",
       "      <td>1.0</td>\n",
       "      <td>2.00000</td>\n",
       "      <td>1.0</td>\n",
       "      <td>1.0</td>\n",
       "    </tr>\n",
       "  </tbody>\n",
       "</table>\n",
       "</div>"
      ],
      "text/plain": [
       "       gender      level  userAgent  location\n",
       "count   225.0  225.00000      225.0     225.0\n",
       "mean      1.0    1.60000        1.0       1.0\n",
       "std       0.0    0.49099        0.0       0.0\n",
       "min       1.0    1.00000        1.0       1.0\n",
       "25%       1.0    1.00000        1.0       1.0\n",
       "50%       1.0    2.00000        1.0       1.0\n",
       "75%       1.0    2.00000        1.0       1.0\n",
       "max       1.0    2.00000        1.0       1.0"
      ]
     },
     "execution_count": 32,
     "metadata": {},
     "output_type": "execute_result"
    }
   ],
   "source": [
    "# check how many different values there are for each user for categorical variables\n",
    "unique_check = df.groupby(\"userId\").agg(countDistinct(\"gender\").alias(\"gender\"),\\\n",
    "                        countDistinct(\"level\").alias(\"level\"),\\\n",
    "                        countDistinct(\"userAgent\").alias(\"userAgent\"),\\\n",
    "                        countDistinct(\"location\").alias(\"location\")).toPandas()\n",
    "unique_check.describe()"
   ]
  },
  {
   "cell_type": "markdown",
   "metadata": {},
   "source": [
    "`gender`, `userAgent`, and `location` have only one value per user, while `level` is not unique for each user. Therefore, we can consider `gender`, `userAgent`, and `location` as fixed variable, and for `level` we will do different considerations later."
   ]
  },
  {
   "cell_type": "markdown",
   "metadata": {},
   "source": [
    "## Feature Engineering"
   ]
  },
  {
   "cell_type": "markdown",
   "metadata": {},
   "source": [
    "We will prepare the dataset for the predictive analysis in two steps. The first step consists in getting all the categorical and fixed variables, i.e. those variables that do not change for each user, like `gender`, `location`, `userAgent`. We will create a dataframe with each user having one row and their respective values for these variables. To get these variables we will simply take their values at the last record of each user."
   ]
  },
  {
   "cell_type": "code",
   "execution_count": 33,
   "metadata": {},
   "outputs": [
    {
     "data": {
      "text/plain": [
       "[Row(artist=None, auth='Logged In', firstName='Michael', gender='M', itemInSession=14, lastName='Miller', length=None, level='paid', location='Phoenix-Mesa-Scottsdale, AZ', method='PUT', page='Thumbs Up', registration=1537014411000, sessionId=2224, song=None, status=307, ts=1543190677000, userAgent='Mozilla/5.0 (Macintosh; Intel Mac OS X 10.8; rv:31.0) Gecko/20100101 Firefox/31.0', userId='60', churn=0, user='60', time=1543190677000),\n",
       " Row(artist=None, auth='Cancelled', firstName='Delaney', gender='F', itemInSession=23, lastName='Perez', length=None, level='free', location='Miami-Fort Lauderdale-West Palm Beach, FL', method='GET', page='Cancellation Confirmation', registration=1534627466000, sessionId=53, song=None, status=200, ts=1538498205000, userAgent='\"Mozilla/5.0 (Macintosh; Intel Mac OS X 10_6_8) AppleWebKit/537.36 (KHTML, like Gecko) Chrome/36.0.1985.143 Safari/537.36\"', userId='100001', churn=1, user='100001', time=1538498205000)]"
      ]
     },
     "execution_count": 33,
     "metadata": {},
     "output_type": "execute_result"
    }
   ],
   "source": [
    "# get last record for each user, so the record with the greatest timestamp\n",
    "lookup = df.groupby(\"userId\").agg({\"ts\":\"max\"}).withColumnRenamed(\"MAX(ts)\", \"time\").withColumnRenamed(\"userId\", \"user\")\n",
    "categorical_df = df.join(lookup, [df.ts == lookup.time, df.userId == lookup.user])\n",
    "categorical_df.head(2)"
   ]
  },
  {
   "cell_type": "markdown",
   "metadata": {},
   "source": [
    "Once we defined the categorical dataframe, let's check if there are any duplicates, as this dataframe should display one row per each user."
   ]
  },
  {
   "cell_type": "code",
   "execution_count": 34,
   "metadata": {},
   "outputs": [
    {
     "data": {
      "text/plain": [
       "[Row(userId='125', count=2),\n",
       " Row(userId='127', count=2),\n",
       " Row(userId='7', count=1),\n",
       " Row(userId='200002', count=1),\n",
       " Row(userId='51', count=1)]"
      ]
     },
     "execution_count": 34,
     "metadata": {},
     "output_type": "execute_result"
    }
   ],
   "source": [
    "# check if categorical df has any user with more than one row\n",
    "categorical_df.groupby(\"userId\").agg(count(\"userId\").alias(\"count\")).orderBy(col(\"count\").desc()).head(5)"
   ]
  },
  {
   "cell_type": "markdown",
   "metadata": {},
   "source": [
    "It seems that users 125 and 127 have two rows each, let's check why."
   ]
  },
  {
   "cell_type": "code",
   "execution_count": 35,
   "metadata": {},
   "outputs": [
    {
     "data": {
      "text/plain": [
       "[Row(artist='Rosie Vela', auth='Logged In', firstName='Aurora', gender='F', itemInSession=118, lastName='Humphrey', length=254.77179, level='paid', location='Dallas-Fort Worth-Arlington, TX', method='PUT', page='NextSong', registration=1536795126000, sessionId=2343, song='Magic Smile', status=200, ts=1543351229000, userAgent='\"Mozilla/5.0 (Windows NT 6.3; WOW64) AppleWebKit/537.36 (KHTML, like Gecko) Chrome/36.0.1985.125 Safari/537.36\"', userId='127', churn=0, user='127', time=1543351229000),\n",
       " Row(artist=None, auth='Logged In', firstName='Aurora', gender='F', itemInSession=119, lastName='Humphrey', length=None, level='paid', location='Dallas-Fort Worth-Arlington, TX', method='GET', page='Home', registration=1536795126000, sessionId=2343, song=None, status=200, ts=1543351229000, userAgent='\"Mozilla/5.0 (Windows NT 6.3; WOW64) AppleWebKit/537.36 (KHTML, like Gecko) Chrome/36.0.1985.125 Safari/537.36\"', userId='127', churn=0, user='127', time=1543351229000)]"
      ]
     },
     "execution_count": 35,
     "metadata": {},
     "output_type": "execute_result"
    }
   ],
   "source": [
    "categorical_df.filter(df.userId==\"127\").head(5)"
   ]
  },
  {
   "cell_type": "markdown",
   "metadata": {},
   "source": [
    "It seems that some users have more than one record displayed because the data show that there are two different action performed at the same time. To avoid this, we can remove `page` from this dataset, and we will include only those variables that we consider categorical and thus remove duplicate rows."
   ]
  },
  {
   "cell_type": "markdown",
   "metadata": {},
   "source": [
    "Before we remove `page`, the first feature to be calculated will be the number of days passed from the moment of registration for each user, i.e. how long the user has used the service at the time of the last event recorded for the user."
   ]
  },
  {
   "cell_type": "code",
   "execution_count": 36,
   "metadata": {},
   "outputs": [
    {
     "data": {
      "text/plain": [
       "[Row(artist=None, auth='Logged In', firstName='Michael', gender='M', itemInSession=14, lastName='Miller', length=None, level='paid', location='Phoenix-Mesa-Scottsdale, AZ', method='PUT', page='Thumbs Up', registration=1537014411000, sessionId=2224, song=None, status=307, ts=1543190677000, userAgent='Mozilla/5.0 (Macintosh; Intel Mac OS X 10.8; rv:31.0) Gecko/20100101 Firefox/31.0', userId='60', churn=0, user='60', time=1543190677000, rgstr_time=6176266000, days_since_registration=71.48),\n",
       " Row(artist=None, auth='Cancelled', firstName='Delaney', gender='F', itemInSession=23, lastName='Perez', length=None, level='free', location='Miami-Fort Lauderdale-West Palm Beach, FL', method='GET', page='Cancellation Confirmation', registration=1534627466000, sessionId=53, song=None, status=200, ts=1538498205000, userAgent='\"Mozilla/5.0 (Macintosh; Intel Mac OS X 10_6_8) AppleWebKit/537.36 (KHTML, like Gecko) Chrome/36.0.1985.143 Safari/537.36\"', userId='100001', churn=1, user='100001', time=1538498205000, rgstr_time=3870739000, days_since_registration=44.8)]"
      ]
     },
     "execution_count": 36,
     "metadata": {},
     "output_type": "execute_result"
    }
   ],
   "source": [
    "# calculate the difference in timestamp of each record from the registration timestamp\n",
    "categorical_df = categorical_df.withColumn(\"rgstr_time\", col(\"ts\") - col(\"registration\"))\n",
    "\n",
    "# define a user funtion that transforms timestamp in days\n",
    "diff_days = udf(lambda x: round(x/1000.0/3600.0/24.0, 2), DoubleType())\n",
    "\n",
    "# calculate the new column\n",
    "categorical_df = categorical_df.withColumn(\"days_since_registration\", diff_days(categorical_df.rgstr_time))\n",
    "categorical_df.head(2)"
   ]
  },
  {
   "cell_type": "markdown",
   "metadata": {},
   "source": [
    "Let's create a dataset of the fixed variables for each user: it will contain information such as `gender`, `location`, `userAgent` and `days_since_registration`. "
   ]
  },
  {
   "cell_type": "code",
   "execution_count": 37,
   "metadata": {},
   "outputs": [
    {
     "data": {
      "text/plain": [
       "[Row(gender='M', location='Philadelphia-Camden-Wilmington, PA-NJ-DE-MD', level='paid', userAgent='\"Mozilla/5.0 (iPhone; CPU iPhone OS 7_1_2 like Mac OS X) AppleWebKit/537.51.2 (KHTML, like Gecko) Version/7.0 Mobile/11D257 Safari/9537.53\"', user='79', days_since_registration=76.06)]"
      ]
     },
     "execution_count": 37,
     "metadata": {},
     "output_type": "execute_result"
    }
   ],
   "source": [
    "# select only relevant columns\n",
    "categorical_df = categorical_df.select(\"gender\", \"location\", \"level\", \"userAgent\", \"user\", \n",
    "                                       \"days_since_registration\").dropDuplicates()\n",
    "categorical_df.head(1)"
   ]
  },
  {
   "cell_type": "code",
   "execution_count": 38,
   "metadata": {},
   "outputs": [
    {
     "name": "stdout",
     "output_type": "stream",
     "text": [
      "+------+-----+\n",
      "|  user|count|\n",
      "+------+-----+\n",
      "|200002|    1|\n",
      "|100010|    1|\n",
      "|   125|    1|\n",
      "|     7|    1|\n",
      "|   124|    1|\n",
      "+------+-----+\n",
      "only showing top 5 rows\n",
      "\n"
     ]
    }
   ],
   "source": [
    "# check again if there are any duplicates\n",
    "categorical_df.groupby(\"user\").agg(count(\"user\").alias(\"count\")).orderBy(col(\"count\").desc()).show(5)"
   ]
  },
  {
   "cell_type": "markdown",
   "metadata": {},
   "source": [
    "We can see that there are no duplicate rows now, as intended."
   ]
  },
  {
   "cell_type": "markdown",
   "metadata": {},
   "source": [
    "The second step to create the dataframe for the predictive analysis will be to calculate the numerical features. These features will comprehend varibales like number of songs played, total seconds of songs listened, total thumbs up, total thumbs down, whether the user has upgraded, dowgraded, had a paid service, and has cancelled the subscription."
   ]
  },
  {
   "cell_type": "code",
   "execution_count": 39,
   "metadata": {},
   "outputs": [],
   "source": [
    "# define the user functions to calculate the variables written above\n",
    "is_thumbs_up = udf(lambda x: 1 if x == \"Thumbs Up\" else 0, IntegerType())\n",
    "is_thumbs_down = udf(lambda x: 1 if x == \"Thumbs Down\" else 0, IntegerType())\n",
    "has_upgraded = udf(lambda x: 1 if x == \"Upgrade\" else 0, IntegerType())\n",
    "has_downgraded = udf(lambda x: 1 if x == \"Downgrade\" else 0, IntegerType())\n",
    "is_song = udf(lambda x: 1 if x is not None else 0, IntegerType())\n",
    "has_been_paid = udf(lambda x:1 if x == \"paid\" else 0, IntegerType())\n",
    "\n",
    "# calculate the new columns\n",
    "df_clean = df.withColumn(\"thumbsUp\", is_thumbs_up(df.page))\\\n",
    "    .withColumn(\"thumbsDown\", is_thumbs_down(df.page))\\\n",
    "    .withColumn(\"upgraded\", has_upgraded(df.page))\\\n",
    "    .withColumn(\"downgraded\", has_downgraded(df.page))\\\n",
    "    .withColumn(\"songCheck\", is_song(df.song))\\\n",
    "    .withColumn(\"paid\", has_been_paid(df.level))"
   ]
  },
  {
   "cell_type": "markdown",
   "metadata": {},
   "source": [
    "Like for the categorical dataset, the objective is to obtain a dataset with one row per each user. Therefore, group by operations are needed in order to summarize the numerical variabales that were just calculated."
   ]
  },
  {
   "cell_type": "code",
   "execution_count": 40,
   "metadata": {},
   "outputs": [
    {
     "name": "stdout",
     "output_type": "stream",
     "text": [
      "+------+-----------+-----------+--------------+-------+---------+-------------+----+-----+\n",
      "|userId|total_songs|total_likes|total_dislikes|upgrade|downgrade|total_seconds|paid|churn|\n",
      "+------+-----------+-----------+--------------+-------+---------+-------------+----+-----+\n",
      "|100010|        275|         17|             5|      1|        0|      66940.9|   0|    0|\n",
      "+------+-----------+-----------+--------------+-------+---------+-------------+----+-----+\n",
      "only showing top 1 row\n",
      "\n"
     ]
    }
   ],
   "source": [
    "numerical_df = df_clean.groupBy(\"userId\").agg(Fsum(\"songCheck\").alias(\"total_songs\"),\\\n",
    "                                              Fsum(\"thumbsUp\").alias(\"total_likes\"),\\\n",
    "                                              Fsum(\"thumbsDown\").alias(\"total_dislikes\"),\\\n",
    "                                              max(\"upgraded\").alias(\"upgrade\"),\\\n",
    "                                              max(\"downgraded\").alias(\"downgrade\"),\\\n",
    "                                              Fround(Fsum(\"length\"),2).alias(\"total_seconds\"),\\\n",
    "                                              max(\"paid\").alias(\"paid\"),\\\n",
    "                                              max(\"churn\").alias(\"churn\"))\n",
    "numerical_df.show(1)"
   ]
  },
  {
   "cell_type": "code",
   "execution_count": 41,
   "metadata": {},
   "outputs": [
    {
     "data": {
      "text/plain": [
       "225"
      ]
     },
     "execution_count": 41,
     "metadata": {},
     "output_type": "execute_result"
    }
   ],
   "source": [
    "# check the number of records, see if there are all users (225)\n",
    "numerical_df.count()"
   ]
  },
  {
   "cell_type": "markdown",
   "metadata": {},
   "source": [
    "Performed the two steps, it's time to merge the categorical and numerical dataframes to get a new dataframe, which will be used for the predictive analysis."
   ]
  },
  {
   "cell_type": "code",
   "execution_count": 42,
   "metadata": {},
   "outputs": [],
   "source": [
    "# join the two dataframes\n",
    "ml_df = numerical_df.join(categorical_df, [numerical_df.userId == categorical_df.user])"
   ]
  },
  {
   "cell_type": "code",
   "execution_count": 43,
   "metadata": {},
   "outputs": [
    {
     "data": {
      "text/plain": [
       "[Row(userId='100010', total_songs=275, total_likes=17, total_dislikes=5, upgrade=1, downgrade=0, total_seconds=66940.9, paid=0, churn=0, gender='F', location='Bridgeport-Stamford-Norwalk, CT', level='free', userAgent='\"Mozilla/5.0 (iPhone; CPU iPhone OS 7_1_2 like Mac OS X) AppleWebKit/537.51.2 (KHTML, like Gecko) Version/7.0 Mobile/11D257 Safari/9537.53\"', user='100010', days_since_registration=55.64),\n",
       " Row(userId='200002', total_songs=387, total_likes=21, total_dislikes=6, upgrade=1, downgrade=1, total_seconds=94008.88, paid=1, churn=0, gender='M', location='Chicago-Naperville-Elgin, IL-IN-WI', level='paid', userAgent='\"Mozilla/5.0 (iPhone; CPU iPhone OS 7_1 like Mac OS X) AppleWebKit/537.51.2 (KHTML, like Gecko) Version/7.0 Mobile/11D167 Safari/9537.53\"', user='200002', days_since_registration=70.07),\n",
       " Row(userId='125', total_songs=8, total_likes=0, total_dislikes=0, upgrade=0, downgrade=0, total_seconds=2089.11, paid=0, churn=1, gender='M', location='Corpus Christi, TX', level='free', userAgent='\"Mozilla/5.0 (Macintosh; Intel Mac OS X 10_9_4) AppleWebKit/537.36 (KHTML, like Gecko) Chrome/36.0.1985.125 Safari/537.36\"', user='125', days_since_registration=71.32),\n",
       " Row(userId='124', total_songs=4079, total_likes=171, total_dislikes=41, upgrade=0, downgrade=1, total_seconds=1012312.09, paid=1, churn=0, gender='F', location='Vineland-Bridgeton, NJ', level='paid', userAgent='\"Mozilla/5.0 (Macintosh; Intel Mac OS X 10_9_4) AppleWebKit/537.36 (KHTML, like Gecko) Chrome/36.0.1985.143 Safari/537.36\"', user='124', days_since_registration=131.56),\n",
       " Row(userId='51', total_songs=2111, total_likes=100, total_dislikes=21, upgrade=0, downgrade=1, total_seconds=523275.84, paid=1, churn=1, gender='M', location='Lexington-Fayette, KY', level='paid', userAgent='\"Mozilla/5.0 (Windows NT 6.1; WOW64) AppleWebKit/537.36 (KHTML, like Gecko) Chrome/36.0.1985.143 Safari/537.36\"', user='51', days_since_registration=19.46)]"
      ]
     },
     "execution_count": 43,
     "metadata": {},
     "output_type": "execute_result"
    }
   ],
   "source": [
    "ml_df.head(5)"
   ]
  },
  {
   "cell_type": "markdown",
   "metadata": {},
   "source": [
    "# Modelling"
   ]
  },
  {
   "cell_type": "markdown",
   "metadata": {},
   "source": [
    "Now that the dataframe is ready for the analysis, let's do some correlation analysis and see which variables are the most suitable for our purpose."
   ]
  },
  {
   "cell_type": "code",
   "execution_count": 44,
   "metadata": {},
   "outputs": [
    {
     "data": {
      "text/plain": [
       "<matplotlib.axes._subplots.AxesSubplot at 0x7f27c811a9e8>"
      ]
     },
     "execution_count": 44,
     "metadata": {},
     "output_type": "execute_result"
    },
    {
     "data": {
      "image/png": "[encoded data removed]",
      "text/plain": [
       "<matplotlib.figure.Figure at 0x7f27c8040d68>"
      ]
     },
     "metadata": {},
     "output_type": "display_data"
    }
   ],
   "source": [
    "# correlation analysis among the numerical features and churn variable\n",
    "corr_df = ml_df.select(\"churn\", \"days_since_registration\", \"total_seconds\", \"total_songs\", \"total_likes\", \"total_dislikes\", \"upgrade\", \"downgrade\", \"paid\").toPandas()\n",
    "sns.set(rc={'figure.figsize':(10,10)},font_scale=1)\n",
    "\n",
    "# plot correlation matrix\n",
    "sns.heatmap(corr_df.corr(), annot=True)"
   ]
  },
  {
   "cell_type": "markdown",
   "metadata": {},
   "source": [
    "`total_songs` and `total_seconds` are the same in term of correlation, therefore we need only one of the two. Also `total_likes` and `total_dislikes` are pretty similar, therefore we can keep only one. We'll keep only `total_likes`, as it has a higher correlation with `churn`. Furthermore, from the analysis above, we saw that we can't really determine the influence of `location` and `userAgent` on `churn`, therefore we are going to exclude these columns from the analysis."
   ]
  },
  {
   "cell_type": "markdown",
   "metadata": {},
   "source": [
    "Let's write a function to assemble the data and make it ready for a machine learning model. Since there are categorical varibables, transformers like *StringIndexer* and *OneHotEncoder* will be needed. Then, all the variables, numerical and categorical, will be assembled into a vector column with *VectorAssembler*, and a pipeline that go through all these steps will be used to fit the data and create a \"feature\" vector columnn, needed for the analysis."
   ]
  },
  {
   "cell_type": "code",
   "execution_count": 45,
   "metadata": {},
   "outputs": [],
   "source": [
    "def assemble_ml_data(numeric_cols, index_cols, ml_df):\n",
    "    '''\n",
    "    This function takes as input a list of numerical columns, a list of categorical columns, and a PySpark dataframe and it\n",
    "    performs indexing and one hot encoding on the categorical columns, assembles the categorical and numerical columns into a \n",
    "    vector column that can be used for machine learning modelling with PySpark.\n",
    "    \n",
    "    Input:\n",
    "    numeric_cols - a list of column names that contain numerical values\n",
    "    index_cols - a list of column names that contain categorical values\n",
    "    ml_df - a PySpark dataframe\n",
    "    \n",
    "    Output:\n",
    "    data - a PySpark dataframe which contains a vector column and is suitable for machine learning modelling with PySpark\n",
    "    \n",
    "    '''\n",
    "    \n",
    "    # indexers and econders needed to deal with categorical variables\n",
    "    indexers = [StringIndexer(inputCol=col_name, outputCol=col_name + \"_index\", handleInvalid='keep') for col_name in index_cols]\n",
    "    encoders = [OneHotEncoder(inputCol=indexer.getOutputCol(), \n",
    "                          outputCol=\"{}_ohe\".format(indexer.getOutputCol())) for indexer in indexers]\n",
    "\n",
    "    # collect all variables, categorical and numerical and assemble them into a vector column\n",
    "    assembler = VectorAssembler(inputCols=[encoder.getOutputCol() for encoder in encoders] + numeric_cols, outputCol=\"vecfeatures\")\n",
    "    p_stages = indexers + encoders + [assembler]\n",
    "\n",
    "    pipeline = Pipeline(stages = p_stages)\n",
    "    data = pipeline.fit(ml_df).transform(ml_df)\n",
    "    \n",
    "    return data"
   ]
  },
  {
   "cell_type": "markdown",
   "metadata": {},
   "source": [
    "Let's put the function into action."
   ]
  },
  {
   "cell_type": "code",
   "execution_count": 46,
   "metadata": {},
   "outputs": [
    {
     "data": {
      "text/plain": [
       "[Row(userId='100010', gender='F', level='free', days_since_registration=55.64, total_songs=275, total_likes=17, upgrade=1, downgrade=0, paid=0, churn=0),\n",
       " Row(userId='200002', gender='M', level='paid', days_since_registration=70.07, total_songs=387, total_likes=21, upgrade=1, downgrade=1, paid=1, churn=0),\n",
       " Row(userId='125', gender='M', level='free', days_since_registration=71.32, total_songs=8, total_likes=0, upgrade=0, downgrade=0, paid=0, churn=1)]"
      ]
     },
     "execution_count": 46,
     "metadata": {},
     "output_type": "execute_result"
    }
   ],
   "source": [
    "# numeric and categorical columns that will be kept\n",
    "numeric_cols = [\"days_since_registration\", \"total_songs\", \"total_likes\", \"upgrade\", \"downgrade\", \"paid\"]\n",
    "index_cols = [\"gender\", \"level\"]\n",
    "ml_df = ml_df.select(\"userId\", \"gender\", \"level\", \"days_since_registration\", \"total_songs\", \n",
    "                     \"total_likes\", \"upgrade\", \"downgrade\", \"paid\", \"churn\")\n",
    "\n",
    "# caching dataset to obtain samme split when applying randomSplit() multiple times\n",
    "ml_df = ml_df.persist(pyspark.StorageLevel.MEMORY_AND_DISK)\n",
    "ml_df.head(3)"
   ]
  },
  {
   "cell_type": "code",
   "execution_count": 47,
   "metadata": {},
   "outputs": [
    {
     "data": {
      "text/plain": [
       "[Row(userId='100010', gender='F', level='free', days_since_registration=55.64, total_songs=275, total_likes=17, upgrade=1, downgrade=0, paid=0, churn=0, gender_index=1.0, level_index=1.0, gender_index_ohe=SparseVector(2, {1: 1.0}), level_index_ohe=SparseVector(2, {1: 1.0}), vecfeatures=DenseVector([0.0, 1.0, 0.0, 1.0, 55.64, 275.0, 17.0, 1.0, 0.0, 0.0])),\n",
       " Row(userId='200002', gender='M', level='paid', days_since_registration=70.07, total_songs=387, total_likes=21, upgrade=1, downgrade=1, paid=1, churn=0, gender_index=0.0, level_index=0.0, gender_index_ohe=SparseVector(2, {0: 1.0}), level_index_ohe=SparseVector(2, {0: 1.0}), vecfeatures=DenseVector([1.0, 0.0, 1.0, 0.0, 70.07, 387.0, 21.0, 1.0, 1.0, 1.0]))]"
      ]
     },
     "execution_count": 47,
     "metadata": {},
     "output_type": "execute_result"
    }
   ],
   "source": [
    "data = assemble_ml_data(numeric_cols, index_cols, ml_df)\n",
    "data.head(2)"
   ]
  },
  {
   "cell_type": "markdown",
   "metadata": {},
   "source": [
    "Once the data is ready to be fed into a machine learning model, we will feed it to a pipeline that comprehends a *StandardScaler* and a *Classifier*, which will be chosen among three algorithms: **Random Forest (RF)**, **Linear Regression (LR)** and **Linear SVC (LSVC)**. We will write a function that goes through all these steps and also adds the possibility to use *CrossValidation*, in order to be able to do parameter tuning for our chosen model."
   ]
  },
  {
   "cell_type": "code",
   "execution_count": 48,
   "metadata": {},
   "outputs": [],
   "source": [
    "def make_prediction(data, transformer=None, paramGrid=None):\n",
    "    '''\n",
    "    This function takes as input a PySpark dataframe with vector feature column, and make a prediction on the target value based\n",
    "    on the transformer used. The transformer is tuned using the paramGrid with cross-validation.\n",
    "    \n",
    "    Input:\n",
    "    data - a PySpark datafram with a vector feature column\n",
    "    transformer - a transformer to make label prediction on the target value (i.e. LogisticRegression, RandomForestClassifier)\n",
    "    paramGrid - a set of parameters used for tuning, it must be a PramGridBuilder instance\n",
    "    \n",
    "    Output:\n",
    "    results - a PySpark dataframe containing the results of the prediction process in the column \"prediction\"\n",
    "    '''\n",
    "    \n",
    "    # split data into train and test sets and set the pipeline\n",
    "    train, test = data.randomSplit([0.8, 0.2], seed=42)\n",
    "    standardscaler = StandardScaler(inputCol=\"vecfeatures\", outputCol=\"features\", withMean=True, withStd=True)\n",
    "    pipeline = Pipeline(stages=[standardscaler, transformer])\n",
    "    \n",
    "    # if a parameter grid is passed, the function gives the possibility to perform cross-validation\n",
    "    if paramGrid != None:\n",
    "        crossval = CrossValidator(estimator=pipeline,\n",
    "                             estimatorParamMaps=paramGrid,\n",
    "                             evaluator=MulticlassClassificationEvaluator(),\n",
    "                             numFolds=3)\n",
    "    \n",
    "        model = crossval.fit(train.withColumnRenamed(\"churn\", \"label\"))\n",
    "    else:\n",
    "        model = pipeline.fit(train.withColumnRenamed(\"churn\", \"label\"))\n",
    "    \n",
    "    results = model.transform(test)\n",
    "    \n",
    "    # output both the model and the dataset with the prediction column\n",
    "    return model, results"
   ]
  },
  {
   "cell_type": "markdown",
   "metadata": {},
   "source": [
    "Now we only need a function to evaluate the goodness of the model. We will look at several metrics to score our models, as **accuracy** alone is not realiable in those cases where there's a class imbalance. In this case, for example, the number of not churn users is way bigger than the number of churn users. Using **accuracy** only may lead to the model labelling every users as not churn, since they represents the majority, and still performing well. We will focus then on other three metrics: **precision**, **recall** and **f1score**. *sklearn* classification reports comes in handy for this purpose, as it allows to see the values of all the metrics mentioned for each predicted class in the dataset."
   ]
  },
  {
   "cell_type": "code",
   "execution_count": 49,
   "metadata": {},
   "outputs": [],
   "source": [
    "def evaluation_metrics(results, label_col=\"label\", pred_col=\"prediction\"):\n",
    "    \n",
    "    pandas_df = results.select(label_col, pred_col).toPandas()\n",
    "    print(\"Accuracy: \", sum(pandas_df[label_col] == pandas_df[pred_col])/pandas_df.shape[0])\n",
    "    print(classification_report(np.array(pandas_df[label_col]), np.array(pandas_df[pred_col])))"
   ]
  },
  {
   "cell_type": "markdown",
   "metadata": {},
   "source": [
    "Now that all the necessary functions are defined, let's feed our data to different transformer (**RF**, **LR**, **LSVC**)."
   ]
  },
  {
   "cell_type": "markdown",
   "metadata": {},
   "source": [
    "#### Random Forest"
   ]
  },
  {
   "cell_type": "code",
   "execution_count": 50,
   "metadata": {},
   "outputs": [],
   "source": [
    "rf = RandomForestClassifier(labelCol=\"label\", featuresCol=\"features\")\n",
    "\n",
    "model, results_rf = make_prediction(data, rf)"
   ]
  },
  {
   "cell_type": "code",
   "execution_count": 51,
   "metadata": {},
   "outputs": [],
   "source": [
    "# f1 = MulticlassClassificationEvaluator().evaluate(results_rf.withColumnRenamed(\"churn\", \"label\"))\n",
    "# print(\"f1 for Random Forest: \", f1)"
   ]
  },
  {
   "cell_type": "code",
   "execution_count": 52,
   "metadata": {},
   "outputs": [
    {
     "name": "stdout",
     "output_type": "stream",
     "text": [
      "Accuracy:  0.7647058823529411\n",
      "             precision    recall  f1-score   support\n",
      "\n",
      "          0       0.78      0.96      0.86        26\n",
      "          1       0.50      0.12      0.20         8\n",
      "\n",
      "avg / total       0.72      0.76      0.71        34\n",
      "\n"
     ]
    }
   ],
   "source": [
    "evaluation_metrics(results_rf, \"churn\", \"prediction\")"
   ]
  },
  {
   "cell_type": "markdown",
   "metadata": {},
   "source": [
    "#### Linear Regression"
   ]
  },
  {
   "cell_type": "code",
   "execution_count": 53,
   "metadata": {},
   "outputs": [],
   "source": [
    "lr = LogisticRegression(labelCol=\"label\", featuresCol=\"features\")\n",
    "\n",
    "model, results_lr = make_prediction(data, lr)"
   ]
  },
  {
   "cell_type": "code",
   "execution_count": 54,
   "metadata": {},
   "outputs": [
    {
     "name": "stdout",
     "output_type": "stream",
     "text": [
      "Accuracy:  0.8529411764705882\n",
      "             precision    recall  f1-score   support\n",
      "\n",
      "          0       0.84      1.00      0.91        26\n",
      "          1       1.00      0.38      0.55         8\n",
      "\n",
      "avg / total       0.88      0.85      0.83        34\n",
      "\n"
     ]
    }
   ],
   "source": [
    "evaluation_metrics(results_lr, \"churn\", \"prediction\")"
   ]
  },
  {
   "cell_type": "markdown",
   "metadata": {},
   "source": [
    "#### Linear SVC"
   ]
  },
  {
   "cell_type": "code",
   "execution_count": 55,
   "metadata": {},
   "outputs": [],
   "source": [
    "LSVC = LinearSVC(labelCol=\"label\", featuresCol=\"features\")\n",
    "\n",
    "model, results_svc = make_prediction(data, LSVC)"
   ]
  },
  {
   "cell_type": "code",
   "execution_count": 56,
   "metadata": {},
   "outputs": [
    {
     "name": "stdout",
     "output_type": "stream",
     "text": [
      "Accuracy:  0.7647058823529411\n",
      "             precision    recall  f1-score   support\n",
      "\n",
      "          0       0.76      1.00      0.87        26\n",
      "          1       0.00      0.00      0.00         8\n",
      "\n",
      "avg / total       0.58      0.76      0.66        34\n",
      "\n"
     ]
    },
    {
     "name": "stderr",
     "output_type": "stream",
     "text": [
      "/opt/conda/lib/python3.6/site-packages/sklearn/metrics/classification.py:1135: UndefinedMetricWarning: Precision and F-score are ill-defined and being set to 0.0 in labels with no predicted samples.\n",
      "  'precision', 'predicted', average, warn_for)\n"
     ]
    }
   ],
   "source": [
    "evaluation_metrics(results_svc, \"churn\", \"prediction\")"
   ]
  },
  {
   "cell_type": "markdown",
   "metadata": {},
   "source": [
    "From the results above, the best algoirthms are Linear Regression and Random Forest."
   ]
  },
  {
   "cell_type": "markdown",
   "metadata": {},
   "source": [
    "|model|accuracy|precision|recall|f1 score|\n",
    "|---|---|---|---|---|\n",
    "|RF|0.82|0.86|0.82|0.78|\n",
    "|LR|0.85|0.88|0.85|0.83|\n",
    "|LSVC|0.77|0.58|0.76|0.66|"
   ]
  },
  {
   "cell_type": "markdown",
   "metadata": {},
   "source": [
    "# Model Tuning And Refinement"
   ]
  },
  {
   "cell_type": "markdown",
   "metadata": {},
   "source": [
    "The number of churn user is relately small compared to the total number of user in the dataset and from the results of the cells above, it seems that the algorithms can't detect well churn users, which is likely due to class imbalance. Let's try to introduce label weights, in order to equilibrate the presence of churn and not churn users."
   ]
  },
  {
   "cell_type": "code",
   "execution_count": 57,
   "metadata": {},
   "outputs": [
    {
     "data": {
      "text/plain": [
       "[Row(churn=0, weight=0.2311111111111111),\n",
       " Row(churn=0, weight=0.2311111111111111),\n",
       " Row(churn=1, weight=0.7688888888888888),\n",
       " Row(churn=0, weight=0.2311111111111111),\n",
       " Row(churn=1, weight=0.7688888888888888)]"
      ]
     },
     "execution_count": 57,
     "metadata": {},
     "output_type": "execute_result"
    }
   ],
   "source": [
    "# let's calculate weights for churn and not churn users\n",
    "churn_weight = n_not_churn_users/(n_churn_users + n_not_churn_users)\n",
    "not_churn_weight = n_churn_users/(n_churn_users + n_not_churn_users)\n",
    "\n",
    "# get weight column for the dataframe\n",
    "label_weight = udf(lambda x: churn_weight if x==1 else not_churn_weight, DoubleType())\n",
    "data = data.withColumn(\"weight\", label_weight(data.churn))\n",
    "data.select(\"churn\", \"weight\").head(5)"
   ]
  },
  {
   "cell_type": "markdown",
   "metadata": {},
   "source": [
    "Now that we have the weight column, let's see how results change. We will look at only Linear Regression, as the current spark version we are using does not allow to have a weight column for Random Forest. Moreover, we will also tune the model with *CrossValidation*."
   ]
  },
  {
   "cell_type": "code",
   "execution_count": 58,
   "metadata": {},
   "outputs": [],
   "source": [
    "lr = LogisticRegression(labelCol=\"label\", featuresCol=\"features\", weightCol=\"weight\")\n",
    "\n",
    "# define parameter grid\n",
    "paramGrid = ParamGridBuilder() \\\n",
    "    .addGrid(lr.regParam, [0.0, 0.01, 0.05, 0.1, 0.5, 1]) \\\n",
    "    .addGrid(lr.threshold,[0.3, 0.4, 0.5]) \\\n",
    "    .build()\n",
    "\n",
    "\n",
    "model, results = make_prediction(data, lr, paramGrid)"
   ]
  },
  {
   "cell_type": "code",
   "execution_count": 59,
   "metadata": {},
   "outputs": [
    {
     "name": "stdout",
     "output_type": "stream",
     "text": [
      "Accuracy:  0.7352941176470589\n",
      "             precision    recall  f1-score   support\n",
      "\n",
      "          0       0.87      0.77      0.82        26\n",
      "          1       0.45      0.62      0.53         8\n",
      "\n",
      "avg / total       0.77      0.74      0.75        34\n",
      "\n"
     ]
    }
   ],
   "source": [
    "evaluation_metrics(results, \"churn\", \"prediction\")"
   ]
  },
  {
   "cell_type": "markdown",
   "metadata": {},
   "source": [
    "|model|accuracy|precision|recall|f1 score|\n",
    "|---|---|---|---|---|\n",
    "|LR|0.74|0.77|0.74|0.75|"
   ]
  },
  {
   "cell_type": "code",
   "execution_count": 60,
   "metadata": {},
   "outputs": [
    {
     "data": {
      "text/plain": [
       "{Param(parent='LogisticRegression_166c6041de21', name='aggregationDepth', doc='suggested depth for treeAggregate (>= 2)'): 2,\n",
       " Param(parent='LogisticRegression_166c6041de21', name='elasticNetParam', doc='the ElasticNet mixing parameter, in range [0, 1]. For alpha = 0, the penalty is an L2 penalty. For alpha = 1, it is an L1 penalty'): 0.0,\n",
       " Param(parent='LogisticRegression_166c6041de21', name='family', doc='The name of family which is a description of the label distribution to be used in the model. Supported options: auto, binomial, multinomial.'): 'auto',\n",
       " Param(parent='LogisticRegression_166c6041de21', name='featuresCol', doc='features column name'): 'features',\n",
       " Param(parent='LogisticRegression_166c6041de21', name='fitIntercept', doc='whether to fit an intercept term'): True,\n",
       " Param(parent='LogisticRegression_166c6041de21', name='labelCol', doc='label column name'): 'label',\n",
       " Param(parent='LogisticRegression_166c6041de21', name='maxIter', doc='maximum number of iterations (>= 0)'): 100,\n",
       " Param(parent='LogisticRegression_166c6041de21', name='predictionCol', doc='prediction column name'): 'prediction',\n",
       " Param(parent='LogisticRegression_166c6041de21', name='probabilityCol', doc='Column name for predicted class conditional probabilities. Note: Not all models output well-calibrated probability estimates! These probabilities should be treated as confidences, not precise probabilities'): 'probability',\n",
       " Param(parent='LogisticRegression_166c6041de21', name='rawPredictionCol', doc='raw prediction (a.k.a. confidence) column name'): 'rawPrediction',\n",
       " Param(parent='LogisticRegression_166c6041de21', name='regParam', doc='regularization parameter (>= 0)'): 0.01,\n",
       " Param(parent='LogisticRegression_166c6041de21', name='standardization', doc='whether to standardize the training features before fitting the model'): True,\n",
       " Param(parent='LogisticRegression_166c6041de21', name='threshold', doc='threshold in binary classification prediction, in range [0, 1]'): 0.5,\n",
       " Param(parent='LogisticRegression_166c6041de21', name='tol', doc='the convergence tolerance for iterative algorithms (>= 0)'): 1e-06,\n",
       " Param(parent='LogisticRegression_166c6041de21', name='weightCol', doc='weight column name. If this is not set or empty, we treat all instance weights as 1.0'): 'weight'}"
      ]
     },
     "execution_count": 60,
     "metadata": {},
     "output_type": "execute_result"
    }
   ],
   "source": [
    "# let's see which parameters gave the best results\n",
    "model.bestModel.stages[-1].extractParamMap()"
   ]
  },
  {
   "cell_type": "markdown",
   "metadata": {},
   "source": [
    "From the output of the cell above, the two parameters chosen for tuning, **regParam** and **threshold**, have respectively the values of 0 and 0.5, which are the default values."
   ]
  },
  {
   "cell_type": "markdown",
   "metadata": {},
   "source": [
    "# A Different Approach"
   ]
  },
  {
   "cell_type": "markdown",
   "metadata": {},
   "source": [
    "We focused until now on getting total variables like number of songs playes, total songs liked, disliked. Let's try a different approach, where instead of total songs and total likes we focus on the average number of songs per session, the number of sessions played, the gap between sessions, the average number of likes and dislikes per session, etc.. The numerical features of the dataset will be different then."
   ]
  },
  {
   "cell_type": "code",
   "execution_count": 64,
   "metadata": {},
   "outputs": [
    {
     "data": {
      "text/plain": [
       "Row(artist='Martha Tilston', auth='Logged In', firstName='Colin', gender='M', itemInSession=50, lastName='Freeman', length=277.89016, level='paid', location='Bakersfield, CA', method='PUT', page='NextSong', registration=1538173362000, sessionId=29, song='Rockpools', status=200, ts=1538352117000, userAgent='Mozilla/5.0 (Windows NT 6.1; WOW64; rv:31.0) Gecko/20100101 Firefox/31.0', userId='30', churn=0, rgstr_time=178755000, days_since_registration=2.07, thumbsUp=0, thumbsDown=0, upgraded=0, downgraded=0, songCheck=1, paid=1)"
      ]
     },
     "execution_count": 64,
     "metadata": {},
     "output_type": "execute_result"
    }
   ],
   "source": [
    "# the user defined functions are the same as above\n",
    "is_thumbs_up = udf(lambda x: 1 if x == \"Thumbs Up\" else 0, IntegerType())\n",
    "is_thumbs_down = udf(lambda x: 1 if x == \"Thumbs Down\" else 0, IntegerType())\n",
    "has_upgraded = udf(lambda x: 1 if x == \"Submit Upgrade\" else 0, IntegerType())\n",
    "has_downgraded = udf(lambda x: 1 if x == \"Submit Downgrade\" else 0, IntegerType())\n",
    "is_song = udf(lambda x: 1 if x is not None else 0, IntegerType())\n",
    "has_been_paid = udf(lambda x:1 if x == \"paid\" else 0, IntegerType())\n",
    "\n",
    "df_ses = df.withColumn(\"thumbsUp\", is_thumbs_up(df.page))\\\n",
    "    .withColumn(\"thumbsDown\", is_thumbs_down(df.page))\\\n",
    "    .withColumn(\"upgraded\", has_upgraded(df.page))\\\n",
    "    .withColumn(\"downgraded\", has_downgraded(df.page))\\\n",
    "    .withColumn(\"songCheck\", is_song(df.song))\\\n",
    "    .withColumn(\"paid\", has_been_paid(df.level))\n",
    "    \n",
    "\n",
    "df_ses.head()"
   ]
  },
  {
   "cell_type": "markdown",
   "metadata": {},
   "source": [
    "Differently from before, we will consider the `sessionId` variable, and summarize the different features based on the sessions. Variables like `total_songs`, `total_likes`, `total_dislikes` will be now average songs, avergae number of likes, and average number of dislikes per session."
   ]
  },
  {
   "cell_type": "code",
   "execution_count": 65,
   "metadata": {},
   "outputs": [
    {
     "data": {
      "text/plain": [
       "[Row(userId='10', sessionId=9, churn=0, ses_start=1538965220000, ses_end=1538979372000, thumbsUp=3, thumbsDown=0, upgraded=0, downgraded=0, num_songs=57, paid=1, sessionDuration_hours=3.931111111111111),\n",
       " Row(userId='10', sessionId=1047, churn=0, ses_start=1540850546000, ses_end=1540856031000, thumbsUp=2, thumbsDown=0, upgraded=0, downgraded=0, num_songs=21, paid=1, sessionDuration_hours=1.523611111111111)]"
      ]
     },
     "execution_count": 65,
     "metadata": {},
     "output_type": "execute_result"
    }
   ],
   "source": [
    "df_ses = df_ses.select(\"userId\", \"sessionId\", \"churn\", \"ts\", \"rgstr_time\", \"thumbsUp\", \"thumbsDown\",\n",
    "              \"upgraded\", \"downgraded\", \"songCheck\", \"paid\") # no use of song length because of correlation seen before\n",
    "\n",
    "# the group by is now done both at the user and session level\n",
    "df_user_ses = df_ses.groupby(\"userId\", \"sessionId\").agg(max(\"churn\").alias(\"churn\"),\\\n",
    "                                          min(\"ts\").alias(\"ses_start\"),\\\n",
    "                                          max(\"ts\").alias(\"ses_end\"),\\\n",
    "                                          Fsum(\"thumbsUp\").alias(\"thumbsUp\"),\\\n",
    "                                          Fsum(\"thumbsDown\").alias(\"thumbsDown\"),\\\n",
    "                                          Fsum(\"upgraded\").alias(\"upgraded\"),\\\n",
    "                                          Fsum(\"downgraded\").alias(\"downgraded\"),\\\n",
    "                                          Fsum(\"songCheck\").alias(\"num_songs\"),\\\n",
    "                                          max(\"paid\").alias(\"paid\"))\n",
    "\n",
    "df_user_ses = df_user_ses.withColumn(\"sessionDuration_hours\", (col(\"ses_end\") - col(\"ses_start\"))/1000.0/3600.0)\n",
    "df_user_ses.orderBy(\"userId\").head(2)"
   ]
  },
  {
   "cell_type": "markdown",
   "metadata": {},
   "source": [
    "The extra step will be in this case the calculation of the gap between sessions, `sessiongap_hours`, which can be done by getting the start and end date of each session."
   ]
  },
  {
   "cell_type": "code",
   "execution_count": 66,
   "metadata": {},
   "outputs": [
    {
     "data": {
      "text/plain": [
       "[Row(userId='10', sessionId=9, churn=0, ses_start=1538965220000, ses_end=1538979372000, thumbsUp=3, thumbsDown=0, upgraded=0, downgraded=0, num_songs=57, paid=1, sessionDuration_hours=3.931111111111111, prev_ses_end=None, sessiongap_hours=None),\n",
       " Row(userId='10', sessionId=595, churn=0, ses_start=1539833923000, ses_end=1539926798000, thumbsUp=23, thumbsDown=4, upgraded=0, downgraded=0, num_songs=381, paid=1, sessionDuration_hours=25.79861111111111, prev_ses_end=1538979372000, sessiongap_hours=237.37527777777777)]"
      ]
     },
     "execution_count": 66,
     "metadata": {},
     "output_type": "execute_result"
    }
   ],
   "source": [
    "# create window function\n",
    "user_window = Window \\\n",
    "   .partitionBy(\"userID\") \\\n",
    "   .orderBy(asc(\"ses_start\"))\n",
    "\n",
    "# get the timestamp at the end of the previous session\n",
    "df_user_ses = df_user_ses.withColumn(\"prev_ses_end\", lag(col(\"ses_end\")).over(user_window))\n",
    "# calculate session gap as the difference between the start date of the current session and the end date of the previous one\n",
    "df_user_ses = df_user_ses.withColumn(\"sessiongap_hours\", (col(\"ses_start\") - col(\"prev_ses_end\"))/1000.0/3600.0)\n",
    "df_user_ses.orderBy(\"userId\", asc(\"ses_start\")).head(2)"
   ]
  },
  {
   "cell_type": "markdown",
   "metadata": {},
   "source": [
    "Let's summarize now all the features to otbain an average situation of a general session for each user.  "
   ]
  },
  {
   "cell_type": "code",
   "execution_count": 67,
   "metadata": {},
   "outputs": [
    {
     "data": {
      "text/plain": [
       "Row(userId='100010', churn=0, num_sessions=7, avg_thumbsUp=2.43, avg_thumbsDown=0.71, total_upgrades=0, total_downgrades=0, avg_songs=39.29, avg_session_duration=2.57, avg_session_gap=173.87, paid=0)"
      ]
     },
     "execution_count": 67,
     "metadata": {},
     "output_type": "execute_result"
    }
   ],
   "source": [
    "# summarize all the features as average per session\n",
    "df_user = df_user_ses.groupby(\"userId\").agg(max(\"churn\").alias(\"churn\"),\\\n",
    "                               count(\"sessionId\").alias(\"num_sessions\"),\\\n",
    "                               Fround(avg(\"thumbsUp\"),2).alias(\"avg_thumbsUp\"),\\\n",
    "                               Fround(avg(\"thumbsDown\"),2).alias(\"avg_thumbsDown\"),\\\n",
    "                               Fsum(\"upgraded\").alias(\"total_upgrades\"),\\\n",
    "                               Fsum(\"downgraded\").alias(\"total_downgrades\"),\\\n",
    "                               Fround(avg(\"num_songs\"),2).alias(\"avg_songs\"),\\\n",
    "                               Fround(avg(\"sessionDuration_hours\"),2).alias(\"avg_session_duration\"),\\\n",
    "                               Fround(avg(\"sessiongap_hours\"),2).alias(\"avg_session_gap\"),\\\n",
    "                               max(\"paid\").alias(\"paid\"))\n",
    "\n",
    "df_user.head()"
   ]
  },
  {
   "cell_type": "markdown",
   "metadata": {},
   "source": [
    "Let's merge the categorical dataset with the numerical features."
   ]
  },
  {
   "cell_type": "code",
   "execution_count": 68,
   "metadata": {},
   "outputs": [
    {
     "data": {
      "text/plain": [
       "[Row(userId='100010', churn=0, num_sessions=7, avg_thumbsUp=2.43, avg_thumbsDown=0.71, total_upgrades=0, total_downgrades=0, avg_songs=39.29, avg_session_duration=2.57, avg_session_gap=173.87, paid=0, gender='F', location='Bridgeport-Stamford-Norwalk, CT', level='free', userAgent='\"Mozilla/5.0 (iPhone; CPU iPhone OS 7_1_2 like Mac OS X) AppleWebKit/537.51.2 (KHTML, like Gecko) Version/7.0 Mobile/11D257 Safari/9537.53\"', user='100010', days_since_registration=55.64)]"
      ]
     },
     "execution_count": 68,
     "metadata": {},
     "output_type": "execute_result"
    }
   ],
   "source": [
    "ml_df = df_user.join(categorical_df, [df_user.userId == categorical_df.user])\n",
    "ml_df.head(1)"
   ]
  },
  {
   "cell_type": "markdown",
   "metadata": {},
   "source": [
    "Now that the data is merged, let's perform a correlation analysis again."
   ]
  },
  {
   "cell_type": "code",
   "execution_count": 69,
   "metadata": {},
   "outputs": [
    {
     "data": {
      "text/plain": [
       "<matplotlib.axes._subplots.AxesSubplot at 0x7f8e00f554e0>"
      ]
     },
     "execution_count": 69,
     "metadata": {},
     "output_type": "execute_result"
    },
    {
     "data": {
      "image/png": "[encoded data removed]",
      "text/plain": [
       "<matplotlib.figure.Figure at 0x7f8e00081f98>"
      ]
     },
     "metadata": {},
     "output_type": "display_data"
    }
   ],
   "source": [
    "df_corr = ml_df.select(\"churn\", \"days_since_registration\", \"avg_songs\", \"avg_thumbsUp\", \"avg_thumbsDown\", \"avg_session_duration\", \n",
    "                \"avg_session_gap\", \"total_upgrades\", \"total_downgrades\", \"num_sessions\", \"paid\").toPandas()\n",
    "sns.set(rc={'figure.figsize':(10,10)},font_scale=1)\n",
    "\n",
    "# plot correlation matrix\n",
    "sns.heatmap(df_corr.corr(), annot=True)"
   ]
  },
  {
   "cell_type": "markdown",
   "metadata": {},
   "source": [
    "There are no variables which produces similar results in the correlation analysis, therefore we will keep all of them."
   ]
  },
  {
   "cell_type": "code",
   "execution_count": 70,
   "metadata": {},
   "outputs": [
    {
     "data": {
      "text/plain": [
       "[Row(days_since_registration=55.64, avg_songs=39.29, avg_thumbsUp=2.43, avg_thumbsDown=0.71, avg_session_duration=2.57, avg_session_gap=173.87, total_upgrades=0, total_downgrades=0, num_sessions=7, paid=0, gender='F', level='free', churn=0),\n",
       " Row(days_since_registration=70.07, avg_songs=64.5, avg_thumbsUp=3.5, avg_thumbsDown=1.0, avg_session_duration=4.44, avg_session_gap=213.06, total_upgrades=1, total_downgrades=0, num_sessions=6, paid=1, gender='M', level='paid', churn=0),\n",
       " Row(days_since_registration=71.32, avg_songs=8.0, avg_thumbsUp=0.0, avg_thumbsDown=0.0, avg_session_duration=0.49, avg_session_gap=None, total_upgrades=0, total_downgrades=0, num_sessions=1, paid=0, gender='M', level='free', churn=1)]"
      ]
     },
     "execution_count": 70,
     "metadata": {},
     "output_type": "execute_result"
    }
   ],
   "source": [
    "numeric_cols = [\"days_since_registration\", \"avg_songs\", \"avg_thumbsUp\", \"avg_thumbsDown\", \"avg_session_duration\", \n",
    "                \"avg_session_gap\", \"total_upgrades\", \"total_downgrades\", \"num_sessions\", \"paid\"]\n",
    "\n",
    "index_cols = [\"gender\", \"level\"]\n",
    "\n",
    "new_ml_df = ml_df.select(\"days_since_registration\", \"avg_songs\", \"avg_thumbsUp\", \"avg_thumbsDown\", \"avg_session_duration\", \n",
    "                         \"avg_session_gap\", \"total_upgrades\", \"total_downgrades\", \"num_sessions\", \"paid\", \"gender\", \"level\", \"churn\")\n",
    "new_ml_df.head(3)"
   ]
  },
  {
   "cell_type": "code",
   "execution_count": 71,
   "metadata": {},
   "outputs": [
    {
     "data": {
      "text/plain": [
       "Row(days_since_registration=55.64, avg_songs=39.29, avg_thumbsUp=2.43, avg_thumbsDown=0.71, avg_session_duration=2.57, avg_session_gap=173.87, total_upgrades=0, total_downgrades=0, num_sessions=7, paid=0, gender='F', level='free', churn=0, gender_index=1.0, level_index=1.0, gender_index_ohe=SparseVector(2, {1: 1.0}), level_index_ohe=SparseVector(2, {1: 1.0}), vecfeatures=DenseVector([0.0, 1.0, 0.0, 1.0, 55.64, 39.29, 2.43, 0.71, 2.57, 173.87, 0.0, 0.0, 7.0, 0.0]))"
      ]
     },
     "execution_count": 71,
     "metadata": {},
     "output_type": "execute_result"
    }
   ],
   "source": [
    "# preparing dataset for predicting analysis\n",
    "data = assemble_ml_data(numeric_cols, index_cols, new_ml_df)\n",
    "data.head()"
   ]
  },
  {
   "cell_type": "markdown",
   "metadata": {},
   "source": [
    "Now the data is ready, let's feed to the same three machine learning algorithms, **Random Forest**, **Linear Regression** and **Linear SVC**."
   ]
  },
  {
   "cell_type": "code",
   "execution_count": 75,
   "metadata": {
    "collapsed": true
   },
   "outputs": [
    {
     "ename": "Py4JJavaError",
     "evalue": "An error occurred while calling o4020.fit.\n: org.apache.spark.SparkException: Job aborted due to stage failure: Task 1 in stage 3904.0 failed 1 times, most recent failure: Lost task 1.0 in stage 3904.0 (TID 125328, localhost, executor driver): org.apache.spark.SparkException: Failed to execute user defined function($anonfun$4: (struct<gender_index_ohe:struct<type:tinyint,size:int,indices:array<int>,values:array<double>>,level_index_ohe:struct<type:tinyint,size:int,indices:array<int>,values:array<double>>,days_since_registration:double,avg_songs:double,avg_thumbsUp:double,avg_thumbsDown:double,avg_session_duration:double,avg_session_gap:double,total_upgrades_double_VectorAssembler_86a3f6fbe3f8:double,total_downgrades_double_VectorAssembler_86a3f6fbe3f8:double,num_sessions_double_VectorAssembler_86a3f6fbe3f8:double,paid_double_VectorAssembler_86a3f6fbe3f8:double>) => struct<type:tinyint,size:int,indices:array<int>,values:array<double>>)\n\tat org.apache.spark.sql.catalyst.expressions.GeneratedClass$GeneratedIteratorForCodegenStage15.sort_addToSorter_0$(Unknown Source)\n\tat org.apache.spark.sql.catalyst.expressions.GeneratedClass$GeneratedIteratorForCodegenStage15.processNext(Unknown Source)\n\tat org.apache.spark.sql.execution.BufferedRowIterator.hasNext(BufferedRowIterator.java:43)\n\tat org.apache.spark.sql.execution.WholeStageCodegenExec$$anonfun$15$$anon$2.hasNext(WholeStageCodegenExec.scala:655)\n\tat org.apache.spark.sql.execution.columnar.CachedRDDBuilder$$anonfun$1$$anon$1.hasNext(InMemoryRelation.scala:125)\n\tat org.apache.spark.storage.memory.MemoryStore.putIterator(MemoryStore.scala:221)\n\tat org.apache.spark.storage.memory.MemoryStore.putIteratorAsValues(MemoryStore.scala:299)\n\tat org.apache.spark.storage.BlockManager$$anonfun$doPutIterator$1.apply(BlockManager.scala:1165)\n\tat org.apache.spark.storage.BlockManager$$anonfun$doPutIterator$1.apply(BlockManager.scala:1156)\n\tat org.apache.spark.storage.BlockManager.doPut(BlockManager.scala:1091)\n\tat org.apache.spark.storage.BlockManager.doPutIterator(BlockManager.scala:1156)\n\tat org.apache.spark.storage.BlockManager.getOrElseUpdate(BlockManager.scala:882)\n\tat org.apache.spark.rdd.RDD.getOrCompute(RDD.scala:335)\n\tat org.apache.spark.rdd.RDD.iterator(RDD.scala:286)\n\tat org.apache.spark.rdd.MapPartitionsRDD.compute(MapPartitionsRDD.scala:52)\n\tat org.apache.spark.rdd.RDD.computeOrReadCheckpoint(RDD.scala:324)\n\tat org.apache.spark.rdd.RDD.iterator(RDD.scala:288)\n\tat org.apache.spark.rdd.MapPartitionsRDD.compute(MapPartitionsRDD.scala:52)\n\tat org.apache.spark.rdd.RDD.computeOrReadCheckpoint(RDD.scala:324)\n\tat org.apache.spark.rdd.RDD.iterator(RDD.scala:288)\n\tat org.apache.spark.rdd.MapPartitionsRDD.compute(MapPartitionsRDD.scala:52)\n\tat org.apache.spark.rdd.RDD.computeOrReadCheckpoint(RDD.scala:324)\n\tat org.apache.spark.rdd.RDD.iterator(RDD.scala:288)\n\tat org.apache.spark.rdd.MapPartitionsRDD.compute(MapPartitionsRDD.scala:52)\n\tat org.apache.spark.rdd.RDD.computeOrReadCheckpoint(RDD.scala:324)\n\tat org.apache.spark.rdd.RDD.iterator(RDD.scala:288)\n\tat org.apache.spark.rdd.MapPartitionsRDD.compute(MapPartitionsRDD.scala:52)\n\tat org.apache.spark.rdd.RDD.computeOrReadCheckpoint(RDD.scala:324)\n\tat org.apache.spark.rdd.RDD.iterator(RDD.scala:288)\n\tat org.apache.spark.rdd.MapPartitionsRDD.compute(MapPartitionsRDD.scala:52)\n\tat org.apache.spark.rdd.RDD.computeOrReadCheckpoint(RDD.scala:324)\n\tat org.apache.spark.rdd.RDD.iterator(RDD.scala:288)\n\tat org.apache.spark.rdd.MapPartitionsRDD.compute(MapPartitionsRDD.scala:52)\n\tat org.apache.spark.rdd.RDD.computeOrReadCheckpoint(RDD.scala:324)\n\tat org.apache.spark.rdd.RDD.iterator(RDD.scala:288)\n\tat org.apache.spark.scheduler.ShuffleMapTask.runTask(ShuffleMapTask.scala:99)\n\tat org.apache.spark.scheduler.ShuffleMapTask.runTask(ShuffleMapTask.scala:55)\n\tat org.apache.spark.scheduler.Task.run(Task.scala:121)\n\tat org.apache.spark.executor.Executor$TaskRunner$$anonfun$10.apply(Executor.scala:408)\n\tat org.apache.spark.util.Utils$.tryWithSafeFinally(Utils.scala:1360)\n\tat org.apache.spark.executor.Executor$TaskRunner.run(Executor.scala:414)\n\tat java.util.concurrent.ThreadPoolExecutor.runWorker(ThreadPoolExecutor.java:1149)\n\tat java.util.concurrent.ThreadPoolExecutor$Worker.run(ThreadPoolExecutor.java:624)\n\tat java.lang.Thread.run(Thread.java:748)\nCaused by: org.apache.spark.SparkException: Encountered null while assembling a row with handleInvalid = \"keep\". Consider\nremoving nulls from dataset or using handleInvalid = \"keep\" or \"skip\".\n\tat org.apache.spark.ml.feature.VectorAssembler$$anonfun$assemble$1.apply(VectorAssembler.scala:287)\n\tat org.apache.spark.ml.feature.VectorAssembler$$anonfun$assemble$1.apply(VectorAssembler.scala:255)\n\tat scala.collection.IndexedSeqOptimized$class.foreach(IndexedSeqOptimized.scala:33)\n\tat scala.collection.mutable.WrappedArray.foreach(WrappedArray.scala:35)\n\tat org.apache.spark.ml.feature.VectorAssembler$.assemble(VectorAssembler.scala:255)\n\tat org.apache.spark.ml.feature.VectorAssembler$$anonfun$4.apply(VectorAssembler.scala:144)\n\tat org.apache.spark.ml.feature.VectorAssembler$$anonfun$4.apply(VectorAssembler.scala:143)\n\t... 44 more\n\nDriver stacktrace:\n\tat org.apache.spark.scheduler.DAGScheduler.org$apache$spark$scheduler$DAGScheduler$$failJobAndIndependentStages(DAGScheduler.scala:1889)\n\tat org.apache.spark.scheduler.DAGScheduler$$anonfun$abortStage$1.apply(DAGScheduler.scala:1877)\n\tat org.apache.spark.scheduler.DAGScheduler$$anonfun$abortStage$1.apply(DAGScheduler.scala:1876)\n\tat scala.collection.mutable.ResizableArray$class.foreach(ResizableArray.scala:59)\n\tat scala.collection.mutable.ArrayBuffer.foreach(ArrayBuffer.scala:48)\n\tat org.apache.spark.scheduler.DAGScheduler.abortStage(DAGScheduler.scala:1876)\n\tat org.apache.spark.scheduler.DAGScheduler$$anonfun$handleTaskSetFailed$1.apply(DAGScheduler.scala:926)\n\tat org.apache.spark.scheduler.DAGScheduler$$anonfun$handleTaskSetFailed$1.apply(DAGScheduler.scala:926)\n\tat scala.Option.foreach(Option.scala:257)\n\tat org.apache.spark.scheduler.DAGScheduler.handleTaskSetFailed(DAGScheduler.scala:926)\n\tat org.apache.spark.scheduler.DAGSchedulerEventProcessLoop.doOnReceive(DAGScheduler.scala:2110)\n\tat org.apache.spark.scheduler.DAGSchedulerEventProcessLoop.onReceive(DAGScheduler.scala:2059)\n\tat org.apache.spark.scheduler.DAGSchedulerEventProcessLoop.onReceive(DAGScheduler.scala:2048)\n\tat org.apache.spark.util.EventLoop$$anon$1.run(EventLoop.scala:49)\n\tat org.apache.spark.scheduler.DAGScheduler.runJob(DAGScheduler.scala:737)\n\tat org.apache.spark.SparkContext.runJob(SparkContext.scala:2061)\n\tat org.apache.spark.SparkContext.runJob(SparkContext.scala:2158)\n\tat org.apache.spark.rdd.RDD$$anonfun$fold$1.apply(RDD.scala:1098)\n\tat org.apache.spark.rdd.RDDOperationScope$.withScope(RDDOperationScope.scala:151)\n\tat org.apache.spark.rdd.RDDOperationScope$.withScope(RDDOperationScope.scala:112)\n\tat org.apache.spark.rdd.RDD.withScope(RDD.scala:363)\n\tat org.apache.spark.rdd.RDD.fold(RDD.scala:1092)\n\tat org.apache.spark.rdd.RDD$$anonfun$treeAggregate$1.apply(RDD.scala:1161)\n\tat org.apache.spark.rdd.RDDOperationScope$.withScope(RDDOperationScope.scala:151)\n\tat org.apache.spark.rdd.RDDOperationScope$.withScope(RDDOperationScope.scala:112)\n\tat org.apache.spark.rdd.RDD.withScope(RDD.scala:363)\n\tat org.apache.spark.rdd.RDD.treeAggregate(RDD.scala:1137)\n\tat org.apache.spark.mllib.feature.StandardScaler.fit(StandardScaler.scala:57)\n\tat org.apache.spark.ml.feature.StandardScaler.fit(StandardScaler.scala:117)\n\tat org.apache.spark.ml.feature.StandardScaler.fit(StandardScaler.scala:87)\n\tat sun.reflect.NativeMethodAccessorImpl.invoke0(Native Method)\n\tat sun.reflect.NativeMethodAccessorImpl.invoke(NativeMethodAccessorImpl.java:62)\n\tat sun.reflect.DelegatingMethodAccessorImpl.invoke(DelegatingMethodAccessorImpl.java:43)\n\tat java.lang.reflect.Method.invoke(Method.java:498)\n\tat py4j.reflection.MethodInvoker.invoke(MethodInvoker.java:244)\n\tat py4j.reflection.ReflectionEngine.invoke(ReflectionEngine.java:357)\n\tat py4j.Gateway.invoke(Gateway.java:282)\n\tat py4j.commands.AbstractCommand.invokeMethod(AbstractCommand.java:132)\n\tat py4j.commands.CallCommand.execute(CallCommand.java:79)\n\tat py4j.GatewayConnection.run(GatewayConnection.java:238)\n\tat java.lang.Thread.run(Thread.java:748)\nCaused by: org.apache.spark.SparkException: Failed to execute user defined function($anonfun$4: (struct<gender_index_ohe:struct<type:tinyint,size:int,indices:array<int>,values:array<double>>,level_index_ohe:struct<type:tinyint,size:int,indices:array<int>,values:array<double>>,days_since_registration:double,avg_songs:double,avg_thumbsUp:double,avg_thumbsDown:double,avg_session_duration:double,avg_session_gap:double,total_upgrades_double_VectorAssembler_86a3f6fbe3f8:double,total_downgrades_double_VectorAssembler_86a3f6fbe3f8:double,num_sessions_double_VectorAssembler_86a3f6fbe3f8:double,paid_double_VectorAssembler_86a3f6fbe3f8:double>) => struct<type:tinyint,size:int,indices:array<int>,values:array<double>>)\n\tat org.apache.spark.sql.catalyst.expressions.GeneratedClass$GeneratedIteratorForCodegenStage15.sort_addToSorter_0$(Unknown Source)\n\tat org.apache.spark.sql.catalyst.expressions.GeneratedClass$GeneratedIteratorForCodegenStage15.processNext(Unknown Source)\n\tat org.apache.spark.sql.execution.BufferedRowIterator.hasNext(BufferedRowIterator.java:43)\n\tat org.apache.spark.sql.execution.WholeStageCodegenExec$$anonfun$15$$anon$2.hasNext(WholeStageCodegenExec.scala:655)\n\tat org.apache.spark.sql.execution.columnar.CachedRDDBuilder$$anonfun$1$$anon$1.hasNext(InMemoryRelation.scala:125)\n\tat org.apache.spark.storage.memory.MemoryStore.putIterator(MemoryStore.scala:221)\n\tat org.apache.spark.storage.memory.MemoryStore.putIteratorAsValues(MemoryStore.scala:299)\n\tat org.apache.spark.storage.BlockManager$$anonfun$doPutIterator$1.apply(BlockManager.scala:1165)\n\tat org.apache.spark.storage.BlockManager$$anonfun$doPutIterator$1.apply(BlockManager.scala:1156)\n\tat org.apache.spark.storage.BlockManager.doPut(BlockManager.scala:1091)\n\tat org.apache.spark.storage.BlockManager.doPutIterator(BlockManager.scala:1156)\n\tat org.apache.spark.storage.BlockManager.getOrElseUpdate(BlockManager.scala:882)\n\tat org.apache.spark.rdd.RDD.getOrCompute(RDD.scala:335)\n\tat org.apache.spark.rdd.RDD.iterator(RDD.scala:286)\n\tat org.apache.spark.rdd.MapPartitionsRDD.compute(MapPartitionsRDD.scala:52)\n\tat org.apache.spark.rdd.RDD.computeOrReadCheckpoint(RDD.scala:324)\n\tat org.apache.spark.rdd.RDD.iterator(RDD.scala:288)\n\tat org.apache.spark.rdd.MapPartitionsRDD.compute(MapPartitionsRDD.scala:52)\n\tat org.apache.spark.rdd.RDD.computeOrReadCheckpoint(RDD.scala:324)\n\tat org.apache.spark.rdd.RDD.iterator(RDD.scala:288)\n\tat org.apache.spark.rdd.MapPartitionsRDD.compute(MapPartitionsRDD.scala:52)\n\tat org.apache.spark.rdd.RDD.computeOrReadCheckpoint(RDD.scala:324)\n\tat org.apache.spark.rdd.RDD.iterator(RDD.scala:288)\n\tat org.apache.spark.rdd.MapPartitionsRDD.compute(MapPartitionsRDD.scala:52)\n\tat org.apache.spark.rdd.RDD.computeOrReadCheckpoint(RDD.scala:324)\n\tat org.apache.spark.rdd.RDD.iterator(RDD.scala:288)\n\tat org.apache.spark.rdd.MapPartitionsRDD.compute(MapPartitionsRDD.scala:52)\n\tat org.apache.spark.rdd.RDD.computeOrReadCheckpoint(RDD.scala:324)\n\tat org.apache.spark.rdd.RDD.iterator(RDD.scala:288)\n\tat org.apache.spark.rdd.MapPartitionsRDD.compute(MapPartitionsRDD.scala:52)\n\tat org.apache.spark.rdd.RDD.computeOrReadCheckpoint(RDD.scala:324)\n\tat org.apache.spark.rdd.RDD.iterator(RDD.scala:288)\n\tat org.apache.spark.rdd.MapPartitionsRDD.compute(MapPartitionsRDD.scala:52)\n\tat org.apache.spark.rdd.RDD.computeOrReadCheckpoint(RDD.scala:324)\n\tat org.apache.spark.rdd.RDD.iterator(RDD.scala:288)\n\tat org.apache.spark.scheduler.ShuffleMapTask.runTask(ShuffleMapTask.scala:99)\n\tat org.apache.spark.scheduler.ShuffleMapTask.runTask(ShuffleMapTask.scala:55)\n\tat org.apache.spark.scheduler.Task.run(Task.scala:121)\n\tat org.apache.spark.executor.Executor$TaskRunner$$anonfun$10.apply(Executor.scala:408)\n\tat org.apache.spark.util.Utils$.tryWithSafeFinally(Utils.scala:1360)\n\tat org.apache.spark.executor.Executor$TaskRunner.run(Executor.scala:414)\n\tat java.util.concurrent.ThreadPoolExecutor.runWorker(ThreadPoolExecutor.java:1149)\n\tat java.util.concurrent.ThreadPoolExecutor$Worker.run(ThreadPoolExecutor.java:624)\n\t... 1 more\nCaused by: org.apache.spark.SparkException: Encountered null while assembling a row with handleInvalid = \"keep\". Consider\nremoving nulls from dataset or using handleInvalid = \"keep\" or \"skip\".\n\tat org.apache.spark.ml.feature.VectorAssembler$$anonfun$assemble$1.apply(VectorAssembler.scala:287)\n\tat org.apache.spark.ml.feature.VectorAssembler$$anonfun$assemble$1.apply(VectorAssembler.scala:255)\n\tat scala.collection.IndexedSeqOptimized$class.foreach(IndexedSeqOptimized.scala:33)\n\tat scala.collection.mutable.WrappedArray.foreach(WrappedArray.scala:35)\n\tat org.apache.spark.ml.feature.VectorAssembler$.assemble(VectorAssembler.scala:255)\n\tat org.apache.spark.ml.feature.VectorAssembler$$anonfun$4.apply(VectorAssembler.scala:144)\n\tat org.apache.spark.ml.feature.VectorAssembler$$anonfun$4.apply(VectorAssembler.scala:143)\n\t... 44 more\n",
     "output_type": "error",
     "traceback": [
      "\u001b[0;31m---------------------------------------------------------------------------\u001b[0m",
      "\u001b[0;31mPy4JJavaError\u001b[0m                             Traceback (most recent call last)",
      "\u001b[0;32m<ipython-input-75-7f6de2d86741>\u001b[0m in \u001b[0;36m<module>\u001b[0;34m()\u001b[0m\n\u001b[1;32m      3\u001b[0m \u001b[0mparamGrid\u001b[0m \u001b[0;34m=\u001b[0m \u001b[0mParamGridBuilder\u001b[0m\u001b[0;34m(\u001b[0m\u001b[0;34m)\u001b[0m     \u001b[0;34m.\u001b[0m\u001b[0maddGrid\u001b[0m\u001b[0;34m(\u001b[0m\u001b[0mrf\u001b[0m\u001b[0;34m.\u001b[0m\u001b[0mmaxDepth\u001b[0m\u001b[0;34m,\u001b[0m \u001b[0;34m[\u001b[0m\u001b[0;36m5\u001b[0m\u001b[0;34m,\u001b[0m\u001b[0;36m10\u001b[0m\u001b[0;34m]\u001b[0m\u001b[0;34m)\u001b[0m     \u001b[0;34m.\u001b[0m\u001b[0maddGrid\u001b[0m\u001b[0;34m(\u001b[0m\u001b[0mrf\u001b[0m\u001b[0;34m.\u001b[0m\u001b[0mnumTrees\u001b[0m\u001b[0;34m,\u001b[0m \u001b[0;34m[\u001b[0m\u001b[0;36m10\u001b[0m\u001b[0;34m,\u001b[0m \u001b[0;36m20\u001b[0m\u001b[0;34m]\u001b[0m\u001b[0;34m)\u001b[0m     \u001b[0;34m.\u001b[0m\u001b[0mbuild\u001b[0m\u001b[0;34m(\u001b[0m\u001b[0;34m)\u001b[0m\u001b[0;34m\u001b[0m\u001b[0m\n\u001b[1;32m      4\u001b[0m \u001b[0;34m\u001b[0m\u001b[0m\n\u001b[0;32m----> 5\u001b[0;31m \u001b[0mresults\u001b[0m \u001b[0;34m=\u001b[0m \u001b[0mmake_prediction\u001b[0m\u001b[0;34m(\u001b[0m\u001b[0mdata\u001b[0m\u001b[0;34m,\u001b[0m \u001b[0mrf\u001b[0m\u001b[0;34m,\u001b[0m \u001b[0mparamGrid\u001b[0m\u001b[0;34m)\u001b[0m\u001b[0;34m\u001b[0m\u001b[0m\n\u001b[0m",
      "\u001b[0;32m<ipython-input-62-652bc60d59b1>\u001b[0m in \u001b[0;36mmake_prediction\u001b[0;34m(data, transformer, paramGrid)\u001b[0m\n\u001b[1;32m     23\u001b[0m                              numFolds=3)\n\u001b[1;32m     24\u001b[0m \u001b[0;34m\u001b[0m\u001b[0m\n\u001b[0;32m---> 25\u001b[0;31m         \u001b[0mmodel\u001b[0m \u001b[0;34m=\u001b[0m \u001b[0mcrossval\u001b[0m\u001b[0;34m.\u001b[0m\u001b[0mfit\u001b[0m\u001b[0;34m(\u001b[0m\u001b[0mtrain\u001b[0m\u001b[0;34m.\u001b[0m\u001b[0mwithColumnRenamed\u001b[0m\u001b[0;34m(\u001b[0m\u001b[0;34m\"churn\"\u001b[0m\u001b[0;34m,\u001b[0m \u001b[0;34m\"label\"\u001b[0m\u001b[0;34m)\u001b[0m\u001b[0;34m)\u001b[0m\u001b[0;34m\u001b[0m\u001b[0m\n\u001b[0m\u001b[1;32m     26\u001b[0m     \u001b[0;32melse\u001b[0m\u001b[0;34m:\u001b[0m\u001b[0;34m\u001b[0m\u001b[0m\n\u001b[1;32m     27\u001b[0m         \u001b[0mmodel\u001b[0m \u001b[0;34m=\u001b[0m \u001b[0mpipeline\u001b[0m\u001b[0;34m.\u001b[0m\u001b[0mfit\u001b[0m\u001b[0;34m(\u001b[0m\u001b[0mtrain\u001b[0m\u001b[0;34m.\u001b[0m\u001b[0mwithColumnRenamed\u001b[0m\u001b[0;34m(\u001b[0m\u001b[0;34m\"churn\"\u001b[0m\u001b[0;34m,\u001b[0m \u001b[0;34m\"label\"\u001b[0m\u001b[0;34m)\u001b[0m\u001b[0;34m)\u001b[0m\u001b[0;34m\u001b[0m\u001b[0m\n",
      "\u001b[0;32m/opt/spark-2.4.3-bin-hadoop2.7/python/pyspark/ml/base.py\u001b[0m in \u001b[0;36mfit\u001b[0;34m(self, dataset, params)\u001b[0m\n\u001b[1;32m    130\u001b[0m                 \u001b[0;32mreturn\u001b[0m \u001b[0mself\u001b[0m\u001b[0;34m.\u001b[0m\u001b[0mcopy\u001b[0m\u001b[0;34m(\u001b[0m\u001b[0mparams\u001b[0m\u001b[0;34m)\u001b[0m\u001b[0;34m.\u001b[0m\u001b[0m_fit\u001b[0m\u001b[0;34m(\u001b[0m\u001b[0mdataset\u001b[0m\u001b[0;34m)\u001b[0m\u001b[0;34m\u001b[0m\u001b[0m\n\u001b[1;32m    131\u001b[0m             \u001b[0;32melse\u001b[0m\u001b[0;34m:\u001b[0m\u001b[0;34m\u001b[0m\u001b[0m\n\u001b[0;32m--> 132\u001b[0;31m                 \u001b[0;32mreturn\u001b[0m \u001b[0mself\u001b[0m\u001b[0;34m.\u001b[0m\u001b[0m_fit\u001b[0m\u001b[0;34m(\u001b[0m\u001b[0mdataset\u001b[0m\u001b[0;34m)\u001b[0m\u001b[0;34m\u001b[0m\u001b[0m\n\u001b[0m\u001b[1;32m    133\u001b[0m         \u001b[0;32melse\u001b[0m\u001b[0;34m:\u001b[0m\u001b[0;34m\u001b[0m\u001b[0m\n\u001b[1;32m    134\u001b[0m             raise ValueError(\"Params must be either a param map or a list/tuple of param maps, \"\n",
      "\u001b[0;32m/opt/spark-2.4.3-bin-hadoop2.7/python/pyspark/ml/tuning.py\u001b[0m in \u001b[0;36m_fit\u001b[0;34m(self, dataset)\u001b[0m\n\u001b[1;32m    302\u001b[0m \u001b[0;34m\u001b[0m\u001b[0m\n\u001b[1;32m    303\u001b[0m             \u001b[0mtasks\u001b[0m \u001b[0;34m=\u001b[0m \u001b[0m_parallelFitTasks\u001b[0m\u001b[0;34m(\u001b[0m\u001b[0mest\u001b[0m\u001b[0;34m,\u001b[0m \u001b[0mtrain\u001b[0m\u001b[0;34m,\u001b[0m \u001b[0meva\u001b[0m\u001b[0;34m,\u001b[0m \u001b[0mvalidation\u001b[0m\u001b[0;34m,\u001b[0m \u001b[0mepm\u001b[0m\u001b[0;34m,\u001b[0m \u001b[0mcollectSubModelsParam\u001b[0m\u001b[0;34m)\u001b[0m\u001b[0;34m\u001b[0m\u001b[0m\n\u001b[0;32m--> 304\u001b[0;31m             \u001b[0;32mfor\u001b[0m \u001b[0mj\u001b[0m\u001b[0;34m,\u001b[0m \u001b[0mmetric\u001b[0m\u001b[0;34m,\u001b[0m \u001b[0msubModel\u001b[0m \u001b[0;32min\u001b[0m \u001b[0mpool\u001b[0m\u001b[0;34m.\u001b[0m\u001b[0mimap_unordered\u001b[0m\u001b[0;34m(\u001b[0m\u001b[0;32mlambda\u001b[0m \u001b[0mf\u001b[0m\u001b[0;34m:\u001b[0m \u001b[0mf\u001b[0m\u001b[0;34m(\u001b[0m\u001b[0;34m)\u001b[0m\u001b[0;34m,\u001b[0m \u001b[0mtasks\u001b[0m\u001b[0;34m)\u001b[0m\u001b[0;34m:\u001b[0m\u001b[0;34m\u001b[0m\u001b[0m\n\u001b[0m\u001b[1;32m    305\u001b[0m                 \u001b[0mmetrics\u001b[0m\u001b[0;34m[\u001b[0m\u001b[0mj\u001b[0m\u001b[0;34m]\u001b[0m \u001b[0;34m+=\u001b[0m \u001b[0;34m(\u001b[0m\u001b[0mmetric\u001b[0m \u001b[0;34m/\u001b[0m \u001b[0mnFolds\u001b[0m\u001b[0;34m)\u001b[0m\u001b[0;34m\u001b[0m\u001b[0m\n\u001b[1;32m    306\u001b[0m                 \u001b[0;32mif\u001b[0m \u001b[0mcollectSubModelsParam\u001b[0m\u001b[0;34m:\u001b[0m\u001b[0;34m\u001b[0m\u001b[0m\n",
      "\u001b[0;32m/opt/conda/lib/python3.6/multiprocessing/pool.py\u001b[0m in \u001b[0;36mnext\u001b[0;34m(self, timeout)\u001b[0m\n\u001b[1;32m    733\u001b[0m         \u001b[0;32mif\u001b[0m \u001b[0msuccess\u001b[0m\u001b[0;34m:\u001b[0m\u001b[0;34m\u001b[0m\u001b[0m\n\u001b[1;32m    734\u001b[0m             \u001b[0;32mreturn\u001b[0m \u001b[0mvalue\u001b[0m\u001b[0;34m\u001b[0m\u001b[0m\n\u001b[0;32m--> 735\u001b[0;31m         \u001b[0;32mraise\u001b[0m \u001b[0mvalue\u001b[0m\u001b[0;34m\u001b[0m\u001b[0m\n\u001b[0m\u001b[1;32m    736\u001b[0m \u001b[0;34m\u001b[0m\u001b[0m\n\u001b[1;32m    737\u001b[0m     \u001b[0m__next__\u001b[0m \u001b[0;34m=\u001b[0m \u001b[0mnext\u001b[0m                    \u001b[0;31m# XXX\u001b[0m\u001b[0;34m\u001b[0m\u001b[0m\n",
      "\u001b[0;32m/opt/conda/lib/python3.6/multiprocessing/pool.py\u001b[0m in \u001b[0;36mworker\u001b[0;34m(inqueue, outqueue, initializer, initargs, maxtasks, wrap_exception)\u001b[0m\n\u001b[1;32m    117\u001b[0m         \u001b[0mjob\u001b[0m\u001b[0;34m,\u001b[0m \u001b[0mi\u001b[0m\u001b[0;34m,\u001b[0m \u001b[0mfunc\u001b[0m\u001b[0;34m,\u001b[0m \u001b[0margs\u001b[0m\u001b[0;34m,\u001b[0m \u001b[0mkwds\u001b[0m \u001b[0;34m=\u001b[0m \u001b[0mtask\u001b[0m\u001b[0;34m\u001b[0m\u001b[0m\n\u001b[1;32m    118\u001b[0m         \u001b[0;32mtry\u001b[0m\u001b[0;34m:\u001b[0m\u001b[0;34m\u001b[0m\u001b[0m\n\u001b[0;32m--> 119\u001b[0;31m             \u001b[0mresult\u001b[0m \u001b[0;34m=\u001b[0m \u001b[0;34m(\u001b[0m\u001b[0;32mTrue\u001b[0m\u001b[0;34m,\u001b[0m \u001b[0mfunc\u001b[0m\u001b[0;34m(\u001b[0m\u001b[0;34m*\u001b[0m\u001b[0margs\u001b[0m\u001b[0;34m,\u001b[0m \u001b[0;34m**\u001b[0m\u001b[0mkwds\u001b[0m\u001b[0;34m)\u001b[0m\u001b[0;34m)\u001b[0m\u001b[0;34m\u001b[0m\u001b[0m\n\u001b[0m\u001b[1;32m    120\u001b[0m         \u001b[0;32mexcept\u001b[0m \u001b[0mException\u001b[0m \u001b[0;32mas\u001b[0m \u001b[0me\u001b[0m\u001b[0;34m:\u001b[0m\u001b[0;34m\u001b[0m\u001b[0m\n\u001b[1;32m    121\u001b[0m             \u001b[0;32mif\u001b[0m \u001b[0mwrap_exception\u001b[0m \u001b[0;32mand\u001b[0m \u001b[0mfunc\u001b[0m \u001b[0;32mis\u001b[0m \u001b[0;32mnot\u001b[0m \u001b[0m_helper_reraises_exception\u001b[0m\u001b[0;34m:\u001b[0m\u001b[0;34m\u001b[0m\u001b[0m\n",
      "\u001b[0;32m/opt/spark-2.4.3-bin-hadoop2.7/python/pyspark/ml/tuning.py\u001b[0m in \u001b[0;36m<lambda>\u001b[0;34m(f)\u001b[0m\n\u001b[1;32m    302\u001b[0m \u001b[0;34m\u001b[0m\u001b[0m\n\u001b[1;32m    303\u001b[0m             \u001b[0mtasks\u001b[0m \u001b[0;34m=\u001b[0m \u001b[0m_parallelFitTasks\u001b[0m\u001b[0;34m(\u001b[0m\u001b[0mest\u001b[0m\u001b[0;34m,\u001b[0m \u001b[0mtrain\u001b[0m\u001b[0;34m,\u001b[0m \u001b[0meva\u001b[0m\u001b[0;34m,\u001b[0m \u001b[0mvalidation\u001b[0m\u001b[0;34m,\u001b[0m \u001b[0mepm\u001b[0m\u001b[0;34m,\u001b[0m \u001b[0mcollectSubModelsParam\u001b[0m\u001b[0;34m)\u001b[0m\u001b[0;34m\u001b[0m\u001b[0m\n\u001b[0;32m--> 304\u001b[0;31m             \u001b[0;32mfor\u001b[0m \u001b[0mj\u001b[0m\u001b[0;34m,\u001b[0m \u001b[0mmetric\u001b[0m\u001b[0;34m,\u001b[0m \u001b[0msubModel\u001b[0m \u001b[0;32min\u001b[0m \u001b[0mpool\u001b[0m\u001b[0;34m.\u001b[0m\u001b[0mimap_unordered\u001b[0m\u001b[0;34m(\u001b[0m\u001b[0;32mlambda\u001b[0m \u001b[0mf\u001b[0m\u001b[0;34m:\u001b[0m \u001b[0mf\u001b[0m\u001b[0;34m(\u001b[0m\u001b[0;34m)\u001b[0m\u001b[0;34m,\u001b[0m \u001b[0mtasks\u001b[0m\u001b[0;34m)\u001b[0m\u001b[0;34m:\u001b[0m\u001b[0;34m\u001b[0m\u001b[0m\n\u001b[0m\u001b[1;32m    305\u001b[0m                 \u001b[0mmetrics\u001b[0m\u001b[0;34m[\u001b[0m\u001b[0mj\u001b[0m\u001b[0;34m]\u001b[0m \u001b[0;34m+=\u001b[0m \u001b[0;34m(\u001b[0m\u001b[0mmetric\u001b[0m \u001b[0;34m/\u001b[0m \u001b[0mnFolds\u001b[0m\u001b[0;34m)\u001b[0m\u001b[0;34m\u001b[0m\u001b[0m\n\u001b[1;32m    306\u001b[0m                 \u001b[0;32mif\u001b[0m \u001b[0mcollectSubModelsParam\u001b[0m\u001b[0;34m:\u001b[0m\u001b[0;34m\u001b[0m\u001b[0m\n",
      "\u001b[0;32m/opt/spark-2.4.3-bin-hadoop2.7/python/pyspark/ml/tuning.py\u001b[0m in \u001b[0;36msingleTask\u001b[0;34m()\u001b[0m\n\u001b[1;32m     50\u001b[0m \u001b[0;34m\u001b[0m\u001b[0m\n\u001b[1;32m     51\u001b[0m     \u001b[0;32mdef\u001b[0m \u001b[0msingleTask\u001b[0m\u001b[0;34m(\u001b[0m\u001b[0;34m)\u001b[0m\u001b[0;34m:\u001b[0m\u001b[0;34m\u001b[0m\u001b[0m\n\u001b[0;32m---> 52\u001b[0;31m         \u001b[0mindex\u001b[0m\u001b[0;34m,\u001b[0m \u001b[0mmodel\u001b[0m \u001b[0;34m=\u001b[0m \u001b[0mnext\u001b[0m\u001b[0;34m(\u001b[0m\u001b[0mmodelIter\u001b[0m\u001b[0;34m)\u001b[0m\u001b[0;34m\u001b[0m\u001b[0m\n\u001b[0m\u001b[1;32m     53\u001b[0m         \u001b[0mmetric\u001b[0m \u001b[0;34m=\u001b[0m \u001b[0meva\u001b[0m\u001b[0;34m.\u001b[0m\u001b[0mevaluate\u001b[0m\u001b[0;34m(\u001b[0m\u001b[0mmodel\u001b[0m\u001b[0;34m.\u001b[0m\u001b[0mtransform\u001b[0m\u001b[0;34m(\u001b[0m\u001b[0mvalidation\u001b[0m\u001b[0;34m,\u001b[0m \u001b[0mepm\u001b[0m\u001b[0;34m[\u001b[0m\u001b[0mindex\u001b[0m\u001b[0;34m]\u001b[0m\u001b[0;34m)\u001b[0m\u001b[0;34m)\u001b[0m\u001b[0;34m\u001b[0m\u001b[0m\n\u001b[1;32m     54\u001b[0m         \u001b[0;32mreturn\u001b[0m \u001b[0mindex\u001b[0m\u001b[0;34m,\u001b[0m \u001b[0mmetric\u001b[0m\u001b[0;34m,\u001b[0m \u001b[0mmodel\u001b[0m \u001b[0;32mif\u001b[0m \u001b[0mcollectSubModel\u001b[0m \u001b[0;32melse\u001b[0m \u001b[0;32mNone\u001b[0m\u001b[0;34m\u001b[0m\u001b[0m\n",
      "\u001b[0;32m/opt/spark-2.4.3-bin-hadoop2.7/python/pyspark/ml/base.py\u001b[0m in \u001b[0;36m__next__\u001b[0;34m(self)\u001b[0m\n\u001b[1;32m     60\u001b[0m                 \u001b[0;32mraise\u001b[0m \u001b[0mStopIteration\u001b[0m\u001b[0;34m(\u001b[0m\u001b[0;34m\"No models remaining.\"\u001b[0m\u001b[0;34m)\u001b[0m\u001b[0;34m\u001b[0m\u001b[0m\n\u001b[1;32m     61\u001b[0m             \u001b[0mself\u001b[0m\u001b[0;34m.\u001b[0m\u001b[0mcounter\u001b[0m \u001b[0;34m+=\u001b[0m \u001b[0;36m1\u001b[0m\u001b[0;34m\u001b[0m\u001b[0m\n\u001b[0;32m---> 62\u001b[0;31m         \u001b[0;32mreturn\u001b[0m \u001b[0mindex\u001b[0m\u001b[0;34m,\u001b[0m \u001b[0mself\u001b[0m\u001b[0;34m.\u001b[0m\u001b[0mfitSingleModel\u001b[0m\u001b[0;34m(\u001b[0m\u001b[0mindex\u001b[0m\u001b[0;34m)\u001b[0m\u001b[0;34m\u001b[0m\u001b[0m\n\u001b[0m\u001b[1;32m     63\u001b[0m \u001b[0;34m\u001b[0m\u001b[0m\n\u001b[1;32m     64\u001b[0m     \u001b[0;32mdef\u001b[0m \u001b[0mnext\u001b[0m\u001b[0;34m(\u001b[0m\u001b[0mself\u001b[0m\u001b[0;34m)\u001b[0m\u001b[0;34m:\u001b[0m\u001b[0;34m\u001b[0m\u001b[0m\n",
      "\u001b[0;32m/opt/spark-2.4.3-bin-hadoop2.7/python/pyspark/ml/base.py\u001b[0m in \u001b[0;36mfitSingleModel\u001b[0;34m(index)\u001b[0m\n\u001b[1;32m    104\u001b[0m \u001b[0;34m\u001b[0m\u001b[0m\n\u001b[1;32m    105\u001b[0m         \u001b[0;32mdef\u001b[0m \u001b[0mfitSingleModel\u001b[0m\u001b[0;34m(\u001b[0m\u001b[0mindex\u001b[0m\u001b[0;34m)\u001b[0m\u001b[0;34m:\u001b[0m\u001b[0;34m\u001b[0m\u001b[0m\n\u001b[0;32m--> 106\u001b[0;31m             \u001b[0;32mreturn\u001b[0m \u001b[0mestimator\u001b[0m\u001b[0;34m.\u001b[0m\u001b[0mfit\u001b[0m\u001b[0;34m(\u001b[0m\u001b[0mdataset\u001b[0m\u001b[0;34m,\u001b[0m \u001b[0mparamMaps\u001b[0m\u001b[0;34m[\u001b[0m\u001b[0mindex\u001b[0m\u001b[0;34m]\u001b[0m\u001b[0;34m)\u001b[0m\u001b[0;34m\u001b[0m\u001b[0m\n\u001b[0m\u001b[1;32m    107\u001b[0m \u001b[0;34m\u001b[0m\u001b[0m\n\u001b[1;32m    108\u001b[0m         \u001b[0;32mreturn\u001b[0m \u001b[0m_FitMultipleIterator\u001b[0m\u001b[0;34m(\u001b[0m\u001b[0mfitSingleModel\u001b[0m\u001b[0;34m,\u001b[0m \u001b[0mlen\u001b[0m\u001b[0;34m(\u001b[0m\u001b[0mparamMaps\u001b[0m\u001b[0;34m)\u001b[0m\u001b[0;34m)\u001b[0m\u001b[0;34m\u001b[0m\u001b[0m\n",
      "\u001b[0;32m/opt/spark-2.4.3-bin-hadoop2.7/python/pyspark/ml/base.py\u001b[0m in \u001b[0;36mfit\u001b[0;34m(self, dataset, params)\u001b[0m\n\u001b[1;32m    128\u001b[0m         \u001b[0;32melif\u001b[0m \u001b[0misinstance\u001b[0m\u001b[0;34m(\u001b[0m\u001b[0mparams\u001b[0m\u001b[0;34m,\u001b[0m \u001b[0mdict\u001b[0m\u001b[0;34m)\u001b[0m\u001b[0;34m:\u001b[0m\u001b[0;34m\u001b[0m\u001b[0m\n\u001b[1;32m    129\u001b[0m             \u001b[0;32mif\u001b[0m \u001b[0mparams\u001b[0m\u001b[0;34m:\u001b[0m\u001b[0;34m\u001b[0m\u001b[0m\n\u001b[0;32m--> 130\u001b[0;31m                 \u001b[0;32mreturn\u001b[0m \u001b[0mself\u001b[0m\u001b[0;34m.\u001b[0m\u001b[0mcopy\u001b[0m\u001b[0;34m(\u001b[0m\u001b[0mparams\u001b[0m\u001b[0;34m)\u001b[0m\u001b[0;34m.\u001b[0m\u001b[0m_fit\u001b[0m\u001b[0;34m(\u001b[0m\u001b[0mdataset\u001b[0m\u001b[0;34m)\u001b[0m\u001b[0;34m\u001b[0m\u001b[0m\n\u001b[0m\u001b[1;32m    131\u001b[0m             \u001b[0;32melse\u001b[0m\u001b[0;34m:\u001b[0m\u001b[0;34m\u001b[0m\u001b[0m\n\u001b[1;32m    132\u001b[0m                 \u001b[0;32mreturn\u001b[0m \u001b[0mself\u001b[0m\u001b[0;34m.\u001b[0m\u001b[0m_fit\u001b[0m\u001b[0;34m(\u001b[0m\u001b[0mdataset\u001b[0m\u001b[0;34m)\u001b[0m\u001b[0;34m\u001b[0m\u001b[0m\n",
      "\u001b[0;32m/opt/spark-2.4.3-bin-hadoop2.7/python/pyspark/ml/pipeline.py\u001b[0m in \u001b[0;36m_fit\u001b[0;34m(self, dataset)\u001b[0m\n\u001b[1;32m    107\u001b[0m                     \u001b[0mdataset\u001b[0m \u001b[0;34m=\u001b[0m \u001b[0mstage\u001b[0m\u001b[0;34m.\u001b[0m\u001b[0mtransform\u001b[0m\u001b[0;34m(\u001b[0m\u001b[0mdataset\u001b[0m\u001b[0;34m)\u001b[0m\u001b[0;34m\u001b[0m\u001b[0m\n\u001b[1;32m    108\u001b[0m                 \u001b[0;32melse\u001b[0m\u001b[0;34m:\u001b[0m  \u001b[0;31m# must be an Estimator\u001b[0m\u001b[0;34m\u001b[0m\u001b[0m\n\u001b[0;32m--> 109\u001b[0;31m                     \u001b[0mmodel\u001b[0m \u001b[0;34m=\u001b[0m \u001b[0mstage\u001b[0m\u001b[0;34m.\u001b[0m\u001b[0mfit\u001b[0m\u001b[0;34m(\u001b[0m\u001b[0mdataset\u001b[0m\u001b[0;34m)\u001b[0m\u001b[0;34m\u001b[0m\u001b[0m\n\u001b[0m\u001b[1;32m    110\u001b[0m                     \u001b[0mtransformers\u001b[0m\u001b[0;34m.\u001b[0m\u001b[0mappend\u001b[0m\u001b[0;34m(\u001b[0m\u001b[0mmodel\u001b[0m\u001b[0;34m)\u001b[0m\u001b[0;34m\u001b[0m\u001b[0m\n\u001b[1;32m    111\u001b[0m                     \u001b[0;32mif\u001b[0m \u001b[0mi\u001b[0m \u001b[0;34m<\u001b[0m \u001b[0mindexOfLastEstimator\u001b[0m\u001b[0;34m:\u001b[0m\u001b[0;34m\u001b[0m\u001b[0m\n",
      "\u001b[0;32m/opt/spark-2.4.3-bin-hadoop2.7/python/pyspark/ml/base.py\u001b[0m in \u001b[0;36mfit\u001b[0;34m(self, dataset, params)\u001b[0m\n\u001b[1;32m    130\u001b[0m                 \u001b[0;32mreturn\u001b[0m \u001b[0mself\u001b[0m\u001b[0;34m.\u001b[0m\u001b[0mcopy\u001b[0m\u001b[0;34m(\u001b[0m\u001b[0mparams\u001b[0m\u001b[0;34m)\u001b[0m\u001b[0;34m.\u001b[0m\u001b[0m_fit\u001b[0m\u001b[0;34m(\u001b[0m\u001b[0mdataset\u001b[0m\u001b[0;34m)\u001b[0m\u001b[0;34m\u001b[0m\u001b[0m\n\u001b[1;32m    131\u001b[0m             \u001b[0;32melse\u001b[0m\u001b[0;34m:\u001b[0m\u001b[0;34m\u001b[0m\u001b[0m\n\u001b[0;32m--> 132\u001b[0;31m                 \u001b[0;32mreturn\u001b[0m \u001b[0mself\u001b[0m\u001b[0;34m.\u001b[0m\u001b[0m_fit\u001b[0m\u001b[0;34m(\u001b[0m\u001b[0mdataset\u001b[0m\u001b[0;34m)\u001b[0m\u001b[0;34m\u001b[0m\u001b[0m\n\u001b[0m\u001b[1;32m    133\u001b[0m         \u001b[0;32melse\u001b[0m\u001b[0;34m:\u001b[0m\u001b[0;34m\u001b[0m\u001b[0m\n\u001b[1;32m    134\u001b[0m             raise ValueError(\"Params must be either a param map or a list/tuple of param maps, \"\n",
      "\u001b[0;32m/opt/spark-2.4.3-bin-hadoop2.7/python/pyspark/ml/wrapper.py\u001b[0m in \u001b[0;36m_fit\u001b[0;34m(self, dataset)\u001b[0m\n\u001b[1;32m    293\u001b[0m \u001b[0;34m\u001b[0m\u001b[0m\n\u001b[1;32m    294\u001b[0m     \u001b[0;32mdef\u001b[0m \u001b[0m_fit\u001b[0m\u001b[0;34m(\u001b[0m\u001b[0mself\u001b[0m\u001b[0;34m,\u001b[0m \u001b[0mdataset\u001b[0m\u001b[0;34m)\u001b[0m\u001b[0;34m:\u001b[0m\u001b[0;34m\u001b[0m\u001b[0m\n\u001b[0;32m--> 295\u001b[0;31m         \u001b[0mjava_model\u001b[0m \u001b[0;34m=\u001b[0m \u001b[0mself\u001b[0m\u001b[0;34m.\u001b[0m\u001b[0m_fit_java\u001b[0m\u001b[0;34m(\u001b[0m\u001b[0mdataset\u001b[0m\u001b[0;34m)\u001b[0m\u001b[0;34m\u001b[0m\u001b[0m\n\u001b[0m\u001b[1;32m    296\u001b[0m         \u001b[0mmodel\u001b[0m \u001b[0;34m=\u001b[0m \u001b[0mself\u001b[0m\u001b[0;34m.\u001b[0m\u001b[0m_create_model\u001b[0m\u001b[0;34m(\u001b[0m\u001b[0mjava_model\u001b[0m\u001b[0;34m)\u001b[0m\u001b[0;34m\u001b[0m\u001b[0m\n\u001b[1;32m    297\u001b[0m         \u001b[0;32mreturn\u001b[0m \u001b[0mself\u001b[0m\u001b[0;34m.\u001b[0m\u001b[0m_copyValues\u001b[0m\u001b[0;34m(\u001b[0m\u001b[0mmodel\u001b[0m\u001b[0;34m)\u001b[0m\u001b[0;34m\u001b[0m\u001b[0m\n",
      "\u001b[0;32m/opt/spark-2.4.3-bin-hadoop2.7/python/pyspark/ml/wrapper.py\u001b[0m in \u001b[0;36m_fit_java\u001b[0;34m(self, dataset)\u001b[0m\n\u001b[1;32m    290\u001b[0m         \"\"\"\n\u001b[1;32m    291\u001b[0m         \u001b[0mself\u001b[0m\u001b[0;34m.\u001b[0m\u001b[0m_transfer_params_to_java\u001b[0m\u001b[0;34m(\u001b[0m\u001b[0;34m)\u001b[0m\u001b[0;34m\u001b[0m\u001b[0m\n\u001b[0;32m--> 292\u001b[0;31m         \u001b[0;32mreturn\u001b[0m \u001b[0mself\u001b[0m\u001b[0;34m.\u001b[0m\u001b[0m_java_obj\u001b[0m\u001b[0;34m.\u001b[0m\u001b[0mfit\u001b[0m\u001b[0;34m(\u001b[0m\u001b[0mdataset\u001b[0m\u001b[0;34m.\u001b[0m\u001b[0m_jdf\u001b[0m\u001b[0;34m)\u001b[0m\u001b[0;34m\u001b[0m\u001b[0m\n\u001b[0m\u001b[1;32m    293\u001b[0m \u001b[0;34m\u001b[0m\u001b[0m\n\u001b[1;32m    294\u001b[0m     \u001b[0;32mdef\u001b[0m \u001b[0m_fit\u001b[0m\u001b[0;34m(\u001b[0m\u001b[0mself\u001b[0m\u001b[0;34m,\u001b[0m \u001b[0mdataset\u001b[0m\u001b[0;34m)\u001b[0m\u001b[0;34m:\u001b[0m\u001b[0;34m\u001b[0m\u001b[0m\n",
      "\u001b[0;32m/opt/spark-2.4.3-bin-hadoop2.7/python/lib/py4j-0.10.7-src.zip/py4j/java_gateway.py\u001b[0m in \u001b[0;36m__call__\u001b[0;34m(self, *args)\u001b[0m\n\u001b[1;32m   1255\u001b[0m         \u001b[0manswer\u001b[0m \u001b[0;34m=\u001b[0m \u001b[0mself\u001b[0m\u001b[0;34m.\u001b[0m\u001b[0mgateway_client\u001b[0m\u001b[0;34m.\u001b[0m\u001b[0msend_command\u001b[0m\u001b[0;34m(\u001b[0m\u001b[0mcommand\u001b[0m\u001b[0;34m)\u001b[0m\u001b[0;34m\u001b[0m\u001b[0m\n\u001b[1;32m   1256\u001b[0m         return_value = get_return_value(\n\u001b[0;32m-> 1257\u001b[0;31m             answer, self.gateway_client, self.target_id, self.name)\n\u001b[0m\u001b[1;32m   1258\u001b[0m \u001b[0;34m\u001b[0m\u001b[0m\n\u001b[1;32m   1259\u001b[0m         \u001b[0;32mfor\u001b[0m \u001b[0mtemp_arg\u001b[0m \u001b[0;32min\u001b[0m \u001b[0mtemp_args\u001b[0m\u001b[0;34m:\u001b[0m\u001b[0;34m\u001b[0m\u001b[0m\n",
      "\u001b[0;32m/opt/spark-2.4.3-bin-hadoop2.7/python/pyspark/sql/utils.py\u001b[0m in \u001b[0;36mdeco\u001b[0;34m(*a, **kw)\u001b[0m\n\u001b[1;32m     61\u001b[0m     \u001b[0;32mdef\u001b[0m \u001b[0mdeco\u001b[0m\u001b[0;34m(\u001b[0m\u001b[0;34m*\u001b[0m\u001b[0ma\u001b[0m\u001b[0;34m,\u001b[0m \u001b[0;34m**\u001b[0m\u001b[0mkw\u001b[0m\u001b[0;34m)\u001b[0m\u001b[0;34m:\u001b[0m\u001b[0;34m\u001b[0m\u001b[0m\n\u001b[1;32m     62\u001b[0m         \u001b[0;32mtry\u001b[0m\u001b[0;34m:\u001b[0m\u001b[0;34m\u001b[0m\u001b[0m\n\u001b[0;32m---> 63\u001b[0;31m             \u001b[0;32mreturn\u001b[0m \u001b[0mf\u001b[0m\u001b[0;34m(\u001b[0m\u001b[0;34m*\u001b[0m\u001b[0ma\u001b[0m\u001b[0;34m,\u001b[0m \u001b[0;34m**\u001b[0m\u001b[0mkw\u001b[0m\u001b[0;34m)\u001b[0m\u001b[0;34m\u001b[0m\u001b[0m\n\u001b[0m\u001b[1;32m     64\u001b[0m         \u001b[0;32mexcept\u001b[0m \u001b[0mpy4j\u001b[0m\u001b[0;34m.\u001b[0m\u001b[0mprotocol\u001b[0m\u001b[0;34m.\u001b[0m\u001b[0mPy4JJavaError\u001b[0m \u001b[0;32mas\u001b[0m \u001b[0me\u001b[0m\u001b[0;34m:\u001b[0m\u001b[0;34m\u001b[0m\u001b[0m\n\u001b[1;32m     65\u001b[0m             \u001b[0ms\u001b[0m \u001b[0;34m=\u001b[0m \u001b[0me\u001b[0m\u001b[0;34m.\u001b[0m\u001b[0mjava_exception\u001b[0m\u001b[0;34m.\u001b[0m\u001b[0mtoString\u001b[0m\u001b[0;34m(\u001b[0m\u001b[0;34m)\u001b[0m\u001b[0;34m\u001b[0m\u001b[0m\n",
      "\u001b[0;32m/opt/spark-2.4.3-bin-hadoop2.7/python/lib/py4j-0.10.7-src.zip/py4j/protocol.py\u001b[0m in \u001b[0;36mget_return_value\u001b[0;34m(answer, gateway_client, target_id, name)\u001b[0m\n\u001b[1;32m    326\u001b[0m                 raise Py4JJavaError(\n\u001b[1;32m    327\u001b[0m                     \u001b[0;34m\"An error occurred while calling {0}{1}{2}.\\n\"\u001b[0m\u001b[0;34m.\u001b[0m\u001b[0;34m\u001b[0m\u001b[0m\n\u001b[0;32m--> 328\u001b[0;31m                     format(target_id, \".\", name), value)\n\u001b[0m\u001b[1;32m    329\u001b[0m             \u001b[0;32melse\u001b[0m\u001b[0;34m:\u001b[0m\u001b[0;34m\u001b[0m\u001b[0m\n\u001b[1;32m    330\u001b[0m                 raise Py4JError(\n",
      "\u001b[0;31mPy4JJavaError\u001b[0m: An error occurred while calling o4020.fit.\n: org.apache.spark.SparkException: Job aborted due to stage failure: Task 1 in stage 3904.0 failed 1 times, most recent failure: Lost task 1.0 in stage 3904.0 (TID 125328, localhost, executor driver): org.apache.spark.SparkException: Failed to execute user defined function($anonfun$4: (struct<gender_index_ohe:struct<type:tinyint,size:int,indices:array<int>,values:array<double>>,level_index_ohe:struct<type:tinyint,size:int,indices:array<int>,values:array<double>>,days_since_registration:double,avg_songs:double,avg_thumbsUp:double,avg_thumbsDown:double,avg_session_duration:double,avg_session_gap:double,total_upgrades_double_VectorAssembler_86a3f6fbe3f8:double,total_downgrades_double_VectorAssembler_86a3f6fbe3f8:double,num_sessions_double_VectorAssembler_86a3f6fbe3f8:double,paid_double_VectorAssembler_86a3f6fbe3f8:double>) => struct<type:tinyint,size:int,indices:array<int>,values:array<double>>)\n\tat org.apache.spark.sql.catalyst.expressions.GeneratedClass$GeneratedIteratorForCodegenStage15.sort_addToSorter_0$(Unknown Source)\n\tat org.apache.spark.sql.catalyst.expressions.GeneratedClass$GeneratedIteratorForCodegenStage15.processNext(Unknown Source)\n\tat org.apache.spark.sql.execution.BufferedRowIterator.hasNext(BufferedRowIterator.java:43)\n\tat org.apache.spark.sql.execution.WholeStageCodegenExec$$anonfun$15$$anon$2.hasNext(WholeStageCodegenExec.scala:655)\n\tat org.apache.spark.sql.execution.columnar.CachedRDDBuilder$$anonfun$1$$anon$1.hasNext(InMemoryRelation.scala:125)\n\tat org.apache.spark.storage.memory.MemoryStore.putIterator(MemoryStore.scala:221)\n\tat org.apache.spark.storage.memory.MemoryStore.putIteratorAsValues(MemoryStore.scala:299)\n\tat org.apache.spark.storage.BlockManager$$anonfun$doPutIterator$1.apply(BlockManager.scala:1165)\n\tat org.apache.spark.storage.BlockManager$$anonfun$doPutIterator$1.apply(BlockManager.scala:1156)\n\tat org.apache.spark.storage.BlockManager.doPut(BlockManager.scala:1091)\n\tat org.apache.spark.storage.BlockManager.doPutIterator(BlockManager.scala:1156)\n\tat org.apache.spark.storage.BlockManager.getOrElseUpdate(BlockManager.scala:882)\n\tat org.apache.spark.rdd.RDD.getOrCompute(RDD.scala:335)\n\tat org.apache.spark.rdd.RDD.iterator(RDD.scala:286)\n\tat org.apache.spark.rdd.MapPartitionsRDD.compute(MapPartitionsRDD.scala:52)\n\tat org.apache.spark.rdd.RDD.computeOrReadCheckpoint(RDD.scala:324)\n\tat org.apache.spark.rdd.RDD.iterator(RDD.scala:288)\n\tat org.apache.spark.rdd.MapPartitionsRDD.compute(MapPartitionsRDD.scala:52)\n\tat org.apache.spark.rdd.RDD.computeOrReadCheckpoint(RDD.scala:324)\n\tat org.apache.spark.rdd.RDD.iterator(RDD.scala:288)\n\tat org.apache.spark.rdd.MapPartitionsRDD.compute(MapPartitionsRDD.scala:52)\n\tat org.apache.spark.rdd.RDD.computeOrReadCheckpoint(RDD.scala:324)\n\tat org.apache.spark.rdd.RDD.iterator(RDD.scala:288)\n\tat org.apache.spark.rdd.MapPartitionsRDD.compute(MapPartitionsRDD.scala:52)\n\tat org.apache.spark.rdd.RDD.computeOrReadCheckpoint(RDD.scala:324)\n\tat org.apache.spark.rdd.RDD.iterator(RDD.scala:288)\n\tat org.apache.spark.rdd.MapPartitionsRDD.compute(MapPartitionsRDD.scala:52)\n\tat org.apache.spark.rdd.RDD.computeOrReadCheckpoint(RDD.scala:324)\n\tat org.apache.spark.rdd.RDD.iterator(RDD.scala:288)\n\tat org.apache.spark.rdd.MapPartitionsRDD.compute(MapPartitionsRDD.scala:52)\n\tat org.apache.spark.rdd.RDD.computeOrReadCheckpoint(RDD.scala:324)\n\tat org.apache.spark.rdd.RDD.iterator(RDD.scala:288)\n\tat org.apache.spark.rdd.MapPartitionsRDD.compute(MapPartitionsRDD.scala:52)\n\tat org.apache.spark.rdd.RDD.computeOrReadCheckpoint(RDD.scala:324)\n\tat org.apache.spark.rdd.RDD.iterator(RDD.scala:288)\n\tat org.apache.spark.scheduler.ShuffleMapTask.runTask(ShuffleMapTask.scala:99)\n\tat org.apache.spark.scheduler.ShuffleMapTask.runTask(ShuffleMapTask.scala:55)\n\tat org.apache.spark.scheduler.Task.run(Task.scala:121)\n\tat org.apache.spark.executor.Executor$TaskRunner$$anonfun$10.apply(Executor.scala:408)\n\tat org.apache.spark.util.Utils$.tryWithSafeFinally(Utils.scala:1360)\n\tat org.apache.spark.executor.Executor$TaskRunner.run(Executor.scala:414)\n\tat java.util.concurrent.ThreadPoolExecutor.runWorker(ThreadPoolExecutor.java:1149)\n\tat java.util.concurrent.ThreadPoolExecutor$Worker.run(ThreadPoolExecutor.java:624)\n\tat java.lang.Thread.run(Thread.java:748)\nCaused by: org.apache.spark.SparkException: Encountered null while assembling a row with handleInvalid = \"keep\". Consider\nremoving nulls from dataset or using handleInvalid = \"keep\" or \"skip\".\n\tat org.apache.spark.ml.feature.VectorAssembler$$anonfun$assemble$1.apply(VectorAssembler.scala:287)\n\tat org.apache.spark.ml.feature.VectorAssembler$$anonfun$assemble$1.apply(VectorAssembler.scala:255)\n\tat scala.collection.IndexedSeqOptimized$class.foreach(IndexedSeqOptimized.scala:33)\n\tat scala.collection.mutable.WrappedArray.foreach(WrappedArray.scala:35)\n\tat org.apache.spark.ml.feature.VectorAssembler$.assemble(VectorAssembler.scala:255)\n\tat org.apache.spark.ml.feature.VectorAssembler$$anonfun$4.apply(VectorAssembler.scala:144)\n\tat org.apache.spark.ml.feature.VectorAssembler$$anonfun$4.apply(VectorAssembler.scala:143)\n\t... 44 more\n\nDriver stacktrace:\n\tat org.apache.spark.scheduler.DAGScheduler.org$apache$spark$scheduler$DAGScheduler$$failJobAndIndependentStages(DAGScheduler.scala:1889)\n\tat org.apache.spark.scheduler.DAGScheduler$$anonfun$abortStage$1.apply(DAGScheduler.scala:1877)\n\tat org.apache.spark.scheduler.DAGScheduler$$anonfun$abortStage$1.apply(DAGScheduler.scala:1876)\n\tat scala.collection.mutable.ResizableArray$class.foreach(ResizableArray.scala:59)\n\tat scala.collection.mutable.ArrayBuffer.foreach(ArrayBuffer.scala:48)\n\tat org.apache.spark.scheduler.DAGScheduler.abortStage(DAGScheduler.scala:1876)\n\tat org.apache.spark.scheduler.DAGScheduler$$anonfun$handleTaskSetFailed$1.apply(DAGScheduler.scala:926)\n\tat org.apache.spark.scheduler.DAGScheduler$$anonfun$handleTaskSetFailed$1.apply(DAGScheduler.scala:926)\n\tat scala.Option.foreach(Option.scala:257)\n\tat org.apache.spark.scheduler.DAGScheduler.handleTaskSetFailed(DAGScheduler.scala:926)\n\tat org.apache.spark.scheduler.DAGSchedulerEventProcessLoop.doOnReceive(DAGScheduler.scala:2110)\n\tat org.apache.spark.scheduler.DAGSchedulerEventProcessLoop.onReceive(DAGScheduler.scala:2059)\n\tat org.apache.spark.scheduler.DAGSchedulerEventProcessLoop.onReceive(DAGScheduler.scala:2048)\n\tat org.apache.spark.util.EventLoop$$anon$1.run(EventLoop.scala:49)\n\tat org.apache.spark.scheduler.DAGScheduler.runJob(DAGScheduler.scala:737)\n\tat org.apache.spark.SparkContext.runJob(SparkContext.scala:2061)\n\tat org.apache.spark.SparkContext.runJob(SparkContext.scala:2158)\n\tat org.apache.spark.rdd.RDD$$anonfun$fold$1.apply(RDD.scala:1098)\n\tat org.apache.spark.rdd.RDDOperationScope$.withScope(RDDOperationScope.scala:151)\n\tat org.apache.spark.rdd.RDDOperationScope$.withScope(RDDOperationScope.scala:112)\n\tat org.apache.spark.rdd.RDD.withScope(RDD.scala:363)\n\tat org.apache.spark.rdd.RDD.fold(RDD.scala:1092)\n\tat org.apache.spark.rdd.RDD$$anonfun$treeAggregate$1.apply(RDD.scala:1161)\n\tat org.apache.spark.rdd.RDDOperationScope$.withScope(RDDOperationScope.scala:151)\n\tat org.apache.spark.rdd.RDDOperationScope$.withScope(RDDOperationScope.scala:112)\n\tat org.apache.spark.rdd.RDD.withScope(RDD.scala:363)\n\tat org.apache.spark.rdd.RDD.treeAggregate(RDD.scala:1137)\n\tat org.apache.spark.mllib.feature.StandardScaler.fit(StandardScaler.scala:57)\n\tat org.apache.spark.ml.feature.StandardScaler.fit(StandardScaler.scala:117)\n\tat org.apache.spark.ml.feature.StandardScaler.fit(StandardScaler.scala:87)\n\tat sun.reflect.NativeMethodAccessorImpl.invoke0(Native Method)\n\tat sun.reflect.NativeMethodAccessorImpl.invoke(NativeMethodAccessorImpl.java:62)\n\tat sun.reflect.DelegatingMethodAccessorImpl.invoke(DelegatingMethodAccessorImpl.java:43)\n\tat java.lang.reflect.Method.invoke(Method.java:498)\n\tat py4j.reflection.MethodInvoker.invoke(MethodInvoker.java:244)\n\tat py4j.reflection.ReflectionEngine.invoke(ReflectionEngine.java:357)\n\tat py4j.Gateway.invoke(Gateway.java:282)\n\tat py4j.commands.AbstractCommand.invokeMethod(AbstractCommand.java:132)\n\tat py4j.commands.CallCommand.execute(CallCommand.java:79)\n\tat py4j.GatewayConnection.run(GatewayConnection.java:238)\n\tat java.lang.Thread.run(Thread.java:748)\nCaused by: org.apache.spark.SparkException: Failed to execute user defined function($anonfun$4: (struct<gender_index_ohe:struct<type:tinyint,size:int,indices:array<int>,values:array<double>>,level_index_ohe:struct<type:tinyint,size:int,indices:array<int>,values:array<double>>,days_since_registration:double,avg_songs:double,avg_thumbsUp:double,avg_thumbsDown:double,avg_session_duration:double,avg_session_gap:double,total_upgrades_double_VectorAssembler_86a3f6fbe3f8:double,total_downgrades_double_VectorAssembler_86a3f6fbe3f8:double,num_sessions_double_VectorAssembler_86a3f6fbe3f8:double,paid_double_VectorAssembler_86a3f6fbe3f8:double>) => struct<type:tinyint,size:int,indices:array<int>,values:array<double>>)\n\tat org.apache.spark.sql.catalyst.expressions.GeneratedClass$GeneratedIteratorForCodegenStage15.sort_addToSorter_0$(Unknown Source)\n\tat org.apache.spark.sql.catalyst.expressions.GeneratedClass$GeneratedIteratorForCodegenStage15.processNext(Unknown Source)\n\tat org.apache.spark.sql.execution.BufferedRowIterator.hasNext(BufferedRowIterator.java:43)\n\tat org.apache.spark.sql.execution.WholeStageCodegenExec$$anonfun$15$$anon$2.hasNext(WholeStageCodegenExec.scala:655)\n\tat org.apache.spark.sql.execution.columnar.CachedRDDBuilder$$anonfun$1$$anon$1.hasNext(InMemoryRelation.scala:125)\n\tat org.apache.spark.storage.memory.MemoryStore.putIterator(MemoryStore.scala:221)\n\tat org.apache.spark.storage.memory.MemoryStore.putIteratorAsValues(MemoryStore.scala:299)\n\tat org.apache.spark.storage.BlockManager$$anonfun$doPutIterator$1.apply(BlockManager.scala:1165)\n\tat org.apache.spark.storage.BlockManager$$anonfun$doPutIterator$1.apply(BlockManager.scala:1156)\n\tat org.apache.spark.storage.BlockManager.doPut(BlockManager.scala:1091)\n\tat org.apache.spark.storage.BlockManager.doPutIterator(BlockManager.scala:1156)\n\tat org.apache.spark.storage.BlockManager.getOrElseUpdate(BlockManager.scala:882)\n\tat org.apache.spark.rdd.RDD.getOrCompute(RDD.scala:335)\n\tat org.apache.spark.rdd.RDD.iterator(RDD.scala:286)\n\tat org.apache.spark.rdd.MapPartitionsRDD.compute(MapPartitionsRDD.scala:52)\n\tat org.apache.spark.rdd.RDD.computeOrReadCheckpoint(RDD.scala:324)\n\tat org.apache.spark.rdd.RDD.iterator(RDD.scala:288)\n\tat org.apache.spark.rdd.MapPartitionsRDD.compute(MapPartitionsRDD.scala:52)\n\tat org.apache.spark.rdd.RDD.computeOrReadCheckpoint(RDD.scala:324)\n\tat org.apache.spark.rdd.RDD.iterator(RDD.scala:288)\n\tat org.apache.spark.rdd.MapPartitionsRDD.compute(MapPartitionsRDD.scala:52)\n\tat org.apache.spark.rdd.RDD.computeOrReadCheckpoint(RDD.scala:324)\n\tat org.apache.spark.rdd.RDD.iterator(RDD.scala:288)\n\tat org.apache.spark.rdd.MapPartitionsRDD.compute(MapPartitionsRDD.scala:52)\n\tat org.apache.spark.rdd.RDD.computeOrReadCheckpoint(RDD.scala:324)\n\tat org.apache.spark.rdd.RDD.iterator(RDD.scala:288)\n\tat org.apache.spark.rdd.MapPartitionsRDD.compute(MapPartitionsRDD.scala:52)\n\tat org.apache.spark.rdd.RDD.computeOrReadCheckpoint(RDD.scala:324)\n\tat org.apache.spark.rdd.RDD.iterator(RDD.scala:288)\n\tat org.apache.spark.rdd.MapPartitionsRDD.compute(MapPartitionsRDD.scala:52)\n\tat org.apache.spark.rdd.RDD.computeOrReadCheckpoint(RDD.scala:324)\n\tat org.apache.spark.rdd.RDD.iterator(RDD.scala:288)\n\tat org.apache.spark.rdd.MapPartitionsRDD.compute(MapPartitionsRDD.scala:52)\n\tat org.apache.spark.rdd.RDD.computeOrReadCheckpoint(RDD.scala:324)\n\tat org.apache.spark.rdd.RDD.iterator(RDD.scala:288)\n\tat org.apache.spark.scheduler.ShuffleMapTask.runTask(ShuffleMapTask.scala:99)\n\tat org.apache.spark.scheduler.ShuffleMapTask.runTask(ShuffleMapTask.scala:55)\n\tat org.apache.spark.scheduler.Task.run(Task.scala:121)\n\tat org.apache.spark.executor.Executor$TaskRunner$$anonfun$10.apply(Executor.scala:408)\n\tat org.apache.spark.util.Utils$.tryWithSafeFinally(Utils.scala:1360)\n\tat org.apache.spark.executor.Executor$TaskRunner.run(Executor.scala:414)\n\tat java.util.concurrent.ThreadPoolExecutor.runWorker(ThreadPoolExecutor.java:1149)\n\tat java.util.concurrent.ThreadPoolExecutor$Worker.run(ThreadPoolExecutor.java:624)\n\t... 1 more\nCaused by: org.apache.spark.SparkException: Encountered null while assembling a row with handleInvalid = \"keep\". Consider\nremoving nulls from dataset or using handleInvalid = \"keep\" or \"skip\".\n\tat org.apache.spark.ml.feature.VectorAssembler$$anonfun$assemble$1.apply(VectorAssembler.scala:287)\n\tat org.apache.spark.ml.feature.VectorAssembler$$anonfun$assemble$1.apply(VectorAssembler.scala:255)\n\tat scala.collection.IndexedSeqOptimized$class.foreach(IndexedSeqOptimized.scala:33)\n\tat scala.collection.mutable.WrappedArray.foreach(WrappedArray.scala:35)\n\tat org.apache.spark.ml.feature.VectorAssembler$.assemble(VectorAssembler.scala:255)\n\tat org.apache.spark.ml.feature.VectorAssembler$$anonfun$4.apply(VectorAssembler.scala:144)\n\tat org.apache.spark.ml.feature.VectorAssembler$$anonfun$4.apply(VectorAssembler.scala:143)\n\t... 44 more\n"
     ]
    }
   ],
   "source": [
    "# random forest\n",
    "rf = RandomForestClassifier(labelCol=\"churn\", featuresCol=\"features\")\n",
    "\n",
    "results = make_prediction(data, rf, paramGrid)"
   ]
  },
  {
   "cell_type": "markdown",
   "metadata": {},
   "source": [
    "It appears that the dataset has some issues with the calcuulated columns. Let's check for nulls in these columns."
   ]
  },
  {
   "cell_type": "code",
   "execution_count": 81,
   "metadata": {},
   "outputs": [
    {
     "name": "stdout",
     "output_type": "stream",
     "text": [
      "nulls: {'days_since_registration': 0, 'avg_songs': 0, 'avg_thumbsUp': 0, 'avg_thumbsDown': 0, 'avg_session_duration': 0, 'avg_session_gap': 15, 'total_upgrades': 0, 'total_downgrades': 0, 'gender': 0, 'level': 0, 'churn': 0}\n"
     ]
    }
   ],
   "source": [
    "# empty dictionary with columns as keys and number of nulls as values\n",
    "nulls = dict()\n",
    "\n",
    "df_try = data.select(\"days_since_registration\", \"avg_songs\", \"avg_thumbsUp\", \"avg_thumbsDown\", \"avg_session_duration\", \n",
    "                     \"avg_session_gap\", \"total_upgrades\", \"total_downgrades\", \"gender\", \"level\", \"churn\")\n",
    "\n",
    "for c in df_try.columns:\n",
    "    # count number of nulls\n",
    "    a = df_try.filter(isnull(c)).count()\n",
    "    nulls[c] = a\n",
    "    \n",
    "\n",
    "print('nulls: {}'.format(nulls))"
   ]
  },
  {
   "cell_type": "markdown",
   "metadata": {},
   "source": [
    "It seems that `avg_session_gap` has some nulls, let's check why."
   ]
  },
  {
   "cell_type": "code",
   "execution_count": 82,
   "metadata": {},
   "outputs": [
    {
     "data": {
      "text/plain": [
       "['125',\n",
       " '133',\n",
       " '300007',\n",
       " '100006',\n",
       " '19',\n",
       " '300024',\n",
       " '135',\n",
       " '156',\n",
       " '100024',\n",
       " '100011',\n",
       " '300003',\n",
       " '100017',\n",
       " '63',\n",
       " '72',\n",
       " '151']"
      ]
     },
     "execution_count": 82,
     "metadata": {},
     "output_type": "execute_result"
    }
   ],
   "source": [
    "# get users that have avg_session_gap null\n",
    "nulls_avg_ses = np.array(df_user.select(\"userId\").filter(isnull(\"avg_session_gap\")).toPandas()['userId'])\n",
    "nulls_avg_ses = list(nulls_avg_ses)\n",
    "nulls_avg_ses              "
   ]
  },
  {
   "cell_type": "markdown",
   "metadata": {},
   "source": [
    "The list above is the list of users with `avg_session_gap` null. Let's see what happens with these users."
   ]
  },
  {
   "cell_type": "code",
   "execution_count": 83,
   "metadata": {},
   "outputs": [
    {
     "data": {
      "text/plain": [
       "[Row(userId='125', sessionId=174, count(page)=11)]"
      ]
     },
     "execution_count": 83,
     "metadata": {},
     "output_type": "execute_result"
    }
   ],
   "source": [
    "print(df.filter(df.userId==\"125\").groupBy(\"userId\", \"sessionId\").agg({\"page\":\"count\"}).count(), \n",
    "df.filter(df.userId==\"133\").groupBy(\"userId\", \"sessionId\").agg({\"page\":\"count\"}).count())"
   ]
  },
  {
   "cell_type": "markdown",
   "metadata": {},
   "source": [
    "The users with null `avg_session_gap` are those who have only one session registered. In order to avoid nulls for the variable, we will set it to 0 for those users with only one session registered."
   ]
  },
  {
   "cell_type": "code",
   "execution_count": 72,
   "metadata": {},
   "outputs": [],
   "source": [
    "# fill nulls with 0\n",
    "df_user = df_user.na.fill(0)\n",
    "\n",
    "# recompose the dataframe\n",
    "ml_df = df_user.join(categorical_df, [df_user.userId == categorical_df.user])\n",
    "\n",
    "numeric_cols = [\"days_since_registration\", \"avg_songs\", \"avg_thumbsUp\", \"avg_thumbsDown\", \"avg_session_duration\", \n",
    "                \"avg_session_gap\", \"total_upgrades\", \"total_downgrades\", \"num_sessions\", \"paid\"]\n",
    "index_cols = [\"gender\", \"level\"]\n",
    "new_ml_df = ml_df.select(\"days_since_registration\", \"avg_songs\", \"avg_thumbsUp\", \"avg_thumbsDown\", \"avg_session_duration\", \n",
    "                         \"avg_session_gap\", \"total_upgrades\", \"total_downgrades\", \"num_sessions\", \"paid\", \"gender\", \"level\", \"churn\")\n",
    "\n",
    "new_ml_df = new_ml_df.persist(pyspark.StorageLevel.MEMORY_AND_DISK)\n",
    "\n",
    "data = assemble_ml_data(numeric_cols, index_cols, new_ml_df)"
   ]
  },
  {
   "cell_type": "code",
   "execution_count": 73,
   "metadata": {},
   "outputs": [
    {
     "data": {
      "text/plain": [
       "Row(days_since_registration=55.64, avg_songs=39.29, avg_thumbsUp=2.43, avg_thumbsDown=0.71, avg_session_duration=2.57, avg_session_gap=173.87, total_upgrades=0, total_downgrades=0, num_sessions=7, paid=0, gender='F', level='free', churn=0, gender_index=1.0, level_index=1.0, gender_index_ohe=SparseVector(2, {1: 1.0}), level_index_ohe=SparseVector(2, {1: 1.0}), vecfeatures=DenseVector([0.0, 1.0, 0.0, 1.0, 55.64, 39.29, 2.43, 0.71, 2.57, 173.87, 0.0, 0.0, 7.0, 0.0]))"
      ]
     },
     "execution_count": 73,
     "metadata": {},
     "output_type": "execute_result"
    }
   ],
   "source": [
    "data.head()"
   ]
  },
  {
   "cell_type": "markdown",
   "metadata": {},
   "source": [
    "Let's feed now the data to the ML models."
   ]
  },
  {
   "cell_type": "markdown",
   "metadata": {},
   "source": [
    "**Random Forest**"
   ]
  },
  {
   "cell_type": "code",
   "execution_count": 74,
   "metadata": {},
   "outputs": [],
   "source": [
    "rf = RandomForestClassifier(labelCol=\"label\", featuresCol=\"features\")\n",
    "\n",
    "model, results = make_prediction(data, rf, paramGrid=None)"
   ]
  },
  {
   "cell_type": "code",
   "execution_count": 76,
   "metadata": {},
   "outputs": [
    {
     "name": "stdout",
     "output_type": "stream",
     "text": [
      "             precision    recall  f1-score   support\n",
      "\n",
      "          0       0.77      1.00      0.87        24\n",
      "          1       1.00      0.30      0.46        10\n",
      "\n",
      "avg / total       0.84      0.79      0.75        34\n",
      "\n"
     ]
    }
   ],
   "source": [
    "evaluation_metrics(results, \"churn\", \"prediction\")"
   ]
  },
  {
   "cell_type": "markdown",
   "metadata": {},
   "source": [
    "**Linear Regression**"
   ]
  },
  {
   "cell_type": "code",
   "execution_count": 77,
   "metadata": {},
   "outputs": [],
   "source": [
    "lr = LogisticRegression(labelCol=\"label\", featuresCol=\"features\")\n",
    "\n",
    "model, results = make_prediction(data, lr, paramGrid=None)"
   ]
  },
  {
   "cell_type": "code",
   "execution_count": 79,
   "metadata": {},
   "outputs": [
    {
     "name": "stdout",
     "output_type": "stream",
     "text": [
      "             precision    recall  f1-score   support\n",
      "\n",
      "          0       0.75      1.00      0.86        24\n",
      "          1       1.00      0.20      0.33        10\n",
      "\n",
      "avg / total       0.82      0.76      0.70        34\n",
      "\n"
     ]
    }
   ],
   "source": [
    "evaluation_metrics(results, \"churn\", \"prediction\")"
   ]
  },
  {
   "cell_type": "markdown",
   "metadata": {},
   "source": [
    "**Linear SVM**"
   ]
  },
  {
   "cell_type": "code",
   "execution_count": 80,
   "metadata": {},
   "outputs": [],
   "source": [
    "LSVC = LinearSVC(labelCol=\"label\", featuresCol=\"features\")\n",
    "\n",
    "model, results = make_prediction(data, LSVC, paramGrid=None)"
   ]
  },
  {
   "cell_type": "code",
   "execution_count": 82,
   "metadata": {},
   "outputs": [
    {
     "name": "stdout",
     "output_type": "stream",
     "text": [
      "             precision    recall  f1-score   support\n",
      "\n",
      "          0       0.77      1.00      0.87        24\n",
      "          1       1.00      0.30      0.46        10\n",
      "\n",
      "avg / total       0.84      0.79      0.75        34\n",
      "\n"
     ]
    }
   ],
   "source": [
    "evaluation_metrics(results, \"churn\", \"prediction\")"
   ]
  },
  {
   "cell_type": "markdown",
   "metadata": {},
   "source": [
    "Let's try with weight column and with parameter tuning."
   ]
  },
  {
   "cell_type": "code",
   "execution_count": 83,
   "metadata": {},
   "outputs": [],
   "source": [
    "data = data.withColumn(\"weight\", label_weight(data.churn))"
   ]
  },
  {
   "cell_type": "markdown",
   "metadata": {},
   "source": [
    "**Linear Regression**"
   ]
  },
  {
   "cell_type": "code",
   "execution_count": 84,
   "metadata": {},
   "outputs": [
    {
     "name": "stdout",
     "output_type": "stream",
     "text": [
      "f1 for Linear Regression with weight column and session:  0.8505718076704365\n"
     ]
    }
   ],
   "source": [
    "lr = LogisticRegression(labelCol=\"label\", featuresCol=\"features\", weightCol=\"weight\")\n",
    "\n",
    "paramGrid = ParamGridBuilder() \\\n",
    "    .addGrid(lr.regParam, [0.0, 0.05, 0.1, 0.5]) \\\n",
    "    .addGrid(lr.threshold,[0.3, 0.5, 0.8]) \\\n",
    "    .build()\n",
    "\n",
    "model, results = make_prediction(data, lr, paramGrid=None)"
   ]
  },
  {
   "cell_type": "code",
   "execution_count": 85,
   "metadata": {},
   "outputs": [
    {
     "name": "stdout",
     "output_type": "stream",
     "text": [
      "             precision    recall  f1-score   support\n",
      "\n",
      "          0       0.88      0.92      0.90        24\n",
      "          1       0.78      0.70      0.74        10\n",
      "\n",
      "avg / total       0.85      0.85      0.85        34\n",
      "\n"
     ]
    }
   ],
   "source": [
    "evaluation_metrics(results, \"churn\", \"prediction\")"
   ]
  },
  {
   "cell_type": "code",
   "execution_count": 86,
   "metadata": {},
   "outputs": [
    {
     "data": {
      "text/plain": [
       "{Param(parent='LogisticRegression_e2fc425c8b16', name='aggregationDepth', doc='suggested depth for treeAggregate (>= 2)'): 2,\n",
       " Param(parent='LogisticRegression_e2fc425c8b16', name='elasticNetParam', doc='the ElasticNet mixing parameter, in range [0, 1]. For alpha = 0, the penalty is an L2 penalty. For alpha = 1, it is an L1 penalty'): 0.0,\n",
       " Param(parent='LogisticRegression_e2fc425c8b16', name='family', doc='The name of family which is a description of the label distribution to be used in the model. Supported options: auto, binomial, multinomial.'): 'auto',\n",
       " Param(parent='LogisticRegression_e2fc425c8b16', name='featuresCol', doc='features column name'): 'features',\n",
       " Param(parent='LogisticRegression_e2fc425c8b16', name='fitIntercept', doc='whether to fit an intercept term'): True,\n",
       " Param(parent='LogisticRegression_e2fc425c8b16', name='labelCol', doc='label column name'): 'label',\n",
       " Param(parent='LogisticRegression_e2fc425c8b16', name='maxIter', doc='maximum number of iterations (>= 0)'): 100,\n",
       " Param(parent='LogisticRegression_e2fc425c8b16', name='predictionCol', doc='prediction column name'): 'prediction',\n",
       " Param(parent='LogisticRegression_e2fc425c8b16', name='probabilityCol', doc='Column name for predicted class conditional probabilities. Note: Not all models output well-calibrated probability estimates! These probabilities should be treated as confidences, not precise probabilities'): 'probability',\n",
       " Param(parent='LogisticRegression_e2fc425c8b16', name='rawPredictionCol', doc='raw prediction (a.k.a. confidence) column name'): 'rawPrediction',\n",
       " Param(parent='LogisticRegression_e2fc425c8b16', name='regParam', doc='regularization parameter (>= 0)'): 0.0,\n",
       " Param(parent='LogisticRegression_e2fc425c8b16', name='standardization', doc='whether to standardize the training features before fitting the model'): True,\n",
       " Param(parent='LogisticRegression_e2fc425c8b16', name='threshold', doc='threshold in binary classification prediction, in range [0, 1]'): 0.5,\n",
       " Param(parent='LogisticRegression_e2fc425c8b16', name='tol', doc='the convergence tolerance for iterative algorithms (>= 0)'): 1e-06,\n",
       " Param(parent='LogisticRegression_e2fc425c8b16', name='weightCol', doc='weight column name. If this is not set or empty, we treat all instance weights as 1.0'): 'weight'}"
      ]
     },
     "execution_count": 86,
     "metadata": {},
     "output_type": "execute_result"
    }
   ],
   "source": [
    "model.stages[-1].extractParamMap()"
   ]
  },
  {
   "cell_type": "markdown",
   "metadata": {},
   "source": [
    "**Linear SVM**"
   ]
  },
  {
   "cell_type": "code",
   "execution_count": null,
   "metadata": {},
   "outputs": [],
   "source": [
    "LSVC = LinearSVC(labelCol=\"label\", featuresCol=\"features\", weightCol=\"weight\")\n",
    "\n",
    "# paramGrid = ParamGridBuilder() \\\n",
    "#     .addGrid(LSVC.maxIter, [5,10, 15]) \\\n",
    "#     .addGrid(LSVC.regParam, [0.0, 0.05, 0.1]) \\\n",
    "#     .build()\n",
    "\n",
    "model, results = make_prediction(data, LSVC, paramGrid=None)\n",
    "f1 = MulticlassClassificationEvaluator().evaluate(results.withColumnRenamed(\"churn\", \"label\"))\n",
    "print(\"f1 for Linear SVM with weight column and session: \", f1)"
   ]
  },
  {
   "cell_type": "code",
   "execution_count": null,
   "metadata": {},
   "outputs": [],
   "source": [
    "evaluation_metrics(results, \"churn\", \"prediction\")"
   ]
  },
  {
   "cell_type": "code",
   "execution_count": null,
   "metadata": {},
   "outputs": [],
   "source": [
    "model.stages[-1].extractParamMap()"
   ]
  },
  {
   "cell_type": "markdown",
   "metadata": {},
   "source": [
    "The best results in terms of all metrics are given by Linear Regression, by considering label weights and also variables related to sessions, like `avg_session_gap`, as features, i.e. the second approach illustrated in this notebook."
   ]
  },
  {
   "cell_type": "markdown",
   "metadata": {},
   "source": [
    "# Putting All Together"
   ]
  },
  {
   "cell_type": "markdown",
   "metadata": {},
   "source": [
    "Now that the whole process has been unpacked, from the preliminary data analysis to the model setup and tuning, let's put everything together."
   ]
  },
  {
   "cell_type": "code",
   "execution_count": 7,
   "metadata": {},
   "outputs": [],
   "source": [
    "# create a Spark session\n",
    "spark = SparkSession \\\n",
    "    .builder \\\n",
    "    .appName(\"Churn Prediction\") \\\n",
    "    .getOrCreate()\n",
    "\n",
    "# read in the data\n",
    "path = \"mini_sparkify_event_data.json\"\n",
    "df = spark.read.json(path)\n",
    "\n",
    "# filter out rows with no user id\n",
    "df = df.filter(df.userId != \"\")"
   ]
  },
  {
   "cell_type": "code",
   "execution_count": 8,
   "metadata": {},
   "outputs": [],
   "source": [
    "# mark as churn those records with Cancellation Confirmation\n",
    "make_churn = udf(lambda x: 1 if x==\"Cancellation Confirmation\" else 0, IntegerType())\n",
    "df = df.withColumn(\"churn\", make_churn(df.page))"
   ]
  },
  {
   "cell_type": "code",
   "execution_count": 18,
   "metadata": {},
   "outputs": [],
   "source": [
    "# get lists of churn and not churn users, churn users have churn=1, whereas not churn users have churn=0\n",
    "churn_users = np.array(df.select(\"userId\").filter(df.churn==1).dropDuplicates().toPandas()[\"userId\"])\n",
    "users = np.array(df.select(\"userId\").filter(df.churn==0).dropDuplicates().toPandas()[\"userId\"])\n",
    "not_churn_users = np.setdiff1d(users, churn_users)\n",
    "\n",
    "not_churn_users = list(not_churn_users)\n",
    "churn_users = list(churn_users)\n",
    "n_churn_users = len(churn_users)\n",
    "n_not_churn_users = len(not_churn_users)"
   ]
  },
  {
   "cell_type": "code",
   "execution_count": 21,
   "metadata": {},
   "outputs": [],
   "source": [
    "# define function to preprocess data\n",
    "def preprocess_data(df):\n",
    "\n",
    "    lookup = df.groupby(\"userId\").agg({\"ts\":\"max\"}).withColumnRenamed(\"MAX(ts)\", \"time\").withColumnRenamed(\"userId\", \"user\")\n",
    "    categorical_df = df.join(lookup, [df.ts == lookup.time, df.userId == lookup.user])\n",
    "\n",
    "    # calculate the difference in timestamp of each record from the registration timestamp\n",
    "    categorical_df = categorical_df.withColumn(\"rgstr_time\", col(\"ts\") - col(\"registration\"))\n",
    "\n",
    "    # define a user funtion that transforms timestamp in days\n",
    "    diff_days = udf(lambda x: round(x/1000.0/3600.0/24.0, 2), DoubleType())\n",
    "\n",
    "    # calculate the new column\n",
    "    categorical_df = categorical_df.withColumn(\"days_since_registration\", diff_days(categorical_df.rgstr_time))\n",
    "    categorical_df = categorical_df.select(\"gender\", \"location\", \"level\", \"userAgent\", \"user\", # select only relevant columns\n",
    "                                       \"days_since_registration\").dropDuplicates()\n",
    "\n",
    "    # the user defined functions are the same as above\n",
    "    is_thumbs_up = udf(lambda x: 1 if x == \"Thumbs Up\" else 0, IntegerType())\n",
    "    is_thumbs_down = udf(lambda x: 1 if x == \"Thumbs Down\" else 0, IntegerType())\n",
    "    has_upgraded = udf(lambda x: 1 if x == \"Submit Upgrade\" else 0, IntegerType())\n",
    "    has_downgraded = udf(lambda x: 1 if x == \"Submit Downgrade\" else 0, IntegerType())\n",
    "    is_song = udf(lambda x: 1 if x is not None else 0, IntegerType())\n",
    "    has_been_paid = udf(lambda x:1 if x == \"paid\" else 0, IntegerType())\n",
    "\n",
    "    df_ses = df.withColumn(\"thumbsUp\", is_thumbs_up(df.page))\\\n",
    "        .withColumn(\"thumbsDown\", is_thumbs_down(df.page))\\\n",
    "        .withColumn(\"upgraded\", has_upgraded(df.page))\\\n",
    "        .withColumn(\"downgraded\", has_downgraded(df.page))\\\n",
    "        .withColumn(\"songCheck\", is_song(df.song))\\\n",
    "        .withColumn(\"paid\", has_been_paid(df.level))\n",
    "\n",
    "    df_ses = df_ses.select(\"userId\", \"sessionId\", \"churn\", \"ts\", \"thumbsUp\", \"thumbsDown\",\n",
    "                  \"upgraded\", \"downgraded\", \"songCheck\", \"paid\") # no use of song length because of correlation seen before\n",
    "\n",
    "    # the group by is now done both at the user and session level\n",
    "    df_user_ses = df_ses.groupby(\"userId\", \"sessionId\").agg(max(\"churn\").alias(\"churn\"),\\\n",
    "                                          min(\"ts\").alias(\"ses_start\"),\\\n",
    "                                          max(\"ts\").alias(\"ses_end\"),\\\n",
    "                                          Fsum(\"thumbsUp\").alias(\"thumbsUp\"),\\\n",
    "                                          Fsum(\"thumbsDown\").alias(\"thumbsDown\"),\\\n",
    "                                          Fsum(\"upgraded\").alias(\"upgraded\"),\\\n",
    "                                          Fsum(\"downgraded\").alias(\"downgraded\"),\\\n",
    "                                          Fsum(\"songCheck\").alias(\"num_songs\"),\\\n",
    "                                          max(\"paid\").alias(\"paid\"))\n",
    "\n",
    "    df_user_ses = df_user_ses.withColumn(\"sessionDuration_hours\", (col(\"ses_end\") - col(\"ses_start\"))/1000.0/3600.0)\n",
    "\n",
    "    # create window function\n",
    "    user_window = Window \\\n",
    "       .partitionBy(\"userID\") \\\n",
    "       .orderBy(asc(\"ses_start\"))\n",
    "\n",
    "    # get the timestamp at the end of the previous session\n",
    "    df_user_ses = df_user_ses.withColumn(\"prev_ses_end\", lag(col(\"ses_end\")).over(user_window))\n",
    "    # calculate session gap as the difference between the start date of the current session and the end date of the previous one\n",
    "    df_user_ses = df_user_ses.withColumn(\"sessiongap_hours\", (col(\"ses_start\") - col(\"prev_ses_end\"))/1000.0/3600.0)\n",
    "\n",
    "    # summarize all the features as average per session\n",
    "    df_user = df_user_ses.groupby(\"userId\").agg(max(\"churn\").alias(\"churn\"),\\\n",
    "                                   count(\"sessionId\").alias(\"num_sessions\"),\\\n",
    "                                   Fround(avg(\"thumbsUp\"),2).alias(\"avg_thumbsUp\"),\\\n",
    "                                   Fround(avg(\"thumbsDown\"),2).alias(\"avg_thumbsDown\"),\\\n",
    "                                   Fsum(\"upgraded\").alias(\"total_upgrades\"),\\\n",
    "                                   Fsum(\"downgraded\").alias(\"total_downgrades\"),\\\n",
    "                                   Fround(avg(\"num_songs\"),2).alias(\"avg_songs\"),\\\n",
    "                                   Fround(avg(\"sessionDuration_hours\"),2).alias(\"avg_session_duration\"),\\\n",
    "                                   Fround(avg(\"sessiongap_hours\"),2).alias(\"avg_session_gap\"),\\\n",
    "                                   max(\"paid\").alias(\"paid\"))\n",
    "\n",
    "    ml_df = df_user.join(categorical_df, [df_user.userId == categorical_df.user])\n",
    "    ml_df = ml_df.na.fill(0)\n",
    "\n",
    "    new_ml_df = ml_df.select(\"days_since_registration\", \"avg_songs\", \"avg_thumbsUp\", \"avg_thumbsDown\", \"avg_session_duration\", \n",
    "                         \"avg_session_gap\", \"total_upgrades\", \"total_downgrades\", \"num_sessions\", \"paid\", \"gender\", \"level\", \"churn\")\n",
    "\n",
    "    new_ml_df = new_ml_df.persist(pyspark.StorageLevel.MEMORY_AND_DISK)\n",
    "    \n",
    "    return new_ml_df"
   ]
  },
  {
   "cell_type": "code",
   "execution_count": 22,
   "metadata": {},
   "outputs": [],
   "source": [
    "new_ml_df = preprocess_data(df)"
   ]
  },
  {
   "cell_type": "code",
   "execution_count": 23,
   "metadata": {},
   "outputs": [],
   "source": [
    "numeric_cols = [\"days_since_registration\", \"avg_songs\", \"avg_thumbsUp\", \"avg_thumbsDown\", \"avg_session_duration\", \n",
    "                \"avg_session_gap\", \"total_upgrades\", \"total_downgrades\", \"num_sessions\", \"paid\"]\n",
    "index_cols = [\"gender\", \"level\"]\n",
    "\n",
    "data = assemble_ml_data(numeric_cols, index_cols, new_ml_df)\n",
    "\n",
    "# let's calculate weights for churn and not churn users\n",
    "churn_weight = n_not_churn_users/(n_churn_users + n_not_churn_users)\n",
    "not_churn_weight = n_churn_users/(n_churn_users + n_not_churn_users)\n",
    "\n",
    "# get weight column for the dataframe\n",
    "label_weight = udf(lambda x: churn_weight if x==1 else not_churn_weight, DoubleType())\n",
    "\n",
    "data = data.withColumn(\"weight\", label_weight(data.churn))"
   ]
  },
  {
   "cell_type": "code",
   "execution_count": 24,
   "metadata": {},
   "outputs": [],
   "source": [
    "lr = LogisticRegression(labelCol=\"label\", featuresCol=\"features\", weightCol=\"weight\", regParam=0.0, threshold=0.5)\n",
    "\n",
    "model, results = make_prediction(data, lr, paramGrid=None)"
   ]
  },
  {
   "cell_type": "code",
   "execution_count": 25,
   "metadata": {},
   "outputs": [
    {
     "name": "stdout",
     "output_type": "stream",
     "text": [
      "Accuracy:  0.8529411764705882\n",
      "             precision    recall  f1-score   support\n",
      "\n",
      "          0       0.88      0.92      0.90        24\n",
      "          1       0.78      0.70      0.74        10\n",
      "\n",
      "avg / total       0.85      0.85      0.85        34\n",
      "\n"
     ]
    }
   ],
   "source": [
    "evaluation_metrics(results, \"churn\", \"prediction\")"
   ]
  },
  {
   "cell_type": "markdown",
   "metadata": {},
   "source": [
    "|model|accuracy|precision|recall|f1 score|\n",
    "|---|---|---|---|---|\n",
    "|LR|0.85|0.85|0.85|0.85|"
   ]
  },
  {
   "cell_type": "code",
   "execution_count": null,
   "metadata": {},
   "outputs": [],
   "source": []
  }
 ],
 "metadata": {
  "kernelspec": {
   "display_name": "Python 3",
   "language": "python",
   "name": "python3"
  },
  "language_info": {
   "codemirror_mode": {
    "name": "ipython",
    "version": 3
   },
   "file_extension": ".py",
   "mimetype": "text/x-python",
   "name": "python",
   "nbconvert_exporter": "python",
   "pygments_lexer": "ipython3",
   "version": "3.6.3"
  }
 },
 "nbformat": 4,
 "nbformat_minor": 2
}
